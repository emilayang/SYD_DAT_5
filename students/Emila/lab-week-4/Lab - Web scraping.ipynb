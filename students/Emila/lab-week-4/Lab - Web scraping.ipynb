{
 "cells": [
  {
   "cell_type": "markdown",
   "metadata": {},
   "source": [
    "# Data Acquisition Lab\n",
    "\n",
    "This lab is divided into short sections, one for each section of theory."
   ]
  },
  {
   "cell_type": "markdown",
   "metadata": {},
   "source": [
    "## Accessing Unprotected Web pages"
   ]
  },
  {
   "cell_type": "code",
   "execution_count": 1,
   "metadata": {
    "collapsed": true
   },
   "outputs": [],
   "source": [
    "# import the Python requests library so that you can use it in your program\n",
    "import requests"
   ]
  },
  {
   "cell_type": "code",
   "execution_count": 3,
   "metadata": {
    "collapsed": true
   },
   "outputs": [],
   "source": [
    "# Go to the Australian Bureau of Meteorology website and work out which page corresponds to the\n",
    "# Sydney weather forecast. Store that in a variable here\n",
    "url = 'http://www.bom.gov.au/nsw/forecasts/sydney.shtml'"
   ]
  },
  {
   "cell_type": "code",
   "execution_count": 4,
   "metadata": {
    "collapsed": true
   },
   "outputs": [],
   "source": [
    "# Use the requests.get() method to fetch that page\n",
    "weather = requests.get(url)"
   ]
  },
  {
   "cell_type": "code",
   "execution_count": 6,
   "metadata": {
    "collapsed": false
   },
   "outputs": [
    {
     "data": {
      "text/plain": [
       "200"
      ]
     },
     "execution_count": 6,
     "metadata": {},
     "output_type": "execute_result"
    }
   ],
   "source": [
    "# Did that succeed? What was the .status_code?\n",
    "weather.status_code"
   ]
  },
  {
   "cell_type": "code",
   "execution_count": 10,
   "metadata": {
    "collapsed": false
   },
   "outputs": [
    {
     "data": {
      "text/plain": [
       "u'<!DOCTYPE html PUBLIC \"-//W3C//DTD XHTML 1.0 Transitional//EN\" \"http://www.w3.org/TR/xhtml1/DTD/xhtml1-transitional.dtd\">\\n<html xmlns=\"http://www.w3.org/1999/xhtml\" xml:lang=\"en-AU\" lang=\"en\">\\n<!--Page: pgn_sydney_forecast-->\\n  <head>\\n\\n    <meta http-equiv=\"Content-Type\" content=\"text/html; charset=ISO-8859-1\" />\\n    <meta name=\"language\" content=\"english\" />\\n    <title>Sydney Forecast</title>\\n    <link rel=\"Schema.AGLS\" href=\"http://www.naa.gov.au/recordkeeping/gov_online/agls/1.2\" />\\n    <meta name=\"DC.Publisher\" content=\"corporateName=Bureau of Meteorology\" />\\n    <meta name=\"DC.Format\" content=\"text/html\" />\\n    <meta name=\"DC.Coverage.jurisdiction\" content=\"Commonwealth of Australia\" />\\n    <meta name=\"DC.Rights\" scheme=\"URI\" content=\"http://www.bom.gov.au/other/copyright.shtml\" />\\n    <meta name=\"DC.Language\" scheme=\"RFC1766\" content=\"en\" />\\n    <meta name=\"AGLS.Audience\" scheme=\"BoM_audience list\" content=\"All\" />\\n    <link rel=\"image_src\" href=\"http://www.bom.gov.au/images/ui/bom_logo_social.gif\" />\\n    <link rel=\"stylesheet\" type=\"text/css\" href=\"/css/core.css\" />\\n<!--[if lte IE 7]><link rel=\"stylesheet\" type=\"text/css\" href=\"/css/core-ie.css\" /><![endif]-->\\n    <link rel=\"stylesheet\" type=\"text/css\" href=\"/css/weather/gfe.css\" />\\n    <script type=\"text/javascript\" src=\"/scripts/utilities.js\"></script>\\n    <script type=\"text/javascript\" src=\"/libs/jquery/1.7.1/jquery.min.js\"></script>\\n    <script type=\"text/javascript\" src=\"/libs/jquery/external/plugins/superfish/1.4.8/superfish.js\"></script>\\n    <script type=\"text/javascript\" src=\"/libs/jquery/external/plugins/superfish/1.4.8/hoverIntent.js\"></script>\\n    <script type=\"text/javascript\" src=\"/scripts/header-menus.js\"></script>\\n  </head>\\n  <body>\\n<ul id=\"jumplinks\">\\n\\t\\t<li><a href=\"#content\">Skip to main content</a></li>\\n\\t</ul>\\n\\n    <!-- Start: PageHeight -->\\n    <div id=\"pageheight\">\\n\\t  <div id=\"pagewrap\">\\n      <!-- Start: Header -->\\n      <div id=\"header\">\\n\\t\\t<div class=\"l_content\">\\n\\t\\t\\t<div id=\"header-logo\">\\n\\t\\t\\t\\t<img class=\"bannerprint\" width=\"1\" height=\"1\" alt=\"Print Background\" src=\"http://ws.cdn.bom.gov.au/images/ui/bannerprint.gif\" />\\n\\t\\t\\t\\t<a id=\"logo\" href=\"/?ref=logo\"><img src=\"http://ws.cdn.bom.gov.au/images/ui/bom_logo_clr.gif\" title=\"Australian Government - Bureau of Meteorology\" alt=\"Australian Government - Bureau of Meteorology\" /></a>\\n\\t\\t\\t</div>\\n\\t\\t\\t<div id=\"header-main\">\\n\\t\\t\\t\\t<div class=\"l_top\">\\n\\t\\t\\t\\t\\t<div id=\"header-search\">\\n\\t\\t\\t\\t\\t\\t<form action=\"http://search.bom.gov.au/s/search.html\" method=\"get\" class=\"searchform\" enctype=\"application/x-www-form-urlencoded\">\\n\\t\\t\\t\\t\\t\\t\\t<label for=\"query\">Search</label><input type=\"text\" id=\"query\" name=\"query\" size=\"30\" value=\"\" />\\n\\t\\t\\t\\t\\t\\t\\t<input type=\"hidden\" name=\"collection\" value=\"bom\" />\\n\\t\\t\\t\\t\\t\\t\\t<input type=\"submit\" value=\"Search\" name=\"Submit\" title=\"Search\" class=\"search\" />\\n\\t\\t\\t\\t\\t\\t</form>\\n\\t\\t\\t\\t\\t</div>\\n\\t\\t\\t\\t\\t<ul>\\n\\t\\t\\t\\t\\t\\t<li><a href=\"/?ref=hdr\">Home</a></li>\\n\\t\\t\\t\\t\\t\\t<li><a href=\"/inside/index.shtml?ref=hdr\">About</a></li>\\n                                                <li><a href=\"http://media.bom.gov.au/\">Media</a></li>\\n\\t\\t\\t\\t\\t\\t<li class=\"last\"><a href=\"/inside/contacts.shtml?ref=hdr\">Contacts</a></li>\\n\\t\\t\\t\\t\\t</ul>\\n\\t\\t\\t\\t</div>\\n\\t\\t\\t\\t<div class=\"l_bottom\">\\n\\t\\t\\t\\t\\t<ul class=\"sf-menu\">\\n\\t\\t\\t\\t\\t\\t<li id=\"sf-menu-nsw\">\\n\\t\\t\\t\\t\\t\\t\\t<abbr title=\"New South Wales\"><a href=\"/nsw/?ref=hdr\" title=\"New South Wales\">NSW</a></abbr>\\n\\t\\t\\t\\t\\t\\t\\t<ul>\\n\\t\\t\\t\\t\\t\\t\\t\\t<li class=\"decoration\"><img src=\"http://ws.cdn.bom.gov.au/images/weather/nsw-thumb.png\" alt=\"\" /></li>\\n\\t\\t\\t\\t\\t\\t\\t\\t<li class=\"heading\"><a href=\"/nsw/index.shtml?ref=hdr\" title=\"New South Wales Weather and Warnings\">NSW Weather &amp; Warnings</a></li>\\n\\t\\t\\t\\t\\t\\t\\t\\t<li><a href=\"/nsw/warnings/index.shtml?ref=hdr\" title=\"New South Wales Warnings Summary\">Warnings Summary</a></li>\\n\\t\\t\\t\\t\\t\\t\\t\\t<li><a href=\"/nsw/forecasts/index.shtml?ref=hdr\" title=\"New South Wales Forecasts\">Forecasts</a></li>\\n\\t\\t\\t\\t\\t\\t\\t\\t<li><a href=\"/nsw/forecasts/sydney.shtml?ref=hdr\" title=\"Sydney Forecast\">Sydney Forecast</a></li>\\n\\t\\t\\t\\t\\t\\t\\t\\t<li><a href=\"/nsw/forecasts/map.shtml?ref=hdr\" title=\"New South Wales Forecast Area Map\">NSW Forecast Area Map</a></li>\\n\\t\\t\\t\\t\\t\\t\\t\\t<li><a href=\"/nsw/observations/index.shtml?ref=hdr\" title=\"New South Wales Weather Observations\">Observations</a></li>\\n\\t\\t\\t\\t\\t\\t\\t\\t<li><a href=\"/nsw/observations/sydney.shtml?ref=hdr\" title=\"Latest Weather Observations for the Sydney Area\">Sydney Observations</a></li>\\n\\t\\t\\t\\t\\t\\t\\t\\t<li><a href=\"/nsw/observations/nswall.shtml?ref=hdr\" title=\"Latest Weather Observations for New South Wales\">All NSW Observations</a></li>\\n\\t\\t\\t\\t\\t\\t\\t\\t<li class=\"last\"><a href=\"/nsw/flood/index.shtml?ref=hdr\" title=\"New South Wales Rainfall and River Conditions\">Rainfall &amp; River Conditions</a></li>\\n\\t\\t\\t\\t\\t\\t\\t</ul>\\n\\t\\t\\t\\t\\t\\t\\t<div class=\"sf-menu-pointer\"></div>\\n\\t\\t\\t\\t\\t\\t</li>\\n\\t\\t\\t\\t\\t\\t<li id=\"sf-menu-vic\">\\n\\t\\t\\t\\t\\t\\t\\t<abbr title=\"Victoria\"><a href=\"/vic/?ref=hdr\" title=\"Victoria\">VIC</a></abbr>\\n\\t\\t\\t\\t\\t\\t\\t<ul>\\n\\t\\t\\t\\t\\t\\t\\t\\t<li class=\"decoration\"><img src=\"http://ws.cdn.bom.gov.au/images/weather/vic-thumb.png\" alt=\"\" /></li>\\n\\t\\t\\t\\t\\t\\t\\t\\t<li class=\"heading\"><a href=\"/vic/index.shtml?ref=hdr\" title=\"Victorian Weather and Warnings\">VIC Weather &amp; Warnings</a></li>\\n\\t\\t\\t\\t\\t\\t\\t\\t<li><a href=\"/vic/warnings/index.shtml?ref=hdr\" title=\"Victorian Warnings Summary\">Warnings Summary</a></li>\\n\\t\\t\\t\\t\\t\\t\\t\\t<li><a href=\"/vic/forecasts/index.shtml?ref=hdr\" title=\"Victorian Forecasts\">Forecasts</a></li>\\n\\t\\t\\t\\t\\t\\t\\t\\t<li><a href=\"/vic/forecasts/melbourne.shtml?ref=hdr\" title=\"Melbourne Forecast\">Melbourne Forecast</a></li>\\n\\t\\t\\t\\t\\t\\t\\t\\t<li><a href=\"/vic/forecasts/map.shtml?ref=hdr\" title=\"Victorian Forecast Areas Map\">Vic. Forecast Areas Map</a></li>\\n\\t\\t\\t\\t\\t\\t\\t\\t<li><a href=\"/vic/observations/index.shtml?ref=hdr\" title=\"Victorian Observations\">Observations</a></li>\\n\\t\\t\\t\\t\\t\\t\\t\\t<li><a href=\"/vic/observations/melbourne.shtml?ref=hdr\" title=\"Latest Weather Observations for the Melbourne Area\">Melbourne Observations</a></li>\\n\\t\\t\\t\\t\\t\\t\\t\\t<li><a href=\"/vic/observations/vicall.shtml?ref=hdr\" title=\"Latest Weather Observations for Victoria\">All Victorian Observations</a></li>\\n\\t\\t\\t\\t\\t\\t\\t\\t<li class=\"last\"><a href=\"/vic/flood/index.shtml?ref=hdr\" title=\"Victoria Rainfall and River Conditions\">Rainfall &amp; River Conditions</a></li>\\n\\t\\t\\t\\t\\t\\t\\t</ul>\\n\\t\\t\\t\\t\\t\\t\\t<div class=\"sf-menu-pointer\"></div>\\n\\t\\t\\t\\t\\t\\t</li>\\n\\t\\t\\t\\t\\t\\t<li id=\"sf-menu-qld\">\\n\\t\\t\\t\\t\\t\\t\\t<abbr title=\"Queensland\"><a href=\"/qld/?ref=hdr\" title=\"Queensland\">QLD</a></abbr>\\n\\t\\t\\t\\t\\t\\t\\t<ul>\\n\\t\\t\\t\\t\\t\\t\\t\\t<li class=\"decoration\"><img src=\"http://ws.cdn.bom.gov.au/images/weather/qld-thumb.png\" alt=\"\" /></li>\\n\\t\\t\\t\\t\\t\\t\\t\\t<li class=\"heading\"><a href=\"/qld/index.shtml?ref=hdr\" title=\"Queensland Weather and Warnings\">QLD Weather &amp; Warnings</a></li>\\n\\t\\t\\t\\t\\t\\t\\t\\t<li><a href=\"/qld/warnings/index.shtml?ref=hdr\" title=\"Queensland Warnings Summary\">Warnings Summary</a></li>\\n\\t\\t\\t\\t\\t\\t\\t\\t<li><a href=\"/qld/forecasts/index.shtml?ref=hdr\" title=\"Queensland Forecasts\">Forecasts</a></li>\\n\\t\\t\\t\\t\\t\\t\\t\\t<li><a href=\"/qld/forecasts/brisbane.shtml?ref=hdr\" title=\"Brisbane Forecast\">Brisbane Forecast</a></li>\\n\\t\\t\\t\\t\\t\\t\\t\\t<li><a href=\"/qld/forecasts/map.shtml?ref=hdr\" title=\"Queensland Forecast Areas Map\">Qld. Forecast Areas Map</a></li>\\n\\t\\t\\t\\t\\t\\t\\t\\t<li><a href=\"/qld/observations/index.shtml?ref=hdr\" title=\"Queensland Observations\">Observations</a></li>\\n\\t\\t\\t\\t\\t\\t\\t\\t<li><a href=\"/qld/observations/brisbane.shtml?ref=hdr\" title=\"Latest Weather Observations for the Brisbane Area\">Brisbane Observations</a></li>\\n\\t\\t\\t\\t\\t\\t\\t\\t<li><a href=\"/qld/observations/qldall.shtml?ref=hdr\" title=\"Latest Weather Observations for Queensland\">All Queensland Observations</a></li>\\n\\t\\t\\t\\t\\t\\t\\t\\t<li class=\"last\"><a href=\"/qld/flood/index.shtml?ref=hdr\" title=\"Queensland Rainfall and River Conditions\">Rainfall &amp; River Conditions</a></li>\\n\\t\\t\\t\\t\\t\\t\\t</ul>\\n\\t\\t\\t\\t\\t\\t\\t<div class=\"sf-menu-pointer\"></div>\\n\\t\\t\\t\\t\\t\\t</li>\\n\\t\\t\\t\\t\\t\\t<li id=\"sf-menu-wa\">\\n\\t\\t\\t\\t\\t\\t\\t<abbr title=\"Western Australia\"><a href=\"/wa/?ref=hdr\" title=\"Western Australia\">WA</a></abbr>\\n\\t\\t\\t\\t\\t\\t\\t<ul>\\n\\t\\t\\t\\t\\t\\t\\t\\t<li class=\"decoration\"><img src=\"http://ws.cdn.bom.gov.au/images/weather/wa-thumb.png\" alt=\"\" /></li>\\n\\t\\t\\t\\t\\t\\t\\t\\t<li class=\"heading\"><a href=\"/wa/index.shtml?ref=hdr\" title=\"Western Australia Weather and Warnings\">WA Weather &amp; Warnings</a></li>\\n\\t\\t\\t\\t\\t\\t\\t\\t<li><a href=\"/wa/warnings/index.shtml?ref=hdr\" title=\"Western Australia Warnings Summary\">Warnings Summary</a></li>\\n\\t\\t\\t\\t\\t\\t\\t\\t<li><a href=\"/wa/forecasts/index.shtml?ref=hdr\" title=\"Western Australia Forecasts\">Forecasts</a></li>\\n\\t\\t\\t\\t\\t\\t\\t\\t<li><a href=\"/wa/forecasts/perth.shtml?ref=hdr\" title=\"Perth Forecast\">Perth Forecast</a></li>\\n\\t\\t\\t\\t\\t\\t\\t\\t<li><a href=\"/wa/forecasts/map.shtml?ref=hdr\" title=\"Western Australian Forecast Areas Map\">WA Forecast Areas Map</a></li>\\n\\t\\t\\t\\t\\t\\t\\t\\t<li><a href=\"/wa/observations/index.shtml?ref=hdr\" title=\"Western Australia Observations\">Observations</a></li>\\n\\t\\t\\t\\t\\t\\t\\t\\t<li><a href=\"/wa/observations/perth.shtml?ref=hdr\" title=\"Latest Weather Observations for the Perth Area\">Perth Observations</a></li>\\n\\t\\t\\t\\t\\t\\t\\t\\t<li><a href=\"/wa/observations/waall.shtml?ref=hdr\" title=\"Latest Weather Observations for Western Australia\">All WA Observations</a></li>\\n\\t\\t\\t\\t\\t\\t\\t\\t<li class=\"last\"><a href=\"/wa/flood/index.shtml?ref=hdr\" title=\"Western Australia Rainfall and River Conditions\">Rainfall &amp; River Conditions</a></li>\\n\\t\\t\\t\\t\\t\\t\\t</ul>\\n\\t\\t\\t\\t\\t\\t\\t<div class=\"sf-menu-pointer\"></div>\\n\\t\\t\\t\\t\\t\\t</li>\\n\\t\\t\\t\\t\\t\\t<li id=\"sf-menu-sa\">\\n\\t\\t\\t\\t\\t\\t\\t<abbr title=\"South Australia\"><a href=\"/sa/?ref=hdr\" title=\"South Australia\">SA</a></abbr>\\n\\t\\t\\t\\t\\t\\t\\t<ul>\\n\\t\\t\\t\\t\\t\\t\\t\\t<li class=\"decoration\"><img src=\"http://ws.cdn.bom.gov.au/images/weather/sa-thumb.png\" alt=\"\" /></li>\\n\\t\\t\\t\\t\\t\\t\\t\\t<li class=\"heading\"><a href=\"/sa/index.shtml?ref=hdr\" title=\"South Australian Weather and Warnings\">SA Weather &amp; Warnings</a></li>\\n\\t\\t\\t\\t\\t\\t\\t\\t<li><a href=\"/sa/warnings/index.shtml?ref=hdr\" title=\"Warnings for South Australia\">Warnings Summary</a></li>\\n\\t\\t\\t\\t\\t\\t\\t\\t<li><a href=\"/sa/forecasts/index.shtml?ref=hdr\" title=\"South Australian Forecasts\">Forecasts</a></li>\\n\\t\\t\\t\\t\\t\\t\\t\\t<li><a href=\"/sa/forecasts/adelaide.shtml?ref=hdr\" title=\"Adelaide Forecast\">Adelaide Forecast</a></li>\\n\\t\\t\\t\\t\\t\\t\\t\\t<li><a href=\"/sa/forecasts/map.shtml?ref=hdr\" title=\"South Australia Forecast Area Map\">SA Forecast Area Map</a></li>\\n\\t\\t\\t\\t\\t\\t\\t\\t<li><a href=\"/sa/observations/index.shtml?ref=hdr\" title=\"South Australian Observations\">Observations</a></li>\\n\\t\\t\\t\\t\\t\\t\\t\\t<li><a href=\"/sa/observations/adelaide.shtml?ref=hdr\" title=\"Latest Weather Observations for the Adelaide Area\">Adelaide Observations</a></li>\\n\\t\\t\\t\\t\\t\\t\\t\\t<li><a href=\"/sa/observations/saall.shtml?ref=hdr\" title=\"Latest Weather Observations for South Australia\">All SA Observations</a></li>\\n\\t\\t\\t\\t\\t\\t\\t\\t<li class=\"last\"><a href=\"/sa/flood/index.shtml?ref=hdr\" title=\"South Australia Rainfall and River Conditions\">Rainfall &amp; River Conditions</a></li>\\n\\t\\t\\t\\t\\t\\t\\t</ul>\\n\\t\\t\\t\\t\\t\\t\\t<div class=\"sf-menu-pointer\"></div>\\n\\t\\t\\t\\t\\t\\t</li>\\n\\t\\t\\t\\t\\t\\t<li id=\"sf-menu-tas\">\\n\\t\\t\\t\\t\\t\\t\\t<abbr title=\"Tasmania\"><a href=\"/tas/?ref=hdr\" title=\"Tasmania\">TAS</a></abbr>\\n\\t\\t\\t\\t\\t\\t\\t<ul>\\n\\t\\t\\t\\t\\t\\t\\t\\t<li class=\"decoration\"><img src=\"http://ws.cdn.bom.gov.au/images/weather/tas-thumb.png\" alt=\"\" /></li>\\n\\t\\t\\t\\t\\t\\t\\t\\t<li class=\"heading\"><a href=\"/tas/index.shtml?ref=hdr\" title=\"Tasmanian Weather and Warnings\">TAS Weather &amp; Warnings</a></li>\\n\\t\\t\\t\\t\\t\\t\\t\\t<li><a href=\"/tas/warnings/index.shtml?ref=hdr\" title=\"Tasmanian Warnings Summary\">Warnings Summary</a></li>\\n\\t\\t\\t\\t\\t\\t\\t\\t<li><a href=\"/tas/forecasts/index.shtml?ref=hdr\" title=\"Tasmanian Forecasts\">Forecasts</a></li>\\n\\t\\t\\t\\t\\t\\t\\t\\t<li><a href=\"/tas/forecasts/hobart.shtml?ref=hdr\" title=\"Hobart Forecast\">Hobart Forecast</a></li>\\n\\t\\t\\t\\t\\t\\t\\t\\t<li><a href=\"/tas/forecasts/map.shtml?ref=hdr\" title=\"Tasmanian Forecast Areas Map\">Tas. Forecast Areas Map</a></li>\\n\\t\\t\\t\\t\\t\\t\\t\\t<li><a href=\"/tas/observations/index.shtml?ref=hdr\" title=\"Tasmanian Observations\">Observations</a></li>\\n\\t\\t\\t\\t\\t\\t\\t\\t<li><a href=\"/tas/observations/hobart.shtml?ref=hdr\" title=\"Latest Weather Observations for the Hobart Area\">Hobart Observations</a></li>\\n\\t\\t\\t\\t\\t\\t\\t\\t<li><a href=\"/tas/observations/tasall.shtml?ref=hdr\" title=\"Latest Weather Observations for Tasmania\">All Tasmanian Observations</a></li>\\n\\t\\t\\t\\t\\t\\t\\t\\t<li class=\"last\"><a href=\"/tas/flood/index.shtml?ref=hdr\" title=\"Tasmania Rainfall and River Conditions\">Rainfall &amp; River Conditions</a></li>\\n\\t\\t\\t\\t\\t\\t\\t</ul>\\n\\t\\t\\t\\t\\t\\t\\t<div class=\"sf-menu-pointer\"></div>\\n\\t\\t\\t\\t\\t\\t</li>\\n\\t\\t\\t\\t\\t\\t<li id=\"sf-menu-act\">\\n\\t\\t\\t\\t\\t\\t\\t<abbr title=\"Australian Capital Territory\"><a href=\"/act/?ref=hdr\" title=\"Australian Capital Territory\">ACT</a></abbr>\\n\\t\\t\\t\\t\\t\\t\\t<ul>\\n\\t\\t\\t\\t\\t\\t\\t\\t<li class=\"decoration\"><img src=\"http://ws.cdn.bom.gov.au/images/weather/act-thumb.png\" alt=\"\" /></li>\\n\\t\\t\\t\\t\\t\\t\\t\\t<li class=\"heading\"><a href=\"/act/index.shtml?ref=hdr\" title=\"Australian Capital Territory Weather and Warnings\">ACT Weather &amp; Warnings</a></li>\\n\\t\\t\\t\\t\\t\\t\\t\\t<li><a href=\"/act/warnings/index.shtml?ref=hdr\" title=\"Australian Capital Territory Warnings Summary\">Warnings Summary</a></li>\\n\\t\\t\\t\\t\\t\\t\\t\\t<li><a href=\"/act/forecasts/index.shtml?ref=hdr\" title=\"Australian Capital Territory Forecasts\">Forecasts</a></li>\\n\\t\\t\\t\\t\\t\\t\\t\\t<li><a href=\"/act/forecasts/canberra.shtml?ref=hdr\" title=\"Canberra Forecast\">Canberra Forecast</a></li>\\n\\t\\t\\t\\t\\t\\t\\t\\t<li><a href=\"/act/forecasts/act.shtml?ref=hdr\" title=\"Australian Capital Territory Forecast\">ACT Forecast</a></li>\\n\\t\\t\\t\\t\\t\\t\\t\\t<li><a href=\"/act/observations/index.shtml?ref=hdr\" title=\"Australian Capital Territory Observations\">Observations</a></li>\\n\\t\\t\\t\\t\\t\\t\\t\\t<li class=\"last\"><a href=\"/act/observations/canberra.shtml?ref=hdr\" title=\"Latest Weather Observations for the Canberra Area\">Canberra Observations</a></li>\\n\\t\\t\\t\\t\\t\\t\\t</ul>\\n\\t\\t\\t\\t\\t\\t\\t<div class=\"sf-menu-pointer\"></div>\\n\\t\\t\\t\\t\\t\\t</li>\\n\\t\\t\\t\\t\\t\\t<li id=\"sf-menu-nt\">\\n\\t\\t\\t\\t\\t\\t\\t<abbr title=\"Northern Territory\"><a href=\"/nt/?ref=hdr\" title=\"Northern Territory\">NT</a></abbr>\\n\\t\\t\\t\\t\\t\\t\\t<ul>\\n\\t\\t\\t\\t\\t\\t\\t\\t<li class=\"decoration\"><img src=\"http://ws.cdn.bom.gov.au/images/weather/nt-thumb.png\" alt=\"\" /></li>\\n\\t\\t\\t\\t\\t\\t\\t\\t<li class=\"heading\"><a href=\"/nt/index.shtml?ref=hdr\" title=\"Northern Territory Weather and Warnings\">NT Weather &amp; Warnings</a></li>\\n\\t\\t\\t\\t\\t\\t\\t\\t<li><a href=\"/nt/warnings/index.shtml?ref=hdr\" title=\"Northern Territory Warnings Summary\">Warning Summary</a></li>\\n\\t\\t\\t\\t\\t\\t\\t\\t<li><a href=\"/nt/forecasts/index.shtml?ref=hdr\" title=\"Northern Territory Forecasts\">Forecasts</a></li>\\n\\t\\t\\t\\t\\t\\t\\t\\t<li><a href=\"/nt/forecasts/darwin.shtml?ref=hdr\" title=\"Darwin Forecast\">Darwin Forecast</a></li>\\n\\t\\t\\t\\t\\t\\t\\t\\t<li><a href=\"/nt/forecasts/map.shtml?ref=hdr\" title=\"Northern Territory Forecast Area Map\">NT Forecast Areas Map</a></li>\\n\\t\\t\\t\\t\\t\\t\\t\\t<li><a href=\"/nt/observations/index.shtml?ref=hdr\" title=\"Northern Territory Weather Observations\">Observations</a></li>\\n\\t\\t\\t\\t\\t\\t\\t\\t<li><a href=\"/nt/observations/darwin.shtml?ref=hdr\" title=\"Latest Weather Observations for Darwin Area\">Darwin Observations</a></li>\\n\\t\\t\\t\\t\\t\\t\\t\\t<li><a href=\"/nt/observations/ntall.shtml?ref=hdr\" title=\"All NT Weather Observations\">All NT Observations</a></li>\\n\\t\\t\\t\\t\\t\\t\\t\\t<li class=\"last\"><a href=\"/nt/flood/index.shtml?ref=hdr\" title=\"Northern Territory Rainfall and River Conditions\">Rainfall &amp; River Conditions</a></li>\\n\\t\\t\\t\\t\\t\\t\\t</ul>\\n\\t\\t\\t\\t\\t\\t\\t<div class=\"sf-menu-pointer\"></div>\\n\\t\\t\\t\\t\\t\\t</li>\\n\\t\\t\\t\\t\\t\\t<li id=\"sf-menu-aus\" class=\"separator\">\\n\\t\\t\\t\\t\\t\\t\\t<a href=\"/australia/?ref=hdr\" title=\"National Weather and Warnings\">Australia</a>\\n\\t\\t\\t\\t\\t\\t\\t<ul>\\n\\t\\t\\t\\t\\t\\t\\t\\t<li class=\"decoration\"><img src=\"http://ws.cdn.bom.gov.au/images/weather/aus-thumb.png\" alt=\"\" /></li>\\n\\t\\t\\t\\t\\t\\t\\t\\t<li class=\"heading\"><a href=\"/australia/index.shtml?ref=hdr\" title=\"National Weather and Warnings\">National Weather &amp; Warnings</a></li>\\n\\t\\t\\t\\t\\t\\t\\t\\t<li><a href=\"/australia/warnings/index.shtml?ref=hdr\" title=\"National Warnings Summary\">Warnings Summary</a></li>\\n\\t\\t\\t\\t\\t\\t\\t\\t<li><a href=\"/australia/majorcities.shtml?ref=hdr\" title=\"Major Cities Forecast plus Outlook\">Major Cities</a></li>\\n\\t\\t\\t\\t\\t\\t\\t\\t<li><a href=\"/australia/radar/index.shtml?ref=hdr\" title=\"Radar Images\">Radar Images</a></li>\\n\\t\\t\\t\\t\\t\\t\\t\\t<li><a href=\"/australia/charts/index.shtml?ref=hdr\" title=\"Weather Maps\">Weather Maps</a></li>\\n\\t\\t\\t\\t\\t\\t\\t\\t<li><a href=\"/australia/satellite/index.shtml?ref=hdr\" title=\"Recent Satellite Images\">Satellite Images</a></li>\\n\\t\\t\\t\\t\\t\\t\\t\\t<li class=\"last\"><a href=\"/australia/flood/index.shtml?ref=hdr\" title=\"Australia Rainfall and River Conditions\">Rainfall &amp; River Conditions</a></li>\\n\\t\\t\\t\\t\\t\\t\\t</ul>\\n\\t\\t\\t\\t\\t\\t\\t<div class=\"sf-menu-pointer\"></div>\\n\\t\\t\\t\\t\\t\\t</li>\\n\\t\\t\\t\\t\\t\\t<li class=\"no-menu\"><a href=\"/global/?ref=hdr\" title=\"Global Weather and Warnings\">Global</a></li>\\n\\t\\t\\t\\t\\t\\t<li class=\"last no-menu\"><a href=\"/ant/?ref=hdr\" title=\"Antarctic and Southern Ocean Weather\">Antarctica</a></li>\\n\\t\\t\\t\\t\\t</ul>\\n\\t\\t\\t\\t</div>\\n\\t\\t\\t</div>\\n\\t\\t</div>\\n\\t\\t<div class=\"l_shadow\"></div>\\n      </div>\\n      <!-- End: Header -->\\n\\n      <!--\\r\\n<div id=\"site-announcement\">\\r\\n<p>Insert message</p>\\r\\n</div>\\r\\n-->\\n\\n      <!-- Start: Columns -->\\n      <div id=\"columns\">\\n\\n<!-- Start: Container -->\\n    <div id=\"container\" class=\"fullwidth\">\\n<!-- Begin: Breadcrumb -->\\n      <p id=\"breadcrumb\"><a href=\"/index.shtml\">Bureau Home</a> &gt; <a href=\"/australia/index.shtml\">Australia</a> &gt; <a href=\"/nsw/index.shtml\">New South Wales</a> &gt; <a href=\"/nsw/forecasts/index.shtml\">Forecasts</a> &gt; <strong>Sydney Forecast</strong></p>\\n<!-- End: Breadcrumb -->\\n      <h1>Sydney Forecast</h1>\\n<!-- Start: Content -->\\n      <div id=\"content\">\\n\\n<p class=\"warning\"><a href=\"/nsw/warnings/\">View the current warnings for New South Wales</a></p>\\n\\n<p class=\"date\">Forecast issued at 4:20 pm EST on Monday 27 June 2016.</p><div class=\"day eve\">\\n  <h2>Forecast for the rest of Monday</h2>\\n  <div class=\"forecast\">\\n    <dl>\\n      <dt>Summary</dt>\\n      <dd class=\"image\">\\n        <img src=\"/images/symbols/large/rain.png\" alt=\"\" width=\"45\" height=\"42\"/>\\n      </dd>\\n      <dd class=\"summary\">A little rain at times.</dd>\\n      <dd class=\"rain\">Chance of any rain: <em class=\"pop\">80%\\n\\t\\t\\t\\t\\t<img src=\"/images/ui/weather/rain_80.gif\" width=\"69\" height=\"10\" alt=\"\"/></em></dd>\\n    </dl>\\n    <h3>Sydney area</h3>\\n    <p>Cloudy. High (70%) chance of rain. Winds southwesterly 15 to 25 km/h increasing to 20 to 30 km/h in the late evening.</p>\\n  </div>\\n</div><div class=\"day main\">\\n  <h2>Tuesday 28 June</h2>\\n  <div class=\"forecast\">\\n    <dl>\\n      <dt>Summary</dt>\\n      <dd class=\"image\">\\n        <img src=\"/images/symbols/large/partly-cloudy.png\" alt=\"\" width=\"45\" height=\"42\"/>\\n      </dd>\\n      <dd>Min <em class=\"min\">10</em></dd>\\n      <dd>Max <em class=\"max\">18</em></dd>\\n      <dd class=\"summary\">Cloud clearing.</dd>\\n      <dd class=\"rain\">Possible rainfall: <em class=\"rain\">0 mm</em></dd>\\n      <dd class=\"rain\">Chance of any rain: <em class=\"pop\">10%\\n\\t\\t\\t\\t\\t<img src=\"/images/ui/weather/rain_10.gif\" width=\"69\" height=\"10\" alt=\"\"/></em></dd>\\n    </dl>\\n    <h3>Sydney area</h3>\\n    <p>Sunny. Winds southwesterly 20 to 30 km/h becoming light in the late afternoon.</p>\\n  </div>\\n  <p class=\"alert\">No UV Alert, UV Index predicted to reach 2 [Low]</p>\\n</div><div class=\"around\">\\n  <div class=\"first\">\\n    <h3>\\n      <a href=\"/nsw/forecasts/map7day.shtml\">7 day Town Forecasts</a>\\n    </h3>\\n    <table summary=\"\">\\n      <thead>\\n        <tr>\\n          <th class=\"precis\">Precis Icon</th>\\n          <th class=\"place\">Location</th>\\n          <th title=\"Minimum Temperature\">Min</th>\\n          <th title=\"Maximum Temperature\">Max</th>\\n        </tr>\\n      </thead>\\n      <tbody>\\n        <tr>\\n          <td class=\"precis\">\\n            <img src=\"/images/symbols/small/partly-cloudy.png\" alt=\"Cloud clearing.\" width=\"23\" height=\"22\"/>\\n          </td>\\n          <td class=\"place\">\\n            <a href=\"/nsw/forecasts/sydney.shtml\">Sydney</a>\\n          </td>\\n          <td>10</td>\\n          <td>18</td>\\n        </tr>\\n        <tr>\\n          <td class=\"precis\">\\n            <img src=\"/images/symbols/small/sunny.png\" alt=\"Sunny.\" width=\"23\" height=\"22\"/>\\n          </td>\\n          <td class=\"place\">\\n            <a href=\"/nsw/forecasts/penrith.shtml\">Penrith</a>\\n          </td>\\n          <td>6</td>\\n          <td>17</td>\\n        </tr>\\n        <tr>\\n          <td class=\"precis\">\\n            <img src=\"/images/symbols/small/sunny.png\" alt=\"Sunny.\" width=\"23\" height=\"22\"/>\\n          </td>\\n          <td class=\"place\">\\n            <a href=\"/nsw/forecasts/liverpool.shtml\">Liverpool</a>\\n          </td>\\n          <td>6</td>\\n          <td>17</td>\\n        </tr>\\n        <tr>\\n          <td class=\"precis\">\\n            <img src=\"/images/symbols/small/sunny.png\" alt=\"Sunny.\" width=\"23\" height=\"22\"/>\\n          </td>\\n          <td class=\"place\">\\n            <a href=\"/nsw/forecasts/terreyhills.shtml\">Terrey Hills</a>\\n          </td>\\n          <td>7</td>\\n          <td>16</td>\\n        </tr>\\n        <tr>\\n          <td class=\"precis\">\\n            <img src=\"/images/symbols/small/sunny.png\" alt=\"Sunny.\" width=\"23\" height=\"22\"/>\\n          </td>\\n          <td class=\"place\">\\n            <a href=\"/nsw/forecasts/richmond.shtml\">Richmond</a>\\n          </td>\\n          <td>4</td>\\n          <td>18</td>\\n        </tr>\\n        <tr>\\n          <td class=\"precis\">\\n            <img src=\"/images/symbols/small/sunny.png\" alt=\"Sunny.\" width=\"23\" height=\"22\"/>\\n          </td>\\n          <td class=\"place\">\\n            <a href=\"/nsw/forecasts/parramatta.shtml\">Parramatta</a>\\n          </td>\\n          <td>7</td>\\n          <td>17</td>\\n        </tr>\\n        <tr>\\n          <td class=\"precis\">\\n            <img src=\"/images/symbols/small/sunny.png\" alt=\"Sunny.\" width=\"23\" height=\"22\"/>\\n          </td>\\n          <td class=\"place\">\\n            <a href=\"/nsw/forecasts/campbelltown.shtml\">Campbelltown</a>\\n          </td>\\n          <td>5</td>\\n          <td>17</td>\\n        </tr>\\n        <tr>\\n          <td class=\"precis\">\\n            <img src=\"/images/symbols/small/partly-cloudy.png\" alt=\"Mostly sunny.\" width=\"23\" height=\"22\"/>\\n          </td>\\n          <td class=\"place\">\\n            <a href=\"/nsw/forecasts/bondi.shtml\">Bondi</a>\\n          </td>\\n          <td>11</td>\\n          <td>17</td>\\n        </tr>\\n      </tbody>\\n    </table>\\n  </div>\\n</div><iframe src=\"http://advertising.gov.au/ad/bom/www/?id=1297228&amp;aac=NSW_PT131&amp;high=18&amp;icon=3&amp;name=Sydney\" title=\"Marketing\" width=\"300\" height=\"250\" frameborder=\"0\" scrolling=\"no\"> Marketing </iframe><div class=\"day\">\\n  <h2>Wednesday 29 June</h2>\\n  <div class=\"forecast\">\\n    <dl>\\n      <dt>Summary</dt>\\n      <dd class=\"image\">\\n        <img src=\"/images/symbols/large/sunny.png\" alt=\"\" width=\"45\" height=\"42\"/>\\n      </dd>\\n      <dd>Min <em class=\"min\">7</em></dd>\\n      <dd>Max <em class=\"max\">18</em></dd>\\n      <dd class=\"summary\">Sunny.</dd>\\n      <dd class=\"rain\">Possible rainfall: <em class=\"rain\">0 mm</em></dd>\\n      <dd class=\"rain\">Chance of any rain: <em class=\"pop\">5%\\n\\t\\t\\t\\t\\t<img src=\"/images/ui/weather/rain_5.gif\" width=\"69\" height=\"10\" alt=\"\"/></em></dd>\\n    </dl>\\n    <h3>Sydney area</h3>\\n    <p>Sunny. Light winds.</p>\\n  </div>\\n</div><div class=\"day\">\\n  <h2>Thursday 30 June</h2>\\n  <div class=\"forecast\">\\n    <dl>\\n      <dt>Summary</dt>\\n      <dd class=\"image\">\\n        <img src=\"/images/symbols/large/partly-cloudy.png\" alt=\"\" width=\"45\" height=\"42\"/>\\n      </dd>\\n      <dd>Min <em class=\"min\">8</em></dd>\\n      <dd>Max <em class=\"max\">18</em></dd>\\n      <dd class=\"summary\">Partly cloudy.</dd>\\n      <dd class=\"rain\">Possible rainfall: <em class=\"rain\">0 mm</em></dd>\\n      <dd class=\"rain\">Chance of any rain: <em class=\"pop\">10%\\n\\t\\t\\t\\t\\t<img src=\"/images/ui/weather/rain_10.gif\" width=\"69\" height=\"10\" alt=\"\"/></em></dd>\\n    </dl>\\n    <h3>Sydney area</h3>\\n    <p>Partly cloudy. Light winds becoming northwesterly 20 to 30 km/h during the morning.</p>\\n  </div>\\n</div><div class=\"day\">\\n  <h2>Friday 1 July</h2>\\n  <div class=\"forecast\">\\n    <dl>\\n      <dt>Summary</dt>\\n      <dd class=\"image\">\\n        <img src=\"/images/symbols/large/partly-cloudy.png\" alt=\"\" width=\"45\" height=\"42\"/>\\n      </dd>\\n      <dd>Min <em class=\"min\">9</em></dd>\\n      <dd>Max <em class=\"max\">17</em></dd>\\n      <dd class=\"summary\">Partly cloudy.</dd>\\n      <dd class=\"rain\">Possible rainfall: <em class=\"rain\">0 mm</em></dd>\\n      <dd class=\"rain\">Chance of any rain: <em class=\"pop\">10%\\n\\t\\t\\t\\t\\t<img src=\"/images/ui/weather/rain_10.gif\" width=\"69\" height=\"10\" alt=\"\"/></em></dd>\\n    </dl>\\n    <h3>Sydney area</h3>\\n    <p>Partly cloudy. Winds north to northwesterly 15 to 25 km/h turning west to southwesterly during the morning.</p>\\n  </div>\\n</div><div class=\"day\">\\n  <h2>Saturday 2 July</h2>\\n  <div class=\"forecast\">\\n    <dl>\\n      <dt>Summary</dt>\\n      <dd class=\"image\">\\n        <img src=\"/images/symbols/large/partly-cloudy.png\" alt=\"\" width=\"45\" height=\"42\"/>\\n      </dd>\\n      <dd>Min <em class=\"min\">9</em></dd>\\n      <dd>Max <em class=\"max\">19</em></dd>\\n      <dd class=\"summary\">Partly cloudy.</dd>\\n      <dd class=\"rain\">Possible rainfall: <em class=\"rain\">0 mm</em></dd>\\n      <dd class=\"rain\">Chance of any rain: <em class=\"pop\">5%\\n\\t\\t\\t\\t\\t<img src=\"/images/ui/weather/rain_5.gif\" width=\"69\" height=\"10\" alt=\"\"/></em></dd>\\n    </dl>\\n    <h3>Sydney area</h3>\\n    <p>Mostly sunny. Winds westerly 15 to 25 km/h.</p>\\n  </div>\\n</div><div class=\"day\">\\n  <h2>Sunday 3 July</h2>\\n  <div class=\"forecast\">\\n    <dl>\\n      <dt>Summary</dt>\\n      <dd class=\"image\">\\n        <img src=\"/images/symbols/large/sunny.png\" alt=\"\" width=\"45\" height=\"42\"/>\\n      </dd>\\n      <dd>Min <em class=\"min\">8</em></dd>\\n      <dd>Max <em class=\"max\">18</em></dd>\\n      <dd class=\"summary\">Sunny.</dd>\\n      <dd class=\"rain\">Possible rainfall: <em class=\"rain\">0 mm</em></dd>\\n      <dd class=\"rain\">Chance of any rain: <em class=\"pop\">5%\\n\\t\\t\\t\\t\\t<img src=\"/images/ui/weather/rain_5.gif\" width=\"69\" height=\"10\" alt=\"\"/></em></dd>\\n    </dl>\\n    <h3>Sydney area</h3>\\n    <p>Sunny. Light winds.</p>\\n  </div>\\n</div><div class=\"day\">\\n  <h2>Monday 4 July</h2>\\n  <div class=\"forecast\">\\n    <dl>\\n      <dt>Summary</dt>\\n      <dd class=\"image\">\\n        <img src=\"/images/symbols/large/partly-cloudy.png\" alt=\"\" width=\"45\" height=\"42\"/>\\n      </dd>\\n      <dd>Min <em class=\"min\">8</em></dd>\\n      <dd>Max <em class=\"max\">17</em></dd>\\n      <dd class=\"summary\">Partly cloudy.</dd>\\n      <dd class=\"rain\">Possible rainfall: <em class=\"rain\">0 mm</em></dd>\\n      <dd class=\"rain\">Chance of any rain: <em class=\"pop\">20%\\n\\t\\t\\t\\t\\t<img src=\"/images/ui/weather/rain_20.gif\" width=\"69\" height=\"10\" alt=\"\"/></em></dd>\\n    </dl>\\n    <h3>Sydney area</h3>\\n    <p>Partly cloudy. Slight (20%) chance of a shower. Light winds.</p>\\n  </div>\\n</div><p id=\"next\" class=\"date\">The next routine forecast will be issued at 4:45 am EST Tuesday.</p><p class=\"p-id\">Product IDN10064</p>\\n\\n      </div>\\n<!-- End: Content -->\\n    </div>\\n<!-- End: Container -->\\n<!-- Begin: Left Column -->\\n    <div id=\"left-column\"></div>\\n<!-- End: Left Column -->\\n\\n<div class=\"clr\"><!-- clear columns --></div>\\n</div>\\n<!-- End: Columns -->\\n</div>\\n<!-- End: pagewrap -->\\n<!-- Start: Footer -->\\n<div id=\"footer\">\\n    <div id=\"footer-columns\">\\n        <ul id=\"fc-one\">\\n            <li class=\"icon-link border-bottom uppercase\"><a href=\"/australia/warnings/?ref=ftr\" id=\"icon-link-warnings\"><span>Warnings</span></a></li>\\n            <li class=\"row-link-first uppercase\"><a href=\"/water/?ref=ftr\">Water</a></li>\\n            <li class=\"row-link uppercase\"><a href=\"/climate/?ref=ftr\">Climate</a></li>\\n            <li class=\"row-link uppercase\"><a href=\"/environment/?ref=ftr\">Environment</a></li>\\n            <li class=\"border-top\"><a href=\"/cyclone/?ref=ftr\">Tropical Cyclones</a></li>\\n            <li><a href=\"/tsunami/?ref=ftr\">Tsunami Warning Centre</a></li>\\n            <li><a href=\"/watl/?ref=ftr\">Agriculture - Water and the Land</a></li>\\n            <li><a href=\"/marine/?ref=ftr\">Marine &amp; Ocean</a></li>\\n            <li><a href=\"/uv/?ref=ftr\">UV &amp; Sun Protection</a></li>\\n            <li><a href=\"/australia/flood/?ref=ftr\">Rainfall &amp; River Conditions</a></li>\\n        </ul>\\n        <ul id=\"fc-two\">\\n            <li class=\"imagebox-links\">\\n                <h3 class=\"hidden\">Graphical Views</h3>\\n                <ul>\\n                    <li class=\"first\"><a href=\"/australia/radar/?ref=ftr\" id=\"imagebox-link-radar\">Radar</a></li>\\n                    <li><a href=\"/australia/satellite/?ref=ftr\" id=\"imagebox-link-sat\">Sat</a></li>\\n                    <li><a href=\"/australia/charts/?ref=ftr\" id=\"imagebox-link-maps\">Maps</a></li>\\n                </ul>\\n            </li>\\n            <li><a href=\"/jsp/watl/rainfall/pme.jsp?ref=ftr\">Rainfall Forecasts</a></li>\\n            <li><a href=\"/climate/ahead/?ref=ftr\">Seasonal Outlooks</a></li>\\n            <li><a href=\"/climate/change/?ref=ftr\">Climate Variability &amp; Change</a></li>\\n            <li><a href=\"/climate/data/?ref=ftr\">Climate Data Online</a></li>\\n            <li><a href=\"/water/ssf/?ref=ftr\">Seasonal Streamflow Forecasts</a></li>\\n            <li><a href=\"http://water.bom.gov.au/waterstorage/awris/?ref=ftr\">Water Storage</a></li>\\n        </ul>\\n        <ul id=\"fc-three\">\\n            <li class=\"icon-link border-bottom\"><a href=\"/australia/meteye?ref=ftr\" id=\"icon-link-fe\"><span>MetEye&trade;</span></a></li>\\n            <li><a href=\"/weather-services/?ref=ftr\">National Weather Services</a></li>\\n            <li><a href=\"/aviation/?ref=ftr\">Aviation Weather Services</a></li>\\n            <li><a href=\"/defence/?ref=ftr\">Defence Services</a></li>\\n            <li><a href=\"http://www.sws.bom.gov.au/?ref=ftr\">Space Weather Services</a></li>\\n            <li><a href=\"/reguser/?ref=ftr\">Registered User Services</a></li>\\n            <li><a href=\"/business-solutions/industry-solutions.shtml?ref=ftr\">Industry Solutions</a></li>\\n            <li><a href=\"/sep/?ref=ftr\">Supplier Entry Point</a></li>\\n        </ul>\\n        <ul id=\"fc-four\">\\n            <li class=\"icon-link row-link-first\"><a href=\"http://www.facebook.com/bureauofmeteorology\" id=\"icon-link-fb\"><span>Facebook</span></a></li>\\n            <li class=\"icon-link row-link\"><a href=\"https://plus.google.com/103437906374218799167\" id=\"icon-link-gp\"><span>Google+</span></a></li>\\n            <li class=\"icon-link row-link-first\"><a href=\"http://www.youtube.com/user/BureauOfMeteorology\" id=\"icon-link-yt\"><span>Youtube</span></a></li>\\n            <li class=\"icon-link row-link\"><a href=\"http://media.bom.gov.au/social?ref=ftr\" id=\"icon-link-bl\"><span>Blog</span></a></li>\\n            <li class=\"icon-link row-link-first border-bottom\"><a href=\"/rss/?ref=ftr\" id=\"icon-link-rss\"><span>RSS</span></a></li>\\n            <li class=\"row-link-first\"><a href=\"/careers/?ref=ftr\">Careers</a></li>\\n            <li class=\"row-link\"><a href=\"/site-map/?ref=ftr\">Sitemap</a></li>\\n            <li class=\"row-link\"><a href=\"/other/feedback/?ref=ftr\">Feedback</a></li>\\n            <li class=\"border-top\"><a href=\"/foi/?ref=ftr\">Freedom of Information</a></li>\\n            <li><a href=\"/iwk/?ref=ftr\">Indigenous Weather Knowledge</a></li>\\n            <li><a href=\"/lam/glossary/?ref=ftr\">Glossary</a></li>\\n        </ul>\\n        <p id=\"timestamp\">This page was created at <strong>08:29 on Monday 27 June 2016 (GMT)</strong></p>\\n        <p id=\"copyright\">&#169; <a href=\"/other/copyright.shtml?ref=ftr\">Copyright</a> Commonwealth of Australia 2016, Bureau of Meteorology (ABN 92 637 533 532) | <a href=\"/other/disclaimer.shtml?ref=ftr\">Disclaimer</a> | <a href=\"/other/privacy.shtml?ref=ftr\">Privacy</a> | <a href=\"/other/accessibility.shtml?ref=ftr\">Accessibility</a></p>\\n    </div>\\n</div>\\n<!-- End: Footer -->\\n</div>\\n<!-- End: PageHeight -->\\n\\n<script src=\"/includes/analytics.js\" type=\"text/javascript\"></script>\\n  </body>\\n</html>\\n'"
      ]
     },
     "execution_count": 10,
     "metadata": {},
     "output_type": "execute_result"
    }
   ],
   "source": [
    "# What was the .text or .content of that page? Save it in a variable, because we will be using it\n",
    "# a little later\n",
    "weather.text"
   ]
  },
  {
   "cell_type": "code",
   "execution_count": 11,
   "metadata": {
    "collapsed": false
   },
   "outputs": [
    {
     "data": {
      "text/plain": [
       "31217"
      ]
     },
     "execution_count": 11,
     "metadata": {},
     "output_type": "execute_result"
    }
   ],
   "source": [
    "len(weather.text)"
   ]
  },
  {
   "cell_type": "markdown",
   "metadata": {},
   "source": [
    "## Accessing forms\n",
    "\n",
    "The pandas library already has a module for getting information from the Yahoo Finance pages, \n",
    "so you are unlikely to use the following code in any normal environment. But it's an example of\n",
    "a simple web API"
   ]
  },
  {
   "cell_type": "code",
   "execution_count": 26,
   "metadata": {
    "collapsed": true
   },
   "outputs": [],
   "source": [
    "# There is a stock price lookup form on https://au.finance.yahoo.com (it says Enter Symbol)\n",
    "# Inspect that element, and identify:\n",
    "# - The <INPUT> tag with the name \"s\"\n",
    "# - The <INPUT> tag with the name \"ql\" (which has a type of \"hidden\")\n",
    "# - The <FORM> tag surrounding them with the action of \"/q\" and the method of GET\n",
    "#\n",
    "# Create a dictionary with appropriate keys to provide values for the input tags.\n",
    "# Create a variable with the full URL to submit to\n",
    "params = {'s' : 'IBM', \n",
    "          'ql' : '0'}\n",
    "answer = requests.get('https://au.finance.yahoo.com/q', data = params)"
   ]
  },
  {
   "cell_type": "code",
   "execution_count": 27,
   "metadata": {
    "collapsed": false
   },
   "outputs": [
    {
     "data": {
      "text/plain": [
       "u'<!DOCTYPE html PUBLIC \"-//W3C//DTD HTML 4.01//EN\" \"http://www.w3.org/TR/html4/strict.dtd\">\\n<html lang=\"en-AU\">\\n<head>\\n<title>Quotes &amp; Info- Yahoo!7 Finance</title>\\n<meta http-equiv=\"Content-Type\" content=\"text/html; charset=utf-8\"><meta name=\"description\" xml:space=\"default\" content=\"Get the latest index performance and chart outlook for  ().\"><meta name=\"keywords\" content=\"index, market indices, dow jones industrial average, S&amp;P 500, Nasdaq 100, industrial average, transportation average asx\"><script>\\n          window.yfinBucket = \\'\\';\\n        </script>\\n<link rel=\"stylesheet\" href=\"https://s.yimg.com/zz/combo?kx/yucs/uh2/uh/295/css/yunivhead-min.css&amp;kx/yucs/uh2/uh/295/css/logo-min.css&amp;kx/ucs/avatar/css/17/avatar-min.css&amp;kx/yucs/uh2/mail-link/85/css/mailcount_v2-min.css&amp;kx/yucs/uh2/mail-link/85/css/mail_preview-min.css&amp;kx/ucs/search/css/190/search_all-min.css&amp;kx/ucs/search/css/190/search_buttons-min.css&amp;kx/yucs/uh2/uh/295/css/yunivhead_https-min.css&amp;kx/yucs/uh_common/meta/3/css/meta-min.css&amp;bm/lib/fi/common/p/d/static/css/2.0.356981/2.0.0/mini/yfi_quote_summary_lego_concat.css&amp;bm/lib/fi/common/p/d/static/css/2.0.356981/2.0.0/mini/yfi_symbol_suggest.css&amp;bm/lib/fi/common/p/d/static/css/2.0.356981/2.0.0/mini/yui_helper.css&amp;bm/lib/fi/common/p/d/static/css/2.0.356981/2.0.0/mini/yfi_theme_teal.css&amp;bm/lib/fi/common/p/d/static/css/2.0.356981/2.0.0/mini/yfi_follow_quote.css&amp;bm/lib/fi/common/p/d/static/css/2.0.356981/2.0.0/mini/yfi_follow_stencil.css\" type=\"text/css\"><script language=\"javascript\">\\n\\tll_js = new Array();\\n    </script>\\n</head>\\n\\n<body id=\"yfi_quote_summary_page\" class=\"intl-au  gsg-0\">\\n<div id=\"yfi_hd\"><div class=\"yfi_doc yog-hd\" id=\"yog-hd\"><div class=\"\"><style>/* customizable */\\n#yUnivHead{}\\n#yUnivHead .yuhead-bullet-down{background-position:right -119px;}\\n\\n/* font color */\\n#yUnivHead {color:#fff;}\\n#yUnivHead a{color:#fff;}\\n#yUnivHead a:hover{color:#fff;}\\n\\n#yuhead-hd #yuhead-mepanel-cont #yuhead-mepanel li.yuhead-me{border-color:#fff;}\\n#yuhead-hd #yuhead-com-links-cont #yuhead-com-links li.yuhead-com-link-item{border-color:#fff;}\\n.yuhead-logo h2 a{color:#fff;}\\n\\n/* promo color */\\n#yUnivHead #yuhead-promo .yucs-promo-label{color:#fff;}\\n#yUnivHead #yuhead-promo a{color:#fff;}\\n#yUnivHead #yuhead-promo a:hover{color:#fff;}\\n\\n/* background, border, gradients */\\n#yUnivHead {\\n    background:transparent;\\n}\\n/* trending promo background - match to header top background */\\n#yUnivHead .yucs-trending-anim .yucs-trending-anim-fade {\\n\\tbackground:transparent;\\n}\\n/*logos*/\\n#yUnivHead .yuhead-logo h2 {background-position:-350px top;}\\n/*  #yUnivHead.yucs-en-nz .yuhead-logo h2 {background-position:0px -120px;} */\\n#yUnivHead .yuhead-logo h2.small {background-position:0px -360px;}</style><div id=\"yUnivHead\" class=\"yucs-en-au\" data-lang=\"en-au\" data-property=\"finance\" data-flight=\"1467018767\" data-uhvc=\"/\"> <div id=\"yucs-disclaimer\" class=\"yucs-disclaimer yucs-activate yucs-hide yucs-property-finance yucs-fcb- \" data-cobrand=\"standard\" data-cu = \"0\" data-dsstext=\"Want a better search experience? {dssLink}Set your Search to Yahoo{linkEnd}\" data-dsstext-mobile=\"Search Less, Find More\" data-dsstext-mobile-ok=\"OK\" data-dsstext-mobile-set-search=\"Set Search to Yahoo\" data-dssstbtext=\"Yahoo is the preferred search engine for Firefox. Switch now.\" data-dssstb-ok=\"Yes\" data-dssstb-no=\"Not Now\" data-ylt-link=\"https://uk.search.yahoo.com/searchset?pn=\" data-ylt-dssbarclose=\"/\" data-ylt-dssbaropen=\"/\" data-ylt-dssstb-link=\"https://downloads.yahoo.com/sp-firefox\" data-ylt-dssstbbarclose=\"/\" data-ylt-dssstbbaropen=\"/\" data-ylt-dssCookieCleanedSuccess=\"/\" data-ylt-dssCookieCleanedFailed=\"/\" data-linktarget=\"_top\" data-lang=\"en-au\" data-property=\"finance\" data-device=\"Desktop\" data-close-txt=\"Close this window\" data-maybelater-txt = \"Maybe later\" data-killswitch = \"0\" data-host=\"au.finance.yahoo.com\" data-spaceid=\"\" data-pn=\"\" data-dss-cookie-cleanup=\"\" data-pn-en-ca-mobile-frontpage=\"\" data-pn-de-de-mobile-frontpage=\"\" data-pn-es-es-mobile-frontpage=\"\" data-pn-fr-fr-mobile-frontpage=\"\" data-pn-en-in-mobile-frontpage=\"\" data-pn-it-it-mobile-frontpage=\"\" data-pn-en-us-mobile-frontpage=\"\" data-pn-en-sg-mobile-frontpage=\"\" data-pn-en-gb-mobile-frontpage=\"\" data-pn-en-us-mobile-mail=\"\" data-pn-en-ca-mobile-mail=\"\" data-pn-de-de-mobile-mail=\"\" data-pn-es-es-mobile-mail=\"\" data-pn-fr-fr-mobile-mail=\"\" data-pn-en-in-mobile-mail=\"\" data-pn-it-it-mobile-mail=\"\" data-pn-en-sg-mobile-mail=\"\" data-pn-en-gb-mobile-mail=\"\" data-pn-pt-br-mobile-mail=\"\" data-pn-en-us-tablet-frontpage=\"\" data-pn-en-us-tablet-mail=\"\" data-pn-en-ca-tablet-mail=\"\" data-pn-de-de-tablet-mail=\"\" data-pn-es-es-tablet-mail=\"\" data-pn-fr-fr-tablet-mail=\"\" data-pn-en-in-tablet-mail=\"\" data-pn-it-it-tablet-mail=\"\" data-pn-en-sg-tablet-mail=\"\" data-pn-en-gb-tablet-mail=\"\" data-pn-pt-br-tablet-mail=\"\" data-news-search-yahoo-com=\"\" data-answers-search-yahoo-com=\"\" data-finance-search-yahoo-com=\"\" data-images-search-yahoo-com=\"\" data-video-search-yahoo-com=\"\" data-sports-search-yahoo-com=\"\" data-shopping-search-yahoo-com=\"\" data-shopping-yahoo-com=\"\" data-us-qa-trunk-news-search-yahoo-com =\"\" data-dss=\"\"></div>    <a href=\"#yuhead-search\" class=\"yucs-skipto-search yucs-activate\">Skip to search.</a>  <div id=\"yuhead-hd\" class=\"yuhead-clearfix\"> <div id=\"yuhead-mepanel-cont\"> <ul id=\"yuhead-mepanel\" class=\"yucs-toolbar yucs-activate\" aria-label=\"User services\"><li class=\"yuhead-me yuhead-nodivide yuhead-nopad\"> <a class=\"yuhead-signup\" href=\"https://edit.yahoo.com/config/eval_register?.src=quote&.intl=au&.lang=en-AU&.done=https://au.finance.yahoo.com/q\" target=\"_top\" rel=\"nofollow\"> <em>New user?</em> Register</a></li><li class=\"yuhead-me\"> <a href=\"https://login.yahoo.com/config/login?.src=quote&.intl=au&.lang=en-AU&.done=https://au.finance.yahoo.com/q\" target=\"_top\" rel=\"nofollow\"> <em>Sign in</em></a></li><li class=\"yuhead-me\"><a href=\"https://help.yahoo.com/kb/index?page=product&y=PROD_FIN&locale=en_AU\" rel=\"nofollow\" target=\"_top\">Help</a></li></ul>   </div> <div id=\"yuhead-promo\"><a href=\"http://au.yahoo.com/sethomepage/\" target=\"_top\" rel=\"nofollow\">Make Yahoo7 My Homepage<abbr title=\"Yahoo!\"></abbr></a></div> <div id=\"yuhead-com-links-cont\"> <ul id=\"yuhead-com-links\" class=\"yucs-toolbar yucs-activate\" aria-label=\"Yahoo services\">  <li class=\"yuhead-com-link-item yucs-mailpreview-ancestor\"> <a class=\"sp yltasis yuhead-ico-mail\" href=\"https://au.mail.yahoo.com/?.intl=au&.lang=en-AU\" rel=\"nofollow\" target=\"_top\">Mail</a><ul class=\"yucs-mail-preview-panel hide\" data-uri-scheme=\"http\" data-uri-path=\"ucs.query.yahoo.com/v1/console/yql\" data-mail-txt=\"Mail\" data-mail-view=\"Go to Mail\" data-mail-help-txt=\"Help\" data-mail-help-url=\"http://help.yahoo.com/l/au/yahoo7/mail/ymail/\" data-mail-loading-txt=\"Loading...\" data-languagetag=\"en-au\" data-mrd-crumb=\"\" data-authstate=\"signedout\" data-middleauth-signin-text=\"Click here to view your emails\" data-popup-login-url=\"https://login.yahoo.com/config/login_verify2?.pd=c%3DOIVaOGq62e5hAP8Tv..nr5E3&.src=sc\" data-middleauthtext=\"You have {count} new messages.\" data-yltmessage-link=\"http://mrd.mail.yahoo.com/msg?mid={msgID}&fid=Inbox&src=uh&.crumb=\" data-yltviewall-link=\"https://au.mail.yahoo.com/\" data-yltpanelshown=\"/\"></ul></li><li class=\"yuhead-com-link-item\"> <a href=\"http://au.my.yahoo.com\" rel=\"nofollow\" target=\"_top\"> My Yahoo7 </a></li><li id=\"yuhead-com-home\"><a class=\"sp yuhead-ico-home\" href=\"https://au.yahoo.com/\" rel=\"nofollow\" target=\"_top\">Yahoo7</a></li> </ul> </div> </div> <div id=\"yuhead-bd\" class=\"yuhead-clearfix\"> <div class=\"yuhead-logo\"> <style> .yuhead-logo h2{ width:350px; height:34px; background-image:url(https://s.yimg.com/rz/d/yahoo_finance_en-AU_s_f_pw_351x40_finance.png); _background-image:url(https://s.yimg.com/rz/d/yahoo_finance_en-AU_s_f_pw_351x40_finance.gif); } .yuhead-logo a{ width:350px; height:34px; } .yuhead-logo div.yuhead-comarketing { width:350px; } .yog-tablet #yUnivHead h2 { background-position: -350px 5px !important; } html[lang=\\'en-AU\\'] .yog-tablet #yUnivHead .yuhead-logo h2 { background-position: -350px 5px !important; } html[lang=\\'en-NZ\\'] .yog-tablet #yUnivHead .yuhead-logo h2 { background-position: -350px 5px !important; } .yog-smartphone #yUnivHead h2 { background-position: -265px 0; background-size: 534px; margin-left: 26%; } .yog-tablet .yuhead-logo h2{ background-repeat: repeat-x; } .yog-tablet.yog-version-v2 #yUnivHead h2 { background-position: center !important; } .yog-tablet #yUnivHead .yuhead-logo h2 { height: 40px !important; } .yog-rtl.yog-smartphone #yUnivHead .yuhead-logo h2 { background-position: -352px 0; !important; background-size: 536px !important; margin-left: 30% !important; } html[lang=\\'ar\\'] .yog-rtl.yog-smartphone #yUnivHead .yuhead-logo h2 { background-position: -386px 0; !important; } .yog-smartphone #yUnivHead h2.yuhead-music { background-position: 0 0 !important; width: 260px !important; } html[lang=\\'en-US\\'] .yog-smartphone #yUnivHead h2 { background-size: auto 21px !important; background-position: -350px 0; } html[lang=\\'pt-BR\\'] .yog-smartphone #yUnivHead h2.yuhead-sports { background-position: -265px 0 !important; background-size: 534px; margin-left: 17%; } html[lang=\\'ar\\'] .yog-smartphone #yUnivHead h2.yuhead-omg { background-position: -383px 0 !important; background-size: 605px; margin-left: 0; width: auto; } html[lang=\\'en-PH\\'] .yog-tablet #yUnivHead .yuhead-logo h2 { height: 47px !important; } html[lang=\\'en-PH\\'] .yog-smartphone #yUnivHead h2 { width: 255px; } </style> <h2 class=\"yuhead-finance yuhead-standard\"> <a href=\"https://au.finance.yahoo.com/\" target=\"_top\" tabindex=\"-1\"> Yahoo Finance </a> </h2> <div id=\"yucs-disclaimer-md\" class=\"yucs-disclaimer-md yucs-activate yucs-hide Desktop  yucs-property-finance yucs-fcb-\" data-dsstext=\"Want a better search experience? {dssLink}Set your Search to Yahoo{linkEnd}\" data-dsstext-mobile=\"Search Less, Find More\" data-dsstext-mobile-ok=\"OK\" data-dsstext-mobile-set-search=\"Set Search to Yahoo\" data-ylt-link=\"https://uk.search.yahoo.com/searchset?pn=\" data-ylt-dssbarclose=\"/\" data-ylt-dssbaropen=\"/\" data-linktarget=\"_top\" data-lang=\"en-au\" data-property=\"finance\" data-device=\"Desktop\" data-close-txt=\"Close this window\" data-maybelater-txt = \"Maybe later\" data-killswitch = \"0\" data-dss=\"\"></div><script typ=\"text/javascript\" src=\"https://s.yimg.com/kx/yucs/uh3/disclaimer/274/js/disclaimer_seed-min.js\"></script> </div> <div id=\"yuhead-search\"> <div id=\"yuhead-sform-cont\" class=\"yuhead-s-web yuhead-search-form\"> <form role=\"search\" class=\"yucs-search yucs-activate\" target=\"_top\" action=\"https://au.search.yahoo.com/search\" method=\"get\"><table role=\"presentation\"> <tbody role=\"presentation\"><tr role=\"presentation\"><td class=\"yucs-form-input\" role=\"presentation\"> <label for=\"yuhead-sform-searchfield\"> <span>Search</span> </label> <input autocomplete=\"off\" type=\"text\" class=\"sp yuhead-ico-mglass yuhead-search-hint yucs-search-field\" name=\"p\" data-sh=\"Search\"  data-gosurl=\"\" id=\"yuhead-sform-searchfield\" data-pubid=\"\" /></td><td NOWRAP class=\"yucs-form-btn\" role=\"presentation\"><div class=\"yucs-btn-wrap\"> <button class=\"yucs-sweb-btn\" type=\"submit\">Search web</button></div> </td> </tr> </tbody></table><input type=\"hidden\" id=\"fr\" name=\"fr\" value=\"ush1-finance\" /></form> </div> </div>  </div>               <!-- meta --><div id=\"yucs-meta\" data-authstate=\"signedout\" data-cobrand=\"standard\" data-crumb=\"\" data-mc-crumb=\"\" data-gta=\"\" data-device=\"desktop\" data-experience=\"\" data-firstname=\"\" data-style=\"\" data-flight=\"1467018767\" data-forcecobrand=\"standard\" data-guid=\"\" data-host=\"au.finance.yahoo.com\" data-https=\"1\" data-languagetag=\"en-au\" data-property=\"finance\" data-protocol=\"https\" data-shortfirstname=\"\" data-shortuserid=\"\" data-status=\"active\" data-spaceid=\"\" data-test_id=\"\" data-userid=\"\" data-stickyheader=\"true\" data-headercollapse=\"\" data-uh-test=\"\" ></div><!-- /meta --></div></div><script type=\"text/javascript\">\\n\\t\\tvar yfi_dd = \\'finance.yahoo.com\\';\\n\\t\\t\\n\\t\\t\\tll_js.push({\\n\\t\\t\\t\\'file\\':\\'https://s.yimg.com/zz/combo?kx/ucs/common/js/140/setup-min.js&kx/ucs/sts/js/442/skip-min.js&kx/yucs/uh2/uh/295/js/timestamp_library-min.js&kx/ucs/menu_utils/js/164/menu_utils_v2-min.js&kx/yucs/uh2/uh/295/js/aria_toolbar-min.js&kx/ucs/username/js/43/user_menu-min.js&kx/ucs/help/js/41/help_menu-min.js&kx/ucs/utility_link/js/20/utility_menu-min.js&kx/yucs/uh2/uh/295/js/logo_debug-min.js&kx/yucs/uh3/disclaimer/388/js/disclaimer_seed-min.js&kx/ucs/common/js/131/jsonp-super-cached-min.js&kx/ucs/avatar/js/30/avatar-min.js&kx/yucs/uh2/mail-link/85/js/mailcount_v2-min.js&kx/ucs/search/js/226/search-min.js&kx/ucs/search/js/210/search_text_dir-min.js&kx/yucs/uh2/uh/295/js/activate_library-min.js&kx/yucs/uhc/meta/66/js/meta-min.js\\'\\n\\t\\t\\t});\\n\\t\\t\\n              if(window.LH) {\\n                  LH.init({spaceid:\\'1183800006\\'});\\n              }\\n\\t</script><script type=\"text/javascript\">\\n                if(typeof YAHOO == \"undefined\"){YAHOO={};}\\n                if(typeof YAHOO.Finance == \"undefined\"){YAHOO.Finance={};}\\n                if(typeof YAHOO.Finance.ComscoreConfig == \"undefined\"){YAHOO.Finance.ComscoreConfig={};}\\n                YAHOO.Finance.ComscoreConfig={ \"config\" : [\\n                        {\\n                        c5: \"1183800006\",\\n                        c7: \"https://au.finance.yahoo.com/q\"\\n                        }\\n                ] }\\n                \\n\\n                ll_js.push({\\n                            \\'file\\': \\'bm/lib/fi/common/p/d/static/js/2.0.356981/2.0.0/mini/yfi_comscore.js\\',\\n                            \\'combo\\' : \\'1\\'\\n                });\\n        </script><noscript><img src=\"https://sb.scorecardresearch.com/p?c1=2&amp;c2=7241469&amp;c4=http://au.finance.yahoo.com/q&amp;c5=1183800006&amp;cv=2.0&amp;cj=1\"></noscript><style type=\"text/css\">\\n              .yfi-price-change-up{\\n                color:#008800\\n               }\\n                    \\n              .yfi-price-change-down{\\n                color:#cc0000\\n               }\\n            </style></div></div><div class=\"ad_in_head\"><div class=\"yfi_doc\"><div style=\"text-align:center;\"></div>\\n\\n</div></div><div id=\"y-nav\"><div id=\"navigation\" class=\"yom-mod yom-nav\" role=\"navigation\"><div class=\"bd\"><div class=\"nav\"><div class=\"y-nav-pri-legobg\"><div id=\"y-nav-pri\" class=\"nav-stack nav-0 yfi_doc\"><ul class=\"yog-grid\" id=\"y-main-nav\"><li id=\"home\"><div class=\"level1\"><a href=\"/\"><span>Home</span></a></div></li><li id=\"news%2520%2526%2520opinion\"><div class=\"level1\"><a href=\"/news/\"><span>News &amp; Opinion</span></a><div class=\"arrow\"><em></em></div><div class=\"pointer\"></div><ul class=\"nav-sub\"><li><a href=\"/news/category-currencies/\">Australian Dollar</a></li><li><a href=\"/news/topic-top-stories/\">Top Stories</a></li><li><a href=\"/news/category-stocks/\">Stock Market</a></li><li><a href=\"http://au.pfinance.yahoo.com/our-experts/\">Columnists</a></li><li><a href=\"/news/category-currencies/\">Currencies</a></li><li><a href=\"/news/category-company-news-earnings/\">Companies</a></li><li><a href=\"http://au.pfinance.yahoo.com/video\">Video</a></li></ul></div></li><li id=\"tax%2520time%25202016\"><div class=\"level1\"><a href=\"/taxtime2016\"><span>Tax Time 2016</span></a></div></li><li id=\"investing\"><div class=\"level1\"><a href=\"/investing/\"><span>Investing</span></a><div class=\"arrow\"><em></em></div><div class=\"pointer\"></div><ul class=\"nav-sub\"><li><a href=\"/indices?e=asx\">Market Stats</a></li><li><a href=\"/currencies/investing.html\">Currencies</a></li><li><a href=\"http://au.pfinance.yahoo.com/online-trading/\">Online Trading</a></li><li><a href=\"http://au.pfinance.yahoo.com/education/\">Education</a></li></ul></div></li><li class=\"nav-fin-portfolios\"><div id=\"y-my-portfolios\" class=\"level1\"><a id=\"yfmya\" href=\"https://au.finance.yahoo.com/portfolios/\"><span>My Portfolios</span></a><div class=\"arrow\"><em></em></div><div class=\"pointer\"></div><ul class=\"nav-sub\"><li><a href=\"/portfolios/\">Sign in to access My Portfolios</a></li></ul></div></li><li id=\"personal%2520finance\"><div class=\"level1\"><a href=\"http://au.pfinance.yahoo.com/\"><span>Personal Finance</span></a><div class=\"arrow\"><em></em></div><div class=\"pointer\"></div><ul class=\"nav-sub\"><li><a href=\"http://au.pfinance.yahoo.com/money-manager/\">Money Manager</a></li><li><a href=\"http://au.pfinance.yahoo.com/video\">Videos</a></li><li><a href=\"http://au.pfinance.yahoo.com/our-experts/\">Experts</a></li><li><a href=\"http://au.pfinance.yahoo.com/tips-and-tools/\">Tips & Tools</a></li><li><a href=\"http://au.pfinance.yahoo.com/money-manager/real-estate/\">Real Estate</a></li><li><a href=\"http://au.pfinance.yahoo.com/education\">Investing</a></li><li><a href=\"http://au.pfinance.yahoo.com/fame-and-fortune/\">Fame & Fortune</a></li><li><a href=\"http://au.pfinance.yahoo.com/compare/?cmp=gpfn\">Compare Rates</a></li><li><a href=\"http://au.pfinance.yahoo.com/forums/\">Forums</a></li><li><a href=\"http://au.pfinance.yahoo.com/photos/\">Photos</a></li></ul></div></li><li id=\"video\"><div class=\"level1\"><a href=\"http://au.pfinance.yahoo.com/video/\"><span>Video</span></a></div></li><li id=\"expert%2520opinion\"><div class=\"level1\"><a href=\"http://au.pfinance.yahoo.com/our-experts/\"><span>Expert Opinion</span></a></div></li><li id=\"compare\"><div class=\"level1\"><a href=\"http://au.pfinance.yahoo.com/compare/?cmp=gfww\"><span>Compare</span></a><div class=\"arrow\"><em></em></div><div class=\"pointer\"></div><ul class=\"nav-sub\"><li><a href=\"http://au.pfinance.yahoo.com/compare/home-loans/?cmp=gfww\">Home loans</a></li><li><a href=\"http://au.pfinance.yahoo.com/compare/credit-cards/?cmp=gfww\">Credit cards</a></li><li><a href=\"http://au.pfinance.yahoo.com/compare/savings/search/?search=savings&amp;cmp=gfww\">Savings deposits</a></li><li><a href=\"http://au.pfinance.yahoo.com/compare/term-deposits/search/?search=term-deposits&amp;cmp=gfww\">Term deposits</a></li><li><a href=\"http://au.pfinance.yahoo.com/compare/personal-loans/?cmp=gfww\">Personal loans</a></li><li><a href=\"http://au.pfinance.yahoo.com/compare/personal-loans/search/?amount=10000&amp;term=3&amp;rate-type=fixed&amp;loan-type=car&amp;cmp=gfww\">Car loans</a></li><li><a href=\"http://mobilephones.yahoo.com.au/mobilephones?cmp=gfww\">Smartphones</a></li><li><a href=\"http://broadband.yahoo.com.au/broadband?cmp=gfww\">Broadband</a></li><li><a href=\"http://au.pfinance.yahoo.com/compare/energy/?cmp=gfww\">Electricity prices</a></li><li><a href=\"http://au.pfinance.yahoo.com/compare/energy/?cmp=gfww\">Gas prices</a></li><li><a href=\"http://au.pfinance.yahoo.com/compare/life-insurance/?cmp=gfww\">Life insurance</a></li><li><a href=\"http://tablets.yahoo.com.au/tablets?cmp=gfww\">Tablets</a></li><li><a href=\"/compare/health-insurance/\">Health Insurance</a></li></ul></div></li></ul></div></div>     </div></div></div><script>\\n        \\n        (function(el) {\\n            function focusHandler(e){\\n                if (e && e.target){\\n                    e.target == document ? null : e.target;\\n                    document.activeElement = e.target;\\n                }\\n            }\\n            // Handle !IE browsers that do not support the .activeElement property\\n            if(!document.activeElement){\\n                if (document.addEventListener){ \\n                    document.addEventListener(\"focus\", focusHandler, true);\\n                }\\n            }\\n        })(document);\\n        \\n        </script><div class=\"y-nav-legobg\"><div class=\"yfi_doc\"><div id=\"y-nav-sec\" class=\"clear\"><div id=\"searchQuotes\" class=\"ticker-search mod\" mode=\"search\"><div class=\"hd\"></div><div class=\"bd\"><form id=\"quote\" name=\"quote\" action=\"/q\"><h2 class=\"yfi_signpost\">Search for share prices</h2><label for=\"txtQuotes\">Search for share prices</label><input id=\"txtQuotes\" name=\"s\" value=\"\" type=\"text\" autocomplete=\"off\" placeholder=\"Enter Symbol\"><input id=\"get_quote_logic_opt\" name=\"ql\" value=\"1\" type=\"hidden\" autocomplete=\"off\"><div id=\"yfi_quotes_submit\"><span><span><span><input type=\"submit\" value=\"Look Up\" id=\"btnQuotes\" class=\"rapid-nf\"></span></span></span></div></form></div><div class=\"ft\"><a href=\"http://au.finance.search.yahoo.com/search?fr=finance-ss\">Finance Search</a><!-- this is required only for the yoda pages, /page/settings/@page is available only on yoda pages --><div class=\"report_issue\"><a href=\"https://yahoo.uservoice.com/forums/170310-yahoo-7-finance/category/84971-data-accuracy\" class=\"Fz-xs\" target=\"_blank\">Report an Issue</a></div><div class=\"strmg_bar_top streaming_toggle\"><div id=\"yfi_pg_settings_icon\">Streaming</div><div id=\"yfi_streaming_ticker_panel\"><div id=\"yfi_streaming_quotes\" class=\"yfi_streaming_quotes_p\"> </div><div id=\"ticker_onoff\"><span>Ticker Tape: </span><input type=\"hidden\" name=\"tton\" id=\"yfi_tt_on\" value=\"0\"><a onclick=\"tptoggleOnoffText(1); return false;\" class=\"rapid-nf\"><span id=\"tt_off\" style=\"display:inline;\">Off</span></a><a onclick=\"tptoggleOnoffText(0); return false;\" class=\"rapid-nf\"><span id=\"tt_on\" style=\"display:none;\">On</span></a></div></div></div><div class=\"mkt_time\"><p><span id=\"yfs_market_time\">Mon 27 Jun 2016 19:12 - Australia Markets closed</span></p></div></div></div></div></div></div></div>\\n<div id=\"yfi_doc\"><div id=\"yfi_bd\">\\n<span id=\"yfs_ad_\" ></span><div id=\"marketindices\">&nbsp;<span><a href=\"/q?s=%5EAORD\">All Ordinaries</a></span>&nbsp;<span id=\"yfs_pp0_^aord\"><img width=\"10\" height=\"14\" style=\"margin-right:-2px;\" border=\"0\" src=\"https://s.yimg.com/os/mit/media/m/base/images/transparent-1093278.png\" class=\"pos_arrow\" alt=\"Up\"> <b class=\"\\n      \\t        yfi-price-change-up\\n            \">0.45%</b></span></div>\\n<div id=\"yfi_investing_nav\"></div><div id=\"yfi_investing_content\"><div class=\"yui-g bb-0\"><script>\\n\\t    document.domain=\\'finance.yahoo.com\\';\\n\\t</script><div id=\"yfi_broker_buttons\"><div id=\"yfi_broker_buttons_original\" class=\"clearfix\"></div><div id=\"yfi_broker_banners\" class=\"clearfix yfi-broker-banners\"><div class=\"banner-strip\"></div></div></div></div><div id=\"yfi_error_msg\" class=\"yui-g\"><p>To get a quote, enter a company name or stock symbol in the quote box above.</p></div></div><div class=\"yfi_ad_s\"></div></div>\\n</div>\\n<div id=\"yfi_ticker_container\" class=\"yfi_ticker_container\"><div id=\"yfi_stock_ticker\"><div id=\"yfi_stock_ticker_settings_icon\"></div><div id=\"yfi_stock_ticker_close_icon\"></div><canvas id=\"stock_ticker\" width=\"910\" height=\"21\">Your browser doesn\\'t support canvas</canvas></div><div id=\"yfi_stock_ticker_settings\" class=\"hide yfi_st_settings\"><div class=\"yfi_ticker_hd\"><em class=\"default\">SETTINGS</em></div><div class=\"yfi_ticker_bd\"><form method=\"post\" action=\"#\" id=\"ttpanel\"><input type=\"hidden\" name=\"userSignedIn\" id=\"yfi_user_signed_in\" value=\"1\"><input type=\"hidden\" name=\"ustreaming\" id=\"ustreaming\" value=\"1\"><input type=\"hidden\" name=\"userPreferences\" id=\"yfi_user_preferences\" value=\"0\"><fieldset><legend>Scrolling</legend><input type=\"hidden\" name=\"ttScroll\" id=\"yfi_tt_scroll\" value=\"0\"><input type=\"radio\" name=\"isPaused\" id=\"yfi_ticker_resume\" value=\"0\" checked><label for=\"yfi_ticker_resume\" class=\"first\">On</label><input type=\"radio\" name=\"isPaused\" id=\"yfi_ticker_pause\" value=\"1\"><label for=\"yfi_ticker_pause\" class=\"first\">Off</label></fieldset><fieldset><legend>Speed</legend><input type=\"hidden\" name=\"ttSpeed\" id=\"yfi_tt_speed\" value=\"0\"><input type=\"radio\" name=\"scrollingSpeed\" id=\"yfi_ticker_speed1\" value=\"0\" checked><label for=\"yfi_ticker_speed1\" class=\"first\">Slow</label><input type=\"radio\" name=\"scrollingSpeed\" id=\"yfi_ticker_speed2\" value=\"1\"><label for=\"yfi_ticker_speed2\" class=\"first\">Med</label><input type=\"radio\" name=\"scrollingSpeed\" id=\"yfi_ticker_speed3\" value=\"2\"><label for=\"yfi_ticker_speed3\" class=\"first\">Fast</label></fieldset><fieldset><legend for=\"tickerList\">Display</legend><input type=\"hidden\" name=\"ttDisplay\" id=\"yfi_tt_display\" value=\"0\"><select id=\"tickerList\"><option id=\"yfi_ticker_rq\" selected>My Recent Quotes</option><option id=\"yfi_ticker_ms\">Market Summary</option></select></fieldset><fieldset><legend>Price</legend><input type=\"hidden\" name=\"ttChange\" id=\"yfi_tt_change\" value=\"0\"><input type=\"radio\" name=\"tickerChange\" id=\"yfi_ticker_change1\" value=\"0\" checked><label for=\"yfi_ticker_change1\" class=\"first\">Change</label><input type=\"radio\" name=\"tickerChange\" id=\"yfi_ticker_change2\" value=\"1\"><label for=\"yfi_ticker_change2\" class=\"first\">% Change</label></fieldset><button type=\"submit\" id=\"submitStSettings\">Save</button><a href=\"http://feedback.help.yahoo.com/feedback.php?.src=FINANCE&amp;.from=tickertape&amp;.done=http://au.finance.yahoo.com/q\" id=\"tt_submit_feedback\" target=\"_blank\">Submit Feedback</a></form></div></div></div><div id=\"yfi_ft\"><div id=\"y-footer\"><div class=\"footer_copyright\"><div class=\"yfi_doc\"><div class=\"footer_legal\">Copyright &amp;copy; 2010 Yahoo!7 Pty Limited. All rights reserved.</div><div class=\"footer_legal\"></div><div class=\"footer_disclaimer\"><p><strong>Quotes for NYSE, Nasdaq and NYSEAmex are Real-time</strong> and sourced from Nasdaq Last Sale when available. If not available from NLS, quotes will appear delayed from primary listing source.<br /> See also delay times for <a href=\"http://help.yahoo.com/l/au/yahoo7/finance/basics/fitadelay2.html\">other exchanges</a>. All information provided \"as is\" for informational purposes only, not intended for trading purposes or advice. Neither Yahoo!7 nor any of independent providers is liable for any informational errors, incompleteness, or delays, or for any actions taken in reliance on information contained herein. By accessing the Yahoo!7 site, you agree not to redistribute the information found therein.</p><p>Fundamental company data provided by <a href=\"http://www.capitaliq.com\">Capital IQ</a>. Historical chart data and daily updates provided by <a href=\"http://www.csidata.com\">Commodity Systems, Inc. (CSI)</a>. International historical chart data, daily updates, fund summary, fund performance, dividend data and Morningstar Index data provided by <a href=\"http://www.morningstar.com/\">Morningstar, Inc.</a> Real-Time quotes provided by <a href=\"http://batstrading.com\">BATS Exchange</a>. US Financials data provided by <a href=\"http://www.edgar-online.com/\">Edgar Online</a> and all other Financials provided by <a href=\"http://www.capitaliq.com\">Capital IQ</a>. </p></div></div></div></div></div>\\n<div id=\"spaceid\" style=\"display:none;\">1183800006</div><script type=\"text/javascript\">\\n                if(typeof YAHOO == \"undefined\"){YAHOO={};}\\n                if(typeof YAHOO.Finance == \"undefined\"){YAHOO.Finance={};}\\n                if(typeof YAHOO.Finance.SymbolSuggestConfig == \"undefined\"){YAHOO.Finance.SymbolSuggestConfig=[];}\\n\\n                    YAHOO.Finance.SymbolSuggestConfig.push({\\n                        dsServer:\\'https://s.yimg.com/aq/autoc\\',\\n                        dsRegion:\\'AU\\',\\n                        dsLang:\\'en-AU\\',\\n                        dsFooter:\\'<div class=\"moreresults\"><a class=\"[[tickdquote]]\" href=\"https://au.finance.yahoo.com/lookup?s=[[link]]\">Show all results for [[tickdquote]]</a></div><div class=\"tip\"><em>Tip:</em> Use comma (,) to separate multiple quotes. <a href=\"http://help.yahoo.com/l/au/yahoo7/finance/basics/fitaquolookup.html\">Learn more...</a></div>\\',\\n                        acInputId:\\'txtQuotes\\',\\n                        acInputFormId:\\'quote\\',\\n                        acContainerId:\\'quoteContainer\\',\\n                        acModId:\\'mediaquotessearch\\',\\n\\t\\t\\tacInputFocus:\\'0\\'\\n                    });\\n\\t\\t\\t\\t</script><script type=\"text/javascript\" src=\"https://s.yimg.com/ss/rapid-3.38.js\"></script><script type=\"text/javascript\" src=\"https://s.yimg.com/bm/combo?fi/common/p/d/static/js/2.0.356981/2.0.0/mini/yui-min-3.5.1.js&amp;fi/common/p/d/static/js/2.0.356981/yui_2.8.0/build/yuiloader-dom-event/2.0.0/mini/yuiloader-dom-event.js&amp;fi/common/p/d/static/js/2.0.356981/yui_2.8.0/build/container/2.0.0/mini/container.js&amp;fi/common/p/d/static/js/2.0.356981/yui_2.8.0/build/datasource/2.0.0/mini/datasource.js&amp;fi/common/p/d/static/js/2.0.356981/yui_2.8.0/build/autocomplete/2.0.0/mini/autocomplete.js&amp;fi/common/p/d/static/js/2.0.356981/2.0.0/mini/ylc_1.9.js&amp;fi/common/p/d/static/js/2.0.356981/2.0.0/mini/yfi_loader.js&amp;fi/common/p/d/static/js/2.0.356981/2.0.0/mini/yfi_symbol_suggest.js&amp;fi/common/p/d/static/js/2.0.356981/2.0.0/mini/yfi_init_symbol_suggest.js&amp;fi/common/p/d/static/js/2.0.356981/2.0.0/mini/yfi_nav_topnav_init.js&amp;fi/common/p/d/static/js/2.0.356981/2.0.0/mini/yfi_nav_topnav.js&amp;fi/common/p/d/static/js/2.0.356981/2.0.0/mini/yfi_nav_portfolio.js&amp;fi/common/p/d/static/js/2.0.356981/yui_2.8.0/build/get/2.0.0/mini/get.js&amp;fi/common/p/d/static/js/2.0.356981/2.0.0/mini/yfi_lazy_load.js\"></script><script language=\"javascript\">\\n\\tYUI.YUICfg = {\"base\":\"https:\\\\/\\\\/s.yimg.com\\\\/\",\"comboBase\":\"https:\\\\/\\\\/s.yimg.com\\\\/zz\\\\/combo?\",\"combine\":true,\"allowRollup\":true,\"maxURLLength\":\"2000\"}\\n\\tYUI.YUICfg.root = \\'yui:\\'+YUI.version+\\'/build/\\';\\n\\tYUI.applyConfig(YUI.YUICfg); \\n    </script><script type=\"text/javascript\">\\n        ll_js.push({\\n            \\'file\\': \\'https://s.yimg.com/os/mit/media/p/common/nielsen_1.0.60-min-1745861.js\\',\\n            \\'success_callback\\' : function() {\\n                /* START Nielsen Online SiteCensus V6.0 */\\n                /* COPYRIGHT 2009 Nielsen Online */\\n                var pvar = { cid: \"au-yahoo\", content: \"0\", server: \"secure-au\" };\\n                var trac = nol_t(pvar);\\n                trac.record().post();\\n                /* END Nielsen Online SiteCensus V6.0 */\\n            }\\n        });\\n        </script><noscript><div><img src=\"//secure-au.imrworldwide.com/cgi-bin/m?ci=au-yahoo&amp;cg=0&amp;cc=1&amp;ts=noscript\" width=\"1\" height=\"1\" alt=\"\"></div></noscript><script type=\"text/javascript\">\\n         var y7ChartbeatConf = {\\n\\t     startPoint : (new Date()).getTime(),\\n\\t     config : {\\n\\t\\t \"uid\" : 56835,\\n\\t\\t \"domain\" : \"yahoo.com.au\",\\n\\t\\t \"path\" : window.location.pathname,\\n\\t\\t \"useCanonical\": true,\\n\\t\\t \"title\" : document.title,\\n\\t\\t \"sections\" : \"au.finance.yahoo.com,aufinance\",\\n\\t\\t \"authors\" : null\\n\\t     }\\n\\t}\\n\\n        </script><script src=\"https://s.yimg.com/zz/combo?ao/i/mp/js/tracking-widget/tracking-widget.g20140911121250.js\" async=\"async\"></script><span id=\"yfs_params_vcr\" style=\"display:none\">{\"yrb_token\" : \"YFT_MARKET_CLOSED\", \"tt\" : \"1467018767\", \"s\" : \"\", \"k\" : \"a00,a50,b00,b60,c10,g00,h00,l10,p20,t10,v00\", \"o\" : \"^aord,^axjo,^AORD,CBA.ax,NAB.ax,ANZ.ax,WBC.ax,BHP.ax,TLS.ax,QAN.ax\", \"j\" : \"c10,c63,j10,l10,l84,p20,p43,t10,t53,v00\", \"version\" : \"1.0\", \"market\" : {\"NAME\" : \"\", \"ID\" : \"au_market\", \"TZ\" : \"AEST\", \"TZOFFSET\" : \"36000\", \"open\" : \"\", \"close\" : \"\", \"flags\" : {}} , \"market_status_yrb\" : \"YFT_MARKET_CLOSED\" , \"portfolio\" : { \"fd\" : { \"txns\" : [ ]},\"dd\" : \"\",\"pc\" : \"\",\"pcs\" : \"\"}, \"SINGLE_QUOTE_PAGE\" : { \"symbol\" : \"^AORD\",\"name\" : \"\"}, \"STREAMER_SERVER\" : \"//streamerapi.finance.yahoo.com\", \"DOC_DOMAIN\" : \"finance.yahoo.com\", \"localize\" : \"0\" , \"throttleInterval\" : \"1000\" , \"arrowAsChangeSign\" : \"true\" , \"up_arrow_icon\" : \"https://s.yimg.com/lq/i/us/fi/03rd/up_g.gif\" , \"down_arrow_icon\" : \"https://s.yimg.com/lq/i/us/fi/03rd/down_r.gif\" , \"up_color\" : \"green\" , \"down_color\" : \"red\" , \"pass_market_id\" : \"0\" , \"mu\" : \"1\" , \"lang\" : \"en-AU\" , \"region\" : \"AU\" , \"ticker_currency_sym\" : \"\" }</span><span style=\"display:none\" id=\"yfs_enable_chrome\">1</span><input type=\"hidden\" id=\".yficrumb\" name=\".yficrumb\" value=\"\"><script type=\"text/javascript\">\\n\\t\\t\\t\\tll_js.push({\\n\\t\\t\\t\\t    \\'file\\':\\'bm/lib/fi/common/p/d/static/js/2.0.356981/2.0.0/mini/yfs_concat.js&bm/lib/fi/common/p/d/static/js/2.0.356981/translations/2.0.0/mini/yfs_l10n_en-AU.js\\',\\n\\t\\t\\t\\t    \\'combo\\' : \\'1\\',\\n\\t\\t\\t\\t    \\'success_callback\\' : function() {\\n\\t\\t\\t\\t        YAHOO.Finance.Streaming.init();\\n\\t\\t\\t\\t    }\\n\\t\\t\\t\\t});\\n\\n\\t\\t\\t</script><script type=\"text/javascript\"> \\t \\n\\t\\tif(typeof YAHOO.Finance.TickerTapeConfig == \"undefined\"){YAHOO.Finance.TickerTapeConfig={};}\\n                YAHOO.Finance.TickerTapeConfig={ \"config\" : [\\n                        { \\'mstickers\\': \"^axjo,^AORD,CBA.ax,NAB.ax,ANZ.ax,WBC.ax,BHP.ax,TLS.ax,QAN.ax\",\\n                          \\'mstickersdn\\': \"\\'S&P ASX 200\\',\\'All Ords\\',\\'CommBank\\',\\'NAB\\',\\'ANZ\\',\\'Westpac\\',\\'BHP Billiton\\',\\'Telstra\\',\\'Qantas\\'\"\\n\\t\\t\\t}\\n                ] }\\n                \\n\\n                ll_js.push({\\n                            \\'file\\': \\'bm/lib/fi/common/p/d/static/js/2.0.356981/2.0.0/mini/yfi_ticker.js\\',\\n                            \\'combo\\' : \\'1\\'\\n                });\\n\\t        var appleDevicePattern = new RegExp(\"(iPad|iPhone|iPod)\"); \\t \\n\\t        if ( navigator.userAgent.match( appleDevicePattern ) ) { \\t \\n\\t                 YAHOO.util.Dom.setStyle(\\'yfi_stock_ticker\\',\\'position\\',\\'static\\'); \\t \\n\\t        } else { \\t \\n\\t  \\t\\t// Do nothing \\n\\t        } \\t \\n\\t        </script><script type=\"text/javascript\">\\n\\t\\t// set side nav height\\n\\t\\t(function() {\\n\\t\\t\\tvar nav = YAHOO.util.Dom.get(\"yfi_investing_nav\");\\n\\t\\t\\tif (nav) {\\n\\t\\t\\t\\tvar content = YAHOO.util.Dom.get(\"yfi_investing_content\");\\n\\t\\t\\t\\tif (nav.offsetHeight < content.offsetHeight) {\\n\\t\\t\\t\\t\\tnav.style.height = content.offsetHeight + \"px\";\\n\\t\\t\\t\\t}\\n\\t\\t\\t}\\n\\t\\t}());\\t\\t\\n\\t</script><span id=\"yfs_ad_\" ></span><!--\\n    \\t    Begin : Page level configs for rapid \\n\\t    Configuring modules for a page in one place because having a lot of inline scripts will not be good for performance\\n\\t--><script type=\"text/javascript\">\\n\\t    window.RAPID_ULT ={\\n\\t\\ttracked_mods:{\\n\\t\\t    \\'navigation\\':\\'Navigation\\',\\n\\t\\t    \\'marketindices\\' : \\'Market Indices\\',\\n\\t\\t    \\'yfi_investing_nav\\' : \\'Left nav\\',\\n\\t\\t    \\'yfi_rt_quote_summary\\' : \\'Quote Summary Bar\\',\\n\\t\\t    \\'yfi_related_tickers\\' : \\'Related Tickers\\',\\n\\t\\t    \\'searchQuotes\\':\\'Quote Bar\\',\\n\\t\\t    \\'yfi_summary_chart\\' : \\'Baby chart on QSP\\',\\n\\t\\t    \\'yfi_tradenow\\' : \\'Trade Now\\',\\n\\t\\t    \\'yfi_compare_broker_btn\\' : \\'Compare Broker\\',\\n\\t\\t    \\'yfi_tech_ticker\\' : \\'Exclusives\\',\\n\\t\\t    \\'yfi_headlines\\' : \\'Headlines\\',\\n\\t\\t    \\'yfi_press_releases\\' : \\'Press Releases\\',\\n\\t\\t    \\'yfi_comparison\\' : \\'Comparison\\',\\n\\t\\t    \\'yfi_key_stats\\' : \\'Key Statistics\\',\\n\\t\\t    \\'yfi_analysts\\' : \\'Analysts\\',\\n\\t\\t    \\'yfi_business_summary\\' : \\'Business Summary\\',\\n\\t\\t    \\'yfi_toolbox\\' : \\'Toolbox\\',\\n\\t\\t    \\'yfi_rel_videos\\' : \\'Related Videos\\',\\n\\t\\t    \\'yfi_ft\\' : \\'Footer\\'\\n\\t\\t},\\n\\t\\tpage_params:{\\n\\t\\t    \\'pstcat\\' : \\'Quotes\\',\\n\\t\\t    \\'pt\\' : \\'Quote Leaf Pages\\',\\n\\t\\t    \\'pstth\\' : \\'Quote Summary Page\\'\\n\\t\\t}\\n\\t    }\\n\\t</script><script type=\"text/javascript\">\\n                if(window.RAPID_ULT) {\\n                    var conf = {\\n                        compr_type:\\'deflate\\',\\n                        tracked_mods:window.RAPID_ULT.tracked_mods,\\n                        keys:window.RAPID_ULT.page_params,\\n                        spaceid:1183800006,\\n                        client_only:0,\\n                        webworker_file:\"\\\\/__rapid-worker-1.2.js\",\\n                        nofollow_class:\\'rapid-nf\\',\\n                        test_id:\\'\\',\\n                        ywa: {\\n                            project_id:1000579267015,\\n                            document_group:\"\",\\n                            document_name:\\'\\',\\n                            host:\\'a.analytics.yahoo.com\\'\\n                        }\\n                    };\\n                    YAHOO.i13n.YWA_CF_MAP = {\"tar\":02,\"sec\":01,\"slk\":03};\\n                    YAHOO.i13n.YWA_ACTION_MAP = {\"hswipe\":36,\"nav_clicked\":21,\"secvw\":1};\\n                    YAHOO.i13n.YWA_OUTCOME_MAP = {};\\n                    window.rapidTracker = new YAHOO.i13n.Rapid(conf); //Making rapiTracker a global variable because it might be needed by other module js\\n                }\\n        </script><script>\\n    var aft_beacon_callback = function() {\\n        if (window.LH !== undefined && Math.floor(Math.random()*100) <= 3) {\\n            if (!window.LH.isInitialized) {\\n                window.LH.init(\\n                {\\n                    spaceid:\\'1183800006\\', //your space id goes here\\n                    serverip:\\'\\',\\n                    pvid:\\'\\',\\n                    crumb:\\'\\'\\n                });\\n            }\\n        } \\n        if (window.YAFT !== undefined) {\\n            var show_report = (window.location.href.indexOf(\\'showaft=\\') != -1) ? 1 : 0;\\n            var aft_mods = [],\\n            each_mod = \\'\\';\\n            var mods = window.RAPID_ULT.tracked_mods; //Reusing the module list from rapid\\n            for (each_mod in mods) {\\n                aft_mods.push(each_mod)\\n            }\\n            window.YAFT.init(\\n            {\\n                modules: aft_mods,\\n                modulesExclude: [\\'yfi_ft\\'],\\n                useNativeStartRender: true,\\n                canShowVisualReport: show_report, //make it configurable and 1 for YNET users\\n                maxWaitTime: 5000 // make it configurable\\n            }, function (data, error) {\\n                if (!error) {\\n                    var rapidPerfData = {\\n                        \\'perf_navigationtime\\':2,\\n                        \\'perf_commontime\\': {\\n                            \\'initialPageLoad\\' : {\\n                                \\'AFT\\': Math.round(data.aft),\\n                                \\'AFT1\\': Math.round(data.aft),\\n                                \\'STR\\': Math.round(data.startRender),\\n                                \\'VIC\\': Math.round(data.visuallyComplete),\\n                                \\'DOMC\\': Math.round(data.domElementsCount),\\n                                \\'HTTPC\\': Math.round(data.httpRequests.count),\\n                                \\'CP\\': Math.round(data.totalCoveragePercentage),\\n                                \\'NCP\\': Math.round(data.normTotalCoveragePercentage)\\n                            }\\n                        },\\n                    };\\n                    window.rapidTracker.beaconPerformanceData(rapidPerfData, window.RAPID_ULT.page_params)\\n                    if (window.LH !== undefined && window.LH.isInitialized) {\\n                        //UH might initilized LH or above cases satisfied. Now configure YAFT\\n                        window.LH.tag(\"b\",\\n                        {\\n                            val: \\'\\' //set your bucket id\\n                        });\\n                        window.LH.record(\\'AFT\\', {\\n                            name: \\'AFT\\', type: \\'mark\\', startTime: Math.round(data.aft), duration: 0\\n                        });\\n                        window.LH.record(\\'VIC\\', {\\n                            name: \\'VIC\\', type: \\'mark\\', startTime: Math.round(data.visuallyComplete), duration: 0\\n                        });\\n                        //this is for darla ads\\n                        if ( window.___adLT___ !== undefined && window.___adLT___.length && window.___adLT___.length > 0) {\\n                            for (var __i__ = 0; __i__ < ___adLT___.length; __i__++) {\\n                                window.LH.record(___adLT___[__i__][0], {\\n                                    name: ___adLT___[__i__][0], type: \\'mark\\', startTime: ___adLT___[__i__][1], duration: 0\\n                                });\\n                            }\\n                        }\\n                        //finally fire all LH beacons\\n                        window.LH.beacon( {\\n                            clearMarks:false, clearMeasures: false, clearCustomEntries: true, clearTags: false\\n                        });\\n                    }\\n                }\\n            });\\n        }\\n    }\\n    YAHOO.util.Get.script(\\'https://s.yimg.com/zz/combo?aj/lh-0.9.js&os/yaft/yaft-0.3.6.min.js&os/yaft/yaft-plugin-aftnoad-0.1.3.min.js\\', {\\n        onSuccess: aft_beacon_callback\\n    });\\n</script></body>\\n</html>\\n<!-- xslt2.finance.bf1.yahoo.com uncompressed/chunked Mon Jun 27 09:12:47 UTC 2016 -->\\n<!-- c3.finance.bf1.yahoo.com compressed/chunked Mon Jun 27 19:12:47 EST 2016 -->\\n'"
      ]
     },
     "execution_count": 27,
     "metadata": {},
     "output_type": "execute_result"
    }
   ],
   "source": [
    "# Use requests.get to retrieve that page\n",
    "#answer.status_code\n",
    "answer.text"
   ]
  },
  {
   "cell_type": "code",
   "execution_count": 28,
   "metadata": {
    "collapsed": true
   },
   "outputs": [],
   "source": [
    "open('yahoofinance-dump.html', 'w').write(answer.content)"
   ]
  },
  {
   "cell_type": "markdown",
   "metadata": {},
   "source": [
    "## Secured pages\n",
    "\n",
    "The username for files under http://www.ifost.org.au/ga/protected is \"ga\" and the password is \"s3cr3t\"\n",
    "\n",
    "In this section we will fetch a file from a website that requires authentication."
   ]
  },
  {
   "cell_type": "code",
   "execution_count": 36,
   "metadata": {
    "collapsed": false
   },
   "outputs": [
    {
     "data": {
      "text/plain": [
       "401"
      ]
     },
     "execution_count": 36,
     "metadata": {},
     "output_type": "execute_result"
    }
   ],
   "source": [
    "# What happens if you use the requests library to fetch http://www.ifost.org.au/ga/protected/data.json \n",
    "# without supplying a password? What is the .status_code?\n",
    "r = requests.get('http://kemek.ifost.org.au/ga/protected/data.json')\n",
    "r.status_code"
   ]
  },
  {
   "cell_type": "code",
   "execution_count": 37,
   "metadata": {
    "collapsed": false
   },
   "outputs": [
    {
     "data": {
      "text/plain": [
       "200"
      ]
     },
     "execution_count": 37,
     "metadata": {},
     "output_type": "execute_result"
    }
   ],
   "source": [
    "# Try again, but this time supplying a username and password\n",
    "r = requests.get('http://kemek.ifost.org.au/ga/protected/data.json', auth=('ga', 's3cr3t'))\n",
    "r.status_code"
   ]
  },
  {
   "cell_type": "markdown",
   "metadata": {},
   "source": [
    "## Parsing HTML\n",
    "\n",
    "In this section we will find the prediction for tomorrow's weather."
   ]
  },
  {
   "cell_type": "code",
   "execution_count": 38,
   "metadata": {
    "collapsed": true
   },
   "outputs": [],
   "source": [
    "# import BeautifulSoup library (version 4)\n",
    "from bs4 import BeautifulSoup"
   ]
  },
  {
   "cell_type": "code",
   "execution_count": 39,
   "metadata": {
    "collapsed": true
   },
   "outputs": [],
   "source": [
    "# Create a variable called \"soup\" with the result of parsing the Bureau of Meteorology prediction for\n",
    "# Sydney that you captured at the start of this notebook.\n",
    "soup = BeautifulSoup(weather.content, 'lxml')"
   ]
  },
  {
   "cell_type": "code",
   "execution_count": 41,
   "metadata": {
    "collapsed": false
   },
   "outputs": [
    {
     "data": {
      "text/plain": [
       "u'Tuesday 28 June'"
      ]
     },
     "execution_count": 41,
     "metadata": {},
     "output_type": "execute_result"
    }
   ],
   "source": [
    "def has_the_word_tuesday(x):\n",
    "    return 'Tuesday' in x\n",
    "\n",
    "# Find the first element in \"soup\" which has the word Tuesday in it\n",
    "# You might find the function \"has_the_word_tuesday\" helpful\n",
    "first_elmt = soup.find(string = has_the_word_tuesday)\n",
    "first_elmt"
   ]
  },
  {
   "cell_type": "code",
   "execution_count": 55,
   "metadata": {
    "collapsed": false
   },
   "outputs": [
    {
     "name": "stdout",
     "output_type": "stream",
     "text": [
      "<div class=\"day main\">\n",
      " <h2>\n",
      "  Tuesday 28 June\n",
      " </h2>\n",
      " <div class=\"forecast\">\n",
      "  <dl>\n",
      "   <dt>\n",
      "    Summary\n",
      "   </dt>\n",
      "   <dd class=\"image\">\n",
      "    <img alt=\"\" height=\"42\" src=\"/images/symbols/large/partly-cloudy.png\" width=\"45\"/>\n",
      "   </dd>\n",
      "   <dd>\n",
      "    Min\n",
      "    <em class=\"min\">\n",
      "     10\n",
      "    </em>\n",
      "   </dd>\n",
      "   <dd>\n",
      "    Max\n",
      "    <em class=\"max\">\n",
      "     18\n",
      "    </em>\n",
      "   </dd>\n",
      "   <dd class=\"summary\">\n",
      "    Cloud clearing.\n",
      "   </dd>\n",
      "   <dd class=\"rain\">\n",
      "    Possible rainfall:\n",
      "    <em class=\"rain\">\n",
      "     0 mm\n",
      "    </em>\n",
      "   </dd>\n",
      "   <dd class=\"rain\">\n",
      "    Chance of any rain:\n",
      "    <em class=\"pop\">\n",
      "     10%\n",
      "     <img alt=\"\" height=\"10\" src=\"/images/ui/weather/rain_10.gif\" width=\"69\"/>\n",
      "    </em>\n",
      "   </dd>\n",
      "  </dl>\n",
      "  <h3>\n",
      "   Sydney area\n",
      "  </h3>\n",
      "  <p>\n",
      "   Sunny. Winds southwesterly 20 to 30 km/h becoming light in the late afternoon.\n",
      "  </p>\n",
      " </div>\n",
      " <p class=\"alert\">\n",
      "  No UV Alert, UV Index predicted to reach 2 [Low]\n",
      " </p>\n",
      "</div>\n",
      "\n"
     ]
    }
   ],
   "source": [
    "# The weather prediction is obviously going to be in a <DIV> that includes it\n",
    "# Display the parent of the element you found in the previous cell. You might\n",
    "# find the .prettify() method makes it easier to display\n",
    "div = first_elmt.parent.parent\n",
    "print div.prettify()"
   ]
  },
  {
   "cell_type": "code",
   "execution_count": 50,
   "metadata": {
    "collapsed": false
   },
   "outputs": [
    {
     "data": {
      "text/plain": [
       "<dd class=\"summary\">Cloud clearing.</dd>"
      ]
     },
     "execution_count": 50,
     "metadata": {},
     "output_type": "execute_result"
    }
   ],
   "source": [
    "# Can you find a <DD> element with a CSS class \"summary\"? (Use the parameter class_ in BeautifulSoup)\n",
    "div.find('dd', class_='summary')"
   ]
  },
  {
   "cell_type": "code",
   "execution_count": 51,
   "metadata": {
    "collapsed": false
   },
   "outputs": [
    {
     "data": {
      "text/plain": [
       "u'Cloud clearing.'"
      ]
     },
     "execution_count": 51,
     "metadata": {},
     "output_type": "execute_result"
    }
   ],
   "source": [
    "# Display the \"string\" attribute of this summary element. Do you need to bring an umbrella?\n",
    "div.find('dd', class_='summary').string"
   ]
  },
  {
   "cell_type": "markdown",
   "metadata": {},
   "source": [
    "## JSON APIs\n",
    "\n",
    "Many websites display their information in JSON format. In this section we will interact\n",
    "with the Pokemon database http://pokeapi.co/"
   ]
  },
  {
   "cell_type": "code",
   "execution_count": 60,
   "metadata": {
    "collapsed": true
   },
   "outputs": [],
   "source": [
    "# Look up their documentation. What is the base URL for querying a Pokemon? What URL\n",
    "# would you use to look up the Pokemon called \"Groudon\"? Store it in a variable\n",
    "url = 'http://pokeapi.co/api/v2/pokemon/groudon'"
   ]
  },
  {
   "cell_type": "code",
   "execution_count": 61,
   "metadata": {
    "collapsed": false
   },
   "outputs": [],
   "source": [
    "# Use the requests library to fetch the Groudon data\n",
    "groudon = requests.get(url)"
   ]
  },
  {
   "cell_type": "code",
   "execution_count": 62,
   "metadata": {
    "collapsed": false
   },
   "outputs": [
    {
     "data": {
      "text/plain": [
       "200"
      ]
     },
     "execution_count": 62,
     "metadata": {},
     "output_type": "execute_result"
    }
   ],
   "source": [
    "# Check the status code to make sure that it worked\n",
    "groudon.status_code"
   ]
  },
  {
   "cell_type": "code",
   "execution_count": 64,
   "metadata": {
    "collapsed": false
   },
   "outputs": [],
   "source": [
    "# Is the content of the response in JSON format? Use the requests library function\n",
    "# to decode it from JSON format into a Python dictionary\n",
    "g_json = groudon.json()"
   ]
  },
  {
   "cell_type": "code",
   "execution_count": 65,
   "metadata": {
    "collapsed": false
   },
   "outputs": [
    {
     "data": {
      "text/plain": [
       "[u'is_default',\n",
       " u'abilities',\n",
       " u'stats',\n",
       " u'name',\n",
       " u'weight',\n",
       " u'held_items',\n",
       " u'location_area_encounters',\n",
       " u'height',\n",
       " u'forms',\n",
       " u'base_experience',\n",
       " u'id',\n",
       " u'game_indices',\n",
       " u'species',\n",
       " u'moves',\n",
       " u'order',\n",
       " u'sprites',\n",
       " u'types']"
      ]
     },
     "execution_count": 65,
     "metadata": {},
     "output_type": "execute_result"
    }
   ],
   "source": [
    "# What are the keys of this python dictionary?\n",
    "g_json.keys()"
   ]
  },
  {
   "cell_type": "code",
   "execution_count": 68,
   "metadata": {
    "collapsed": false
   },
   "outputs": [
    {
     "data": {
      "text/plain": [
       "9500"
      ]
     },
     "execution_count": 68,
     "metadata": {},
     "output_type": "execute_result"
    }
   ],
   "source": [
    "# Is \"weight\" listed there? If so, then the value in it should be a number\n",
    "# If you play Pokemon, does this number look reasonable?\n",
    "g_json['weight']"
   ]
  },
  {
   "cell_type": "code",
   "execution_count": null,
   "metadata": {
    "collapsed": true
   },
   "outputs": [],
   "source": []
  }
 ],
 "metadata": {
  "kernelspec": {
   "display_name": "Python 2",
   "language": "python",
   "name": "python2"
  },
  "language_info": {
   "codemirror_mode": {
    "name": "ipython",
    "version": 2
   },
   "file_extension": ".py",
   "mimetype": "text/x-python",
   "name": "python",
   "nbconvert_exporter": "python",
   "pygments_lexer": "ipython2",
   "version": "2.7.11"
  }
 },
 "nbformat": 4,
 "nbformat_minor": 0
}
