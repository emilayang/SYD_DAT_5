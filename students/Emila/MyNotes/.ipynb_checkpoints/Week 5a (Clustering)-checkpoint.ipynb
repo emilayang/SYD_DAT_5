{
 "cells": [
  {
   "cell_type": "code",
   "execution_count": 7,
   "metadata": {
    "collapsed": false
   },
   "outputs": [],
   "source": [
    "%matplotlib inline\n",
    "import pandas\n",
    "import matplotlib.pyplot\n",
    "trains = pandas.read_csv('../../../data/sydtrains.csv', index_col=1, thousands=\",\")"
   ]
  },
  {
   "cell_type": "code",
   "execution_count": 8,
   "metadata": {
    "collapsed": false
   },
   "outputs": [],
   "source": [
    "trains2014 = trains[trains.YEAR == 2014]"
   ]
  },
  {
   "cell_type": "code",
   "execution_count": 12,
   "metadata": {
    "collapsed": false
   },
   "outputs": [],
   "source": [
    "interesting_cols = trains2014[['IN_0600_0930', 'OUT_0600_0930']]"
   ]
  },
  {
   "cell_type": "code",
   "execution_count": 13,
   "metadata": {
    "collapsed": false
   },
   "outputs": [
    {
     "data": {
      "text/plain": [
       "<matplotlib.collections.PathCollection at 0x114c8bd50>"
      ]
     },
     "execution_count": 13,
     "metadata": {},
     "output_type": "execute_result"
    },
    {
     "data": {
      "image/png": "[encoded data removed]",
      "text/plain": [
       "<matplotlib.figure.Figure at 0x114afa450>"
      ]
     },
     "metadata": {},
     "output_type": "display_data"
    }
   ],
   "source": [
    "matplotlib.pyplot.scatter(interesting_cols.IN_0600_0930, interesting_cols.OUT_0600_0930)"
   ]
  },
  {
   "cell_type": "code",
   "execution_count": 14,
   "metadata": {
    "collapsed": false
   },
   "outputs": [
    {
     "data": {
      "text/html": [
       "<div>\n",
       "<table border=\"1\" class=\"dataframe\">\n",
       "  <thead>\n",
       "    <tr style=\"text-align: right;\">\n",
       "      <th></th>\n",
       "      <th>IN_0600_0930</th>\n",
       "      <th>OUT_0600_0930</th>\n",
       "    </tr>\n",
       "    <tr>\n",
       "      <th>STATION</th>\n",
       "      <th></th>\n",
       "      <th></th>\n",
       "    </tr>\n",
       "  </thead>\n",
       "  <tbody>\n",
       "    <tr>\n",
       "      <th>Central</th>\n",
       "      <td>10390</td>\n",
       "      <td>42070</td>\n",
       "    </tr>\n",
       "    <tr>\n",
       "      <th>Bondi Junction</th>\n",
       "      <td>10150</td>\n",
       "      <td>4350</td>\n",
       "    </tr>\n",
       "  </tbody>\n",
       "</table>\n",
       "</div>"
      ],
      "text/plain": [
       "                IN_0600_0930  OUT_0600_0930\n",
       "STATION                                    \n",
       "Central                10390          42070\n",
       "Bondi Junction         10150           4350"
      ]
     },
     "execution_count": 14,
     "metadata": {},
     "output_type": "execute_result"
    }
   ],
   "source": [
    "interesting_cols[interesting_cols.IN_0600_0930 > 9000]"
   ]
  },
  {
   "cell_type": "code",
   "execution_count": 15,
   "metadata": {
    "collapsed": true
   },
   "outputs": [],
   "source": [
    "import sklearn.cluster"
   ]
  },
  {
   "cell_type": "code",
   "execution_count": 22,
   "metadata": {
    "collapsed": true
   },
   "outputs": [],
   "source": [
    "kmeans_clusterer = sklearn.cluster.KMeans(init ='k-means++', n_clusters = 2)"
   ]
  },
  {
   "cell_type": "code",
   "execution_count": 24,
   "metadata": {
    "collapsed": false
   },
   "outputs": [],
   "source": [
    "two_clustering = kmeans_clusterer.fit_predict(interesting_cols)"
   ]
  },
  {
   "cell_type": "code",
   "execution_count": 25,
   "metadata": {
    "collapsed": true
   },
   "outputs": [],
   "source": [
    "import numpy"
   ]
  },
  {
   "cell_type": "code",
   "execution_count": 26,
   "metadata": {
    "collapsed": true
   },
   "outputs": [],
   "source": [
    "rainbow = numpy.array(['red', 'green', 'blue', 'orange', 'purple', 'teal', 'magenta', 'cyan'])"
   ]
  },
  {
   "cell_type": "code",
   "execution_count": 27,
   "metadata": {
    "collapsed": false
   },
   "outputs": [
    {
     "data": {
      "text/plain": [
       "array(['green', 'green', 'green', 'red', 'red', 'red', 'red', 'red', 'red',\n",
       "       'red', 'red', 'red', 'red', 'red', 'red', 'red', 'red', 'red',\n",
       "       'red', 'red', 'red', 'red', 'red', 'red', 'red', 'red', 'red',\n",
       "       'red', 'red', 'red', 'red', 'red', 'red', 'red', 'red', 'red',\n",
       "       'red', 'red', 'red', 'red', 'red', 'red', 'red', 'red', 'red',\n",
       "       'red', 'red', 'red', 'red', 'red', 'red', 'red', 'red', 'red',\n",
       "       'red', 'red', 'red', 'red', 'red', 'red', 'red', 'red', 'red',\n",
       "       'red', 'red', 'red', 'red', 'red', 'red', 'red', 'red', 'red',\n",
       "       'red', 'red', 'red', 'red', 'red', 'red', 'red', 'red', 'red',\n",
       "       'red', 'red', 'red', 'red', 'red', 'red', 'red', 'red', 'red',\n",
       "       'red', 'red', 'red', 'red', 'red', 'red', 'red', 'red', 'red',\n",
       "       'red', 'red', 'red', 'red', 'red', 'red', 'red', 'red', 'red',\n",
       "       'red', 'red', 'red', 'red', 'red', 'red', 'red', 'red', 'red',\n",
       "       'red', 'red', 'red', 'red', 'red', 'red', 'red', 'red', 'red',\n",
       "       'red', 'red', 'red', 'red', 'red', 'red', 'red', 'red', 'red',\n",
       "       'red', 'red', 'red', 'red', 'red', 'red', 'red', 'red', 'red',\n",
       "       'red', 'red', 'red', 'red', 'red', 'red', 'red', 'red', 'red',\n",
       "       'red', 'red', 'red', 'red', 'red', 'red', 'red', 'red', 'red',\n",
       "       'red', 'red', 'red', 'red', 'red', 'red', 'red', 'red', 'red',\n",
       "       'red', 'red', 'red', 'red', 'red', 'red', 'red', 'red', 'red',\n",
       "       'red', 'red', 'red', 'red', 'red', 'red', 'red', 'red', 'red',\n",
       "       'red', 'red', 'red', 'red', 'red', 'red', 'red', 'red', 'red',\n",
       "       'red', 'red', 'red', 'red', 'red', 'red', 'red', 'red', 'red',\n",
       "       'red', 'red', 'red', 'red', 'red', 'red', 'red', 'red', 'red',\n",
       "       'red', 'red', 'red', 'red', 'red', 'red', 'red', 'red', 'red',\n",
       "       'red', 'red', 'red', 'red', 'red', 'red', 'red', 'red', 'red',\n",
       "       'red', 'red', 'red', 'red', 'red', 'red', 'red', 'red', 'red',\n",
       "       'red', 'red', 'red', 'red', 'red', 'red', 'red', 'red', 'red',\n",
       "       'red', 'red', 'red', 'red', 'red', 'red', 'red', 'red', 'red',\n",
       "       'red', 'red', 'red', 'red', 'red', 'red', 'red', 'red', 'red',\n",
       "       'red', 'red', 'red', 'red', 'red', 'red', 'red', 'red', 'red',\n",
       "       'red', 'red', 'red', 'red', 'red', 'red', 'red', 'red', 'red',\n",
       "       'red', 'red', 'red', 'red', 'red', 'red', 'red', 'red', 'red',\n",
       "       'red', 'red', 'red', 'red', 'red', 'red', 'red', 'red', 'red',\n",
       "       'red', 'red'], \n",
       "      dtype='|S7')"
      ]
     },
     "execution_count": 27,
     "metadata": {},
     "output_type": "execute_result"
    }
   ],
   "source": [
    "#indexed by two_clustering will assign the first two colours to the numbers\n",
    "rainbow[two_clustering]"
   ]
  },
  {
   "cell_type": "code",
   "execution_count": 42,
   "metadata": {
    "collapsed": false
   },
   "outputs": [
    {
     "data": {
      "text/plain": [
       "<matplotlib.collections.PathCollection at 0x11b253790>"
      ]
     },
     "execution_count": 42,
     "metadata": {},
     "output_type": "execute_result"
    },
    {
     "data": {
      "image/png": "[encoded data removed]",
      "text/plain": [
       "<matplotlib.figure.Figure at 0x11b3cbe90>"
      ]
     },
     "metadata": {},
     "output_type": "display_data"
    }
   ],
   "source": [
    "matplotlib.pyplot.scatter(interesting_cols.IN_0600_0930,\n",
    "                         interesting_cols.OUT_0600_0930,\n",
    "                         color = rainbow[two_clustering])\n",
    "#overlay with centroid\n",
    "matplotlib.pyplot.scatter(kmeans_clusterer.cluster_centers_[:,0],\n",
    "                         kmeans_clusterer.cluster_centers_[:,1],\n",
    "                         marker =\"+\", s=50)"
   ]
  },
  {
   "cell_type": "code",
   "execution_count": 44,
   "metadata": {
    "collapsed": false
   },
   "outputs": [],
   "source": [
    "two_cluster_centers = kmeans_clusterer.cluster_centers_"
   ]
  },
  {
   "cell_type": "code",
   "execution_count": 45,
   "metadata": {
    "collapsed": false
   },
   "outputs": [
    {
     "data": {
      "text/plain": [
       "array([[  1117.40983607,    732.03278689],\n",
       "       [  7160.        ,  41633.33333333]])"
      ]
     },
     "execution_count": 45,
     "metadata": {},
     "output_type": "execute_result"
    }
   ],
   "source": [
    "two_cluster_centers"
   ]
  },
  {
   "cell_type": "code",
   "execution_count": 47,
   "metadata": {
    "collapsed": true
   },
   "outputs": [],
   "source": [
    "cluster_centers = {}\n",
    "cluster_membership = {}\n",
    "#compute kmeans for 3 - 15 centroids\n",
    "for cluster_count in range (3,15):\n",
    "    km = sklearn.cluster.KMeans(init = 'k-means++', \n",
    "                                n_clusters = cluster_count)\n",
    "    cluster_membership[cluster_count] = km.fit_predict(interesting_cols)\n",
    "    cluster_centers[cluster_count] = km.cluster_centers_"
   ]
  },
  {
   "cell_type": "code",
   "execution_count": 48,
   "metadata": {
    "collapsed": false
   },
   "outputs": [
    {
     "data": {
      "text/plain": [
       "{3: array([[   988.15699659,    397.6109215 ],\n",
       "        [  7160.        ,  41633.33333333],\n",
       "        [  4273.33333333,   8897.5       ]]),\n",
       " 4: array([[   557.88617886,    198.37398374],\n",
       "        [  7160.        ,  41633.33333333],\n",
       "        [  3598.57142857,  11832.85714286],\n",
       "        [  3430.38461538,   1762.30769231]]),\n",
       " 5: array([[  5523.33333333,   2394.        ],\n",
       "        [   257.38219895,    128.84816754],\n",
       "        [  7160.        ,  41633.33333333],\n",
       "        [  3248.75      ,  11140.        ],\n",
       "        [  2008.9010989 ,    809.12087912]]),\n",
       " 6: array([[  2022.55555556,    752.77777778],\n",
       "        [  7160.        ,  41633.33333333],\n",
       "        [   257.38219895,    128.84816754],\n",
       "        [  3573.33333333,  15430.        ],\n",
       "        [  5523.33333333,   2394.        ],\n",
       "        [  2675.        ,   8118.33333333]]),\n",
       " 7: array([[   235.75268817,    123.17204301],\n",
       "        [  7160.        ,  41633.33333333],\n",
       "        [  2675.        ,   8118.33333333],\n",
       "        [  3107.09677419,   1663.87096774],\n",
       "        [  1695.49295775,    437.04225352],\n",
       "        [  3573.33333333,  15430.        ],\n",
       "        [  6686.25      ,   2843.75      ]]),\n",
       " 8: array([[   235.75268817,    123.17204301],\n",
       "        [  7160.        ,  41633.33333333],\n",
       "        [  4452.        ,  10048.        ],\n",
       "        [  1753.28947368,    480.13157895],\n",
       "        [  3710.74074074,   1674.44444444],\n",
       "        [  1465.        ,  16295.        ],\n",
       "        [  1206.        ,   4372.        ],\n",
       "        [  8075.        ,   3492.5       ]]),\n",
       " 9: array([[   235.75268817,    123.17204301],\n",
       "        [  7160.        ,  41633.33333333],\n",
       "        [  3710.74074074,   1674.44444444],\n",
       "        [  1465.        ,  16295.        ],\n",
       "        [  1753.28947368,    480.13157895],\n",
       "        [  1206.        ,   4372.        ],\n",
       "        [  8075.        ,   3492.5       ],\n",
       "        [  7790.        ,  13700.        ],\n",
       "        [  3617.5       ,   9135.        ]]),\n",
       " 10: array([[   173.83233533,     69.34131737],\n",
       "        [  7160.        ,  41633.33333333],\n",
       "        [  1465.        ,  16295.        ],\n",
       "        [  2827.64705882,   1022.94117647],\n",
       "        [  3617.5       ,   9135.        ],\n",
       "        [  1357.30769231,    474.74358974],\n",
       "        [  8613.33333333,   3533.33333333],\n",
       "        [  1206.        ,   4372.        ],\n",
       "        [  7790.        ,  13700.        ],\n",
       "        [  4791.81818182,   2235.45454545]]),\n",
       " 11: array([[  1079.81481481,    375.92592593],\n",
       "        [  7160.        ,  41633.33333333],\n",
       "        [  1465.        ,  16295.        ],\n",
       "        [  8613.33333333,   3533.33333333],\n",
       "        [   962.85714286,   3745.71428571],\n",
       "        [  3237.91666667,   1323.33333333],\n",
       "        [  3617.5       ,   9135.        ],\n",
       "        [   151.        ,     63.875     ],\n",
       "        [  4988.75      ,   2570.        ],\n",
       "        [  7790.        ,  13700.        ],\n",
       "        [  1975.        ,    494.76190476]]),\n",
       " 12: array([[   162.80487805,     68.59756098],\n",
       "        [  4710.        ,  39620.        ],\n",
       "        [  3617.5       ,   9135.        ],\n",
       "        [  4094.21052632,   1790.52631579],\n",
       "        [  8075.        ,   3492.5       ],\n",
       "        [  2418.125     ,    625.        ],\n",
       "        [  8385.        ,  42640.        ],\n",
       "        [  1465.        ,  16295.        ],\n",
       "        [   790.        ,   6085.        ],\n",
       "        [  1263.88059701,    373.73134328],\n",
       "        [  1519.        ,   2399.        ],\n",
       "        [  7790.        ,  13700.        ]]),\n",
       " 13: array([[  8075.        ,   3492.5       ],\n",
       "        [   166.48484848,     68.42424242],\n",
       "        [  5545.        ,  41415.        ],\n",
       "        [  7790.        ,  13700.        ],\n",
       "        [  1288.52941176,    381.47058824],\n",
       "        [  3617.5       ,   9135.        ],\n",
       "        [  4094.21052632,   1790.52631579],\n",
       "        [   590.        ,  14250.        ],\n",
       "        [  2340.        ,  18340.        ],\n",
       "        [  2455.66666667,    635.33333333],\n",
       "        [   790.        ,   6085.        ],\n",
       "        [ 10390.        ,  42070.        ],\n",
       "        [  1519.        ,   2399.        ]]),\n",
       " 14: array([[  1519.        ,   2399.        ],\n",
       "        [  5545.        ,  41415.        ],\n",
       "        [  3217.77777778,   1168.33333333],\n",
       "        [   156.54320988,     66.79012346],\n",
       "        [  3617.5       ,   9135.        ],\n",
       "        [  2340.        ,  18340.        ],\n",
       "        [  4625.        ,   2122.        ],\n",
       "        [  2019.18918919,    488.37837838],\n",
       "        [  8075.        ,   3492.5       ],\n",
       "        [  7790.        ,  13700.        ],\n",
       "        [   790.        ,   6085.        ],\n",
       "        [  1132.90909091,    348.54545455],\n",
       "        [ 10390.        ,  42070.        ],\n",
       "        [   590.        ,  14250.        ]])}"
      ]
     },
     "execution_count": 48,
     "metadata": {},
     "output_type": "execute_result"
    }
   ],
   "source": [
    "cluster_centers"
   ]
  },
  {
   "cell_type": "code",
   "execution_count": 50,
   "metadata": {
    "collapsed": false
   },
   "outputs": [
    {
     "data": {
      "text/plain": [
       "<matplotlib.collections.PathCollection at 0x11a2c39d0>"
      ]
     },
     "execution_count": 50,
     "metadata": {},
     "output_type": "execute_result"
    },
    {
     "data": {
      "image/png": "[encoded data removed]",
      "text/plain": [
       "<matplotlib.figure.Figure at 0x11b1e5390>"
      ]
     },
     "metadata": {},
     "output_type": "display_data"
    }
   ],
   "source": [
    "#plot the graph with 8 centroids\n",
    "matplotlib.pyplot.scatter(interesting_cols.IN_0600_0930,\n",
    "                         interesting_cols.OUT_0600_0930,\n",
    "                         color = rainbow[cluster_membership[8]])"
   ]
  },
  {
   "cell_type": "code",
   "execution_count": 55,
   "metadata": {
    "collapsed": false
   },
   "outputs": [
    {
     "data": {
      "text/plain": [
       "STATION\n",
       "Central                       green\n",
       "Town Hall                     green\n",
       "Wynyard                       green\n",
       "Parramatta                     blue\n",
       "North Sydney                   teal\n",
       "Redfern                        blue\n",
       "Chatswood                      blue\n",
       "Bondi Junction                 cyan\n",
       "Strathfield                    cyan\n",
       "Circular Quay                  blue\n",
       "Martin Place                   teal\n",
       "Hurstville                     cyan\n",
       "St Leonards                    blue\n",
       "Blacktown                      cyan\n",
       "Burwood                      purple\n",
       "Kings Cross                  purple\n",
       "Hornsby                      purple\n",
       "Ashfield                     purple\n",
       "Kogarah                      purple\n",
       "Lidcombe                     purple\n",
       "Auburn                       purple\n",
       "Museum                      magenta\n",
       "Epping                       purple\n",
       "Macquarie University        magenta\n",
       "St James                    magenta\n",
       "Rockdale                     purple\n",
       "Cabramatta                   purple\n",
       "Bankstown                    purple\n",
       "Liverpool                    purple\n",
       "Sutherland                   purple\n",
       "                             ...   \n",
       "Menangle Park                   red\n",
       "Port Kembla North               red\n",
       "Scone                           red\n",
       "Tarro                           red\n",
       "Aberdeen                        red\n",
       "Bombo                           red\n",
       "Branxton                        red\n",
       "Burradoo                        red\n",
       "Coalcliff                       red\n",
       "Dunmore (Shellharbour)          red\n",
       "Exeter                          red\n",
       "Greta                           red\n",
       "Linden                          red\n",
       "Marulan                         red\n",
       "Menangle                        red\n",
       "Paterson                        red\n",
       "Scarborough                     red\n",
       "Tallong                         red\n",
       "Wondabyne                       red\n",
       "Bell                            red\n",
       "Hilldale                        red\n",
       "Kembla Grange Racecourse        red\n",
       "Lochinvar                       red\n",
       "Lysaghts                        red\n",
       "Mindaribba                      red\n",
       "Penrose                         red\n",
       "Wallarobba                      red\n",
       "Wingello                        red\n",
       "Wirragulla                      red\n",
       "Zig Zag                         red\n",
       "Name: eighth_cluster_membership, dtype: object"
      ]
     },
     "execution_count": 55,
     "metadata": {},
     "output_type": "execute_result"
    }
   ],
   "source": [
    "#put the colours back in the dataframe to check\n",
    "#didn't work: trains2014['eighth_cluster_membership'] = rainbow[cluster_membership[8]]\n",
    "#need to make a copied version first:\n",
    "trains2014 = trains[trains.YEAR == 2014].copy()\n",
    "trains2014['eighth_cluster_membership'] = rainbow[cluster_membership[8]]\n",
    "trains2014.eighth_cluster_membership"
   ]
  },
  {
   "cell_type": "code",
   "execution_count": 56,
   "metadata": {
    "collapsed": true
   },
   "outputs": [],
   "source": [
    "import sklearn.metrics"
   ]
  },
  {
   "cell_type": "code",
   "execution_count": 57,
   "metadata": {
    "collapsed": true
   },
   "outputs": [],
   "source": [
    "two_cluster_silhouette_score = sklearn.metrics.silhouette_score(interesting_cols,\n",
    "                                                               two_clustering)"
   ]
  },
  {
   "cell_type": "code",
   "execution_count": 58,
   "metadata": {
    "collapsed": false
   },
   "outputs": [
    {
     "data": {
      "text/plain": [
       "0.9457809055255304"
      ]
     },
     "execution_count": 58,
     "metadata": {},
     "output_type": "execute_result"
    }
   ],
   "source": [
    "two_cluster_silhouette_score"
   ]
  },
  {
   "cell_type": "code",
   "execution_count": 62,
   "metadata": {
    "collapsed": false
   },
   "outputs": [
    {
     "name": "stdout",
     "output_type": "stream",
     "text": [
      "3 0.824303583537\n",
      "4 0.665944102122\n",
      "5 0.615209241345\n",
      "6 0.622049677055\n",
      "7 0.614332276201\n",
      "8 0.626679789548\n",
      "9 0.630553211589\n",
      "10 0.604503857161\n",
      "11 0.563621549529\n",
      "12 0.599310468444\n",
      "13 0.605334185911\n",
      "14 0.574591853289\n"
     ]
    }
   ],
   "source": [
    "s = {}\n",
    "for cluster_count in range (3, 15):\n",
    "    s[cluster_count] = sklearn.metrics.silhouette_score(interesting_cols, cluster_membership[cluster_count])\n",
    "    print cluster_count, s[cluster_count]"
   ]
  },
  {
   "cell_type": "code",
   "execution_count": 63,
   "metadata": {
    "collapsed": true
   },
   "outputs": [],
   "source": [
    "s[2] = two_cluster_silhouette_score"
   ]
  },
  {
   "cell_type": "code",
   "execution_count": 65,
   "metadata": {
    "collapsed": false
   },
   "outputs": [
    {
     "data": {
      "text/plain": [
       "<matplotlib.collections.PathCollection at 0x11a503210>"
      ]
     },
     "execution_count": 65,
     "metadata": {},
     "output_type": "execute_result"
    },
    {
     "data": {
      "image/png": "[encoded data removed]",
      "text/plain": [
       "<matplotlib.figure.Figure at 0x11b68f990>"
      ]
     },
     "metadata": {},
     "output_type": "display_data"
    }
   ],
   "source": [
    "matplotlib.pyplot.scatter(s.keys(), s.values())"
   ]
  },
  {
   "cell_type": "code",
   "execution_count": null,
   "metadata": {
    "collapsed": true
   },
   "outputs": [],
   "source": []
  }
 ],
 "metadata": {
  "kernelspec": {
   "display_name": "Python 2",
   "language": "python",
   "name": "python2"
  },
  "language_info": {
   "codemirror_mode": {
    "name": "ipython",
    "version": 2
   },
   "file_extension": ".py",
   "mimetype": "text/x-python",
   "name": "python",
   "nbconvert_exporter": "python",
   "pygments_lexer": "ipython2",
   "version": "2.7.11"
  }
 },
 "nbformat": 4,
 "nbformat_minor": 0
}
