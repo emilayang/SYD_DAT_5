{
 "cells": [
  {
   "cell_type": "code",
   "execution_count": 5,
   "metadata": {
    "collapsed": false
   },
   "outputs": [],
   "source": [
    "%matplotlib inline\n",
    "import matplotlib.pyplot\n",
    "import pandas\n",
    "import sklearn.decomposition"
   ]
  },
  {
   "cell_type": "code",
   "execution_count": 8,
   "metadata": {
    "collapsed": true
   },
   "outputs": [],
   "source": [
    "all_trains = pandas.read_csv('../../../data/sydtrains.csv', index_col=1, thousands=',')"
   ]
  },
  {
   "cell_type": "markdown",
   "metadata": {},
   "source": [
    "## trains = all_trains[all_trains.YEAR == 2014]\n",
    "trains.head()"
   ]
  },
  {
   "cell_type": "code",
   "execution_count": 12,
   "metadata": {
    "collapsed": false
   },
   "outputs": [
    {
     "data": {
      "text/plain": [
       "['IN_0200_0600',\n",
       " 'OUT_0200_0600',\n",
       " 'IN_0600_0930',\n",
       " 'OUT_0600_0930',\n",
       " 'IN_0930_1500',\n",
       " 'OUT_0930_1500',\n",
       " 'IN_1500_1830',\n",
       " 'OUT_1500_1830',\n",
       " 'IN_1830_0200',\n",
       " 'OUT_1830_0200']"
      ]
     },
     "execution_count": 12,
     "metadata": {},
     "output_type": "execute_result"
    }
   ],
   "source": [
    "numeric_columns = [x for x in trains.columns if x.endswith('0')]\n",
    "numeric_columns"
   ]
  },
  {
   "cell_type": "code",
   "execution_count": 14,
   "metadata": {
    "collapsed": true
   },
   "outputs": [],
   "source": [
    "#creating a thing to do principle component analysis\n",
    "pca = sklearn.decomposition.PCA(whiten=True)"
   ]
  },
  {
   "cell_type": "code",
   "execution_count": 15,
   "metadata": {
    "collapsed": true
   },
   "outputs": [],
   "source": [
    "mangled_station_data = pca.fit_transform(trains[numeric_columns])"
   ]
  },
  {
   "cell_type": "code",
   "execution_count": 17,
   "metadata": {
    "collapsed": false
   },
   "outputs": [
    {
     "data": {
      "text/plain": [
       "array([[ -9.99249128,  -0.86429306,  -8.26969232, ...,   0.52481657,\n",
       "         -0.97881544,   0.01429659],\n",
       "       [ -9.49158615,   2.10975144,  -4.07870519, ...,  -0.18495588,\n",
       "         -0.50349106,   0.13775049],\n",
       "       [ -7.04285247,   5.71226833,  10.11088049, ...,  -0.05141355,\n",
       "         -0.44220709,  -0.78419011],\n",
       "       ..., \n",
       "       [  0.32010123,   0.60167819,  -0.30881945, ...,  -0.16576932,\n",
       "         -0.04395234,   0.05612209],\n",
       "       [  0.32010123,   0.60167819,  -0.30881945, ...,  -0.16576932,\n",
       "         -0.04395234,   0.05612209],\n",
       "       [  0.32010123,   0.60167819,  -0.30881945, ...,  -0.16576932,\n",
       "         -0.04395234,   0.05612209]])"
      ]
     },
     "execution_count": 17,
     "metadata": {},
     "output_type": "execute_result"
    }
   ],
   "source": [
    "mangled_station_data\n",
    "#each element in the array represents a list of all the factors affecting one station"
   ]
  },
  {
   "cell_type": "code",
   "execution_count": 24,
   "metadata": {
    "collapsed": false
   },
   "outputs": [
    {
     "data": {
      "text/plain": [
       "['red',\n",
       " 'red',\n",
       " 'red',\n",
       " 'green',\n",
       " 'blue',\n",
       " 'red',\n",
       " 'blue',\n",
       " 'pink',\n",
       " 'blue',\n",
       " 'red',\n",
       " 'red',\n",
       " 'blue',\n",
       " 'blue',\n",
       " 'green',\n",
       " 'blue',\n",
       " 'pink',\n",
       " 'blue',\n",
       " 'blue',\n",
       " 'blue',\n",
       " 'blue',\n",
       " 'green',\n",
       " 'red',\n",
       " 'blue',\n",
       " 'blue',\n",
       " 'red',\n",
       " 'blue',\n",
       " 'blue',\n",
       " 'blue',\n",
       " 'blue',\n",
       " 'blue',\n",
       " 'blue',\n",
       " 'green',\n",
       " 'green',\n",
       " 'green',\n",
       " 'pink',\n",
       " 'blue',\n",
       " 'blue',\n",
       " 'blue',\n",
       " 'blue',\n",
       " 'blue',\n",
       " 'green',\n",
       " 'blue',\n",
       " 'blue',\n",
       " 'green',\n",
       " 'blue',\n",
       " 'blue',\n",
       " 'blue',\n",
       " 'blue',\n",
       " 'blue',\n",
       " 'blue',\n",
       " 'blue',\n",
       " 'blue',\n",
       " 'blue',\n",
       " 'blue',\n",
       " 'blue',\n",
       " 'green',\n",
       " 'blue',\n",
       " 'blue',\n",
       " 'blue',\n",
       " 'blue',\n",
       " 'blue',\n",
       " 'blue',\n",
       " 'blue',\n",
       " 'blue',\n",
       " 'blue',\n",
       " 'blue',\n",
       " 'blue',\n",
       " 'blue',\n",
       " 'blue',\n",
       " 'blue',\n",
       " 'blue',\n",
       " 'blue',\n",
       " 'green',\n",
       " 'blue',\n",
       " 'blue',\n",
       " 'blue',\n",
       " 'blue',\n",
       " 'blue',\n",
       " 'green',\n",
       " 'green',\n",
       " 'blue',\n",
       " 'blue',\n",
       " 'blue',\n",
       " 'blue',\n",
       " 'blue',\n",
       " 'green',\n",
       " 'blue',\n",
       " 'blue',\n",
       " 'blue',\n",
       " 'blue',\n",
       " 'blue',\n",
       " 'green',\n",
       " 'blue',\n",
       " 'blue',\n",
       " 'blue',\n",
       " 'blue',\n",
       " 'blue',\n",
       " 'blue',\n",
       " 'blue',\n",
       " 'blue',\n",
       " 'blue',\n",
       " 'green',\n",
       " 'blue',\n",
       " 'blue',\n",
       " 'blue',\n",
       " 'blue',\n",
       " 'blue',\n",
       " 'blue',\n",
       " 'blue',\n",
       " 'green',\n",
       " 'blue',\n",
       " 'blue',\n",
       " 'blue',\n",
       " 'blue',\n",
       " 'blue',\n",
       " 'blue',\n",
       " 'blue',\n",
       " 'blue',\n",
       " 'blue',\n",
       " 'blue',\n",
       " 'blue',\n",
       " 'blue',\n",
       " 'blue',\n",
       " 'blue',\n",
       " 'blue',\n",
       " 'blue',\n",
       " 'blue',\n",
       " 'blue',\n",
       " 'green',\n",
       " 'green',\n",
       " 'blue',\n",
       " 'blue',\n",
       " 'blue',\n",
       " 'blue',\n",
       " 'blue',\n",
       " 'blue',\n",
       " 'blue',\n",
       " 'blue',\n",
       " 'blue',\n",
       " 'blue',\n",
       " 'blue',\n",
       " 'blue',\n",
       " 'blue',\n",
       " 'blue',\n",
       " 'blue',\n",
       " 'blue',\n",
       " 'blue',\n",
       " 'blue',\n",
       " 'blue',\n",
       " 'blue',\n",
       " 'green',\n",
       " 'blue',\n",
       " 'blue',\n",
       " 'blue',\n",
       " 'blue',\n",
       " 'green',\n",
       " 'blue',\n",
       " 'blue',\n",
       " 'green',\n",
       " 'blue',\n",
       " 'blue',\n",
       " 'blue',\n",
       " 'green',\n",
       " 'blue',\n",
       " 'green',\n",
       " 'blue',\n",
       " 'blue',\n",
       " 'blue',\n",
       " 'blue',\n",
       " 'blue',\n",
       " 'green',\n",
       " 'green',\n",
       " 'blue',\n",
       " 'blue',\n",
       " 'blue',\n",
       " 'blue',\n",
       " 'blue',\n",
       " 'blue',\n",
       " 'blue',\n",
       " 'blue',\n",
       " 'blue',\n",
       " 'blue',\n",
       " 'blue',\n",
       " 'blue',\n",
       " 'blue',\n",
       " 'blue',\n",
       " 'blue',\n",
       " 'blue',\n",
       " 'blue',\n",
       " 'green',\n",
       " 'blue',\n",
       " 'blue',\n",
       " 'blue',\n",
       " 'blue',\n",
       " 'blue',\n",
       " 'blue',\n",
       " 'blue',\n",
       " 'blue',\n",
       " 'green',\n",
       " 'blue',\n",
       " 'blue',\n",
       " 'blue',\n",
       " 'blue',\n",
       " 'blue',\n",
       " 'blue',\n",
       " 'blue',\n",
       " 'blue',\n",
       " 'blue',\n",
       " 'blue',\n",
       " 'blue',\n",
       " 'blue',\n",
       " 'blue',\n",
       " 'blue',\n",
       " 'blue',\n",
       " 'blue',\n",
       " 'blue',\n",
       " 'blue',\n",
       " 'blue',\n",
       " 'blue',\n",
       " 'blue',\n",
       " 'blue',\n",
       " 'blue',\n",
       " 'blue',\n",
       " 'blue',\n",
       " 'blue',\n",
       " 'blue',\n",
       " 'blue',\n",
       " 'blue',\n",
       " 'blue',\n",
       " 'blue',\n",
       " 'blue',\n",
       " 'blue',\n",
       " 'blue',\n",
       " 'blue',\n",
       " 'blue',\n",
       " 'blue',\n",
       " 'blue',\n",
       " 'blue',\n",
       " 'blue',\n",
       " 'blue',\n",
       " 'blue',\n",
       " 'blue',\n",
       " 'blue',\n",
       " 'blue',\n",
       " 'blue',\n",
       " 'green',\n",
       " 'blue',\n",
       " 'blue',\n",
       " 'blue',\n",
       " 'green',\n",
       " 'blue',\n",
       " 'blue',\n",
       " 'blue',\n",
       " 'blue',\n",
       " 'blue',\n",
       " 'blue',\n",
       " 'blue',\n",
       " 'blue',\n",
       " 'blue',\n",
       " 'blue',\n",
       " 'blue',\n",
       " 'blue',\n",
       " 'blue',\n",
       " 'blue',\n",
       " 'blue',\n",
       " 'blue',\n",
       " 'blue',\n",
       " 'blue',\n",
       " 'blue',\n",
       " 'blue',\n",
       " 'blue',\n",
       " 'blue',\n",
       " 'blue',\n",
       " 'blue',\n",
       " 'blue',\n",
       " 'blue',\n",
       " 'blue',\n",
       " 'blue',\n",
       " 'blue',\n",
       " 'blue',\n",
       " 'blue',\n",
       " 'blue',\n",
       " 'blue',\n",
       " 'blue',\n",
       " 'blue',\n",
       " 'blue',\n",
       " 'blue',\n",
       " 'blue',\n",
       " 'blue',\n",
       " 'blue',\n",
       " 'blue',\n",
       " 'blue',\n",
       " 'blue',\n",
       " 'blue',\n",
       " 'blue',\n",
       " 'blue',\n",
       " 'blue',\n",
       " 'blue',\n",
       " 'blue',\n",
       " 'blue',\n",
       " 'blue',\n",
       " 'blue',\n",
       " 'blue',\n",
       " 'blue',\n",
       " 'blue',\n",
       " 'blue',\n",
       " 'blue',\n",
       " 'blue']"
      ]
     },
     "execution_count": 24,
     "metadata": {},
     "output_type": "execute_result"
    }
   ],
   "source": [
    "def colouring(line):\n",
    "    if line == 'CBD': return 'red'\n",
    "    if line == 'Western': return 'green'\n",
    "    if line == 'Eastern Suburbs': return 'pink'\n",
    "    return 'blue'\n",
    "\n",
    "colour_chart = map(colouring, trains.LINE)\n",
    "colour_chart"
   ]
  },
  {
   "cell_type": "code",
   "execution_count": 26,
   "metadata": {
    "collapsed": false
   },
   "outputs": [
    {
     "data": {
      "text/plain": [
       "<matplotlib.collections.PathCollection at 0x119702ed0>"
      ]
     },
     "execution_count": 26,
     "metadata": {},
     "output_type": "execute_result"
    },
    {
     "data": {
      "image/png": "[encoded data removed]",
      "text/plain": [
       "<matplotlib.figure.Figure at 0x11969dd50>"
      ]
     },
     "metadata": {},
     "output_type": "display_data"
    }
   ],
   "source": [
    "matplotlib.pyplot.scatter(mangled_station_data[:,0],\n",
    "                         mangled_station_data[:,1],\n",
    "                         c = colour_chart)"
   ]
  },
  {
   "cell_type": "code",
   "execution_count": 28,
   "metadata": {
    "collapsed": false
   },
   "outputs": [
    {
     "data": {
      "text/plain": [
       "<matplotlib.collections.PathCollection at 0x119c83850>"
      ]
     },
     "execution_count": 28,
     "metadata": {},
     "output_type": "execute_result"
    },
    {
     "data": {
      "image/png": "[encoded data removed]",
      "text/plain": [
       "<matplotlib.figure.Figure at 0x119601e10>"
      ]
     },
     "metadata": {},
     "output_type": "display_data"
    }
   ],
   "source": [
    "#first two dimensions are able to characterise the data\n",
    "#turned the x axis around to match up with the above graph\n",
    "matplotlib.pyplot.scatter(-trains.IN_0600_0930, trains.OUT_0600_0930, c = colour_chart)"
   ]
  },
  {
   "cell_type": "code",
   "execution_count": 29,
   "metadata": {
    "collapsed": false
   },
   "outputs": [
    {
     "data": {
      "text/plain": [
       "array([  9.25253343e-01,   6.13005818e-02,   9.75370440e-03,\n",
       "         1.78539213e-03,   1.02884474e-03,   4.50450877e-04,\n",
       "         3.71449167e-04,   5.16184369e-05,   4.48104295e-06,\n",
       "         1.33981591e-07])"
      ]
     },
     "execution_count": 29,
     "metadata": {},
     "output_type": "execute_result"
    }
   ],
   "source": [
    "pca.explained_variance_ratio_"
   ]
  },
  {
   "cell_type": "code",
   "execution_count": 30,
   "metadata": {
    "collapsed": false
   },
   "outputs": [
    {
     "name": "stdout",
     "output_type": "stream",
     "text": [
      "92.53\n",
      "6.13\n",
      "0.98\n",
      "0.18\n",
      "0.10\n",
      "0.05\n",
      "0.04\n",
      "0.01\n",
      "0.00\n",
      "0.00\n"
     ]
    }
   ],
   "source": [
    "#format as a percentage all the above numbers\n",
    "for r in pca.explained_variance_ratio_:\n",
    "    print \"%.2f\" % (r*100,)"
   ]
  },
  {
   "cell_type": "code",
   "execution_count": 31,
   "metadata": {
    "collapsed": true
   },
   "outputs": [],
   "source": [
    "#92% of the prediction can be based on the first variable (abstracted from the dimensions)"
   ]
  },
  {
   "cell_type": "code",
   "execution_count": 32,
   "metadata": {
    "collapsed": false
   },
   "outputs": [
    {
     "data": {
      "text/plain": [
       "array([[-0.01216888, -0.01181708, -0.13570067, -0.59073739, -0.243829  ,\n",
       "        -0.32006833, -0.60005267, -0.20835379, -0.23880968, -0.09962957],\n",
       "       [-0.01119104, -0.00516797, -0.637461  ,  0.33967958, -0.24082972,\n",
       "        -0.15102742,  0.18628327, -0.52786231,  0.0797915 , -0.27855756],\n",
       "       [ 0.00560474, -0.00450715,  0.40359311,  0.42393126, -0.27283612,\n",
       "        -0.66111334,  0.07761719,  0.05264239, -0.3686114 ,  0.03409918],\n",
       "       [ 0.00653215,  0.005783  , -0.11162783,  0.05920499, -0.25380845,\n",
       "        -0.34804601, -0.20313728,  0.35921969,  0.77966863,  0.14218445],\n",
       "       [-0.00422339, -0.00167244, -0.20918806, -0.14272018,  0.2436577 ,\n",
       "        -0.25405611,  0.1899084 , -0.25989915, -0.03726531,  0.84079463],\n",
       "       [-0.0084373 , -0.02423273,  0.39522302, -0.1236274 , -0.67429792,\n",
       "         0.34138853,  0.15157494, -0.3875952 ,  0.17532311,  0.22954217],\n",
       "       [-0.03164292,  0.01273045,  0.27397658,  0.43191696,  0.33258827,\n",
       "         0.09438617, -0.60461027, -0.45598628,  0.19538306,  0.07775545],\n",
       "       [ 0.92876655, -0.07504226, -0.12715141,  0.13666509, -0.11937265,\n",
       "         0.13324065, -0.15208959,  0.09788429, -0.12363148,  0.13006266],\n",
       "       [ 0.18027938,  0.9460577 ,  0.09778768, -0.10712781,  0.06988734,\n",
       "        -0.09314683,  0.10034158, -0.10829833,  0.08754527, -0.09172601],\n",
       "       [ 0.32164317, -0.31364197,  0.31484388, -0.31633118,  0.31606076,\n",
       "        -0.31640373,  0.31646916, -0.31484776,  0.31558732, -0.31638485]])"
      ]
     },
     "execution_count": 32,
     "metadata": {},
     "output_type": "execute_result"
    }
   ],
   "source": [
    "pca.components_\n",
    "#find the biggest numbers or numbers that are close - and see which columns they match up to, by counting the column #\n",
    "#component number 1 looks like its about the number of people using the station"
   ]
  },
  {
   "cell_type": "code",
   "execution_count": 33,
   "metadata": {
    "collapsed": false
   },
   "outputs": [
    {
     "data": {
      "text/plain": [
       "['IN_0200_0600',\n",
       " 'OUT_0200_0600',\n",
       " 'IN_0600_0930',\n",
       " 'OUT_0600_0930',\n",
       " 'IN_0930_1500',\n",
       " 'OUT_0930_1500',\n",
       " 'IN_1500_1830',\n",
       " 'OUT_1500_1830',\n",
       " 'IN_1830_0200',\n",
       " 'OUT_1830_0200']"
      ]
     },
     "execution_count": 33,
     "metadata": {},
     "output_type": "execute_result"
    }
   ],
   "source": [
    "numeric_columns"
   ]
  },
  {
   "cell_type": "code",
   "execution_count": 42,
   "metadata": {
    "collapsed": false
   },
   "outputs": [
    {
     "data": {
      "text/plain": [
       "array([   43.79477031,     9.10791219,  1567.31031986,  1008.10186911,\n",
       "         110.78639712,  1147.32427772,  1376.79042614,   748.28879419,\n",
       "         558.664119  ,   740.7839106 ])"
      ]
     },
     "execution_count": 42,
     "metadata": {},
     "output_type": "execute_result"
    }
   ],
   "source": [
    "#moving back to station space\n",
    "pca.inverse_transform([0, 0, 0, 0, 0, 6, 0, 0, 0, 0])"
   ]
  },
  {
   "cell_type": "code",
   "execution_count": 38,
   "metadata": {
    "collapsed": false
   },
   "outputs": [
    {
     "data": {
      "text/plain": [
       "array([[-9.99249128, -0.86429306, -8.26969232, -6.17066718, -1.63718664,\n",
       "         2.43026268,  2.82833108,  0.52481657, -0.97881544,  0.01429659]])"
      ]
     },
     "execution_count": 38,
     "metadata": {},
     "output_type": "execute_result"
    }
   ],
   "source": [
    "mangled_station_data[trains.index == 'Central']"
   ]
  },
  {
   "cell_type": "code",
   "execution_count": 39,
   "metadata": {
    "collapsed": false
   },
   "outputs": [
    {
     "data": {
      "text/plain": [
       "array([[-1.32061629, -5.23695032,  2.29484114,  1.42884695, -1.36474663,\n",
       "         5.99142405,  1.92812231, -1.48419539,  1.72644061, -0.06481982]])"
      ]
     },
     "execution_count": 39,
     "metadata": {},
     "output_type": "execute_result"
    }
   ],
   "source": [
    "#the more extreme the number, the more it matters\n",
    "mangled_station_data[trains.index == 'Bondi Junction']"
   ]
  },
  {
   "cell_type": "code",
   "execution_count": 40,
   "metadata": {
    "collapsed": false
   },
   "outputs": [
    {
     "data": {
      "text/plain": [
       "array([[ -9.49158615,   2.10975144,  -4.07870519,  11.91317797,\n",
       "         -0.53502771,  -1.06419605,  -2.3107553 ,  -0.18495588,\n",
       "         -0.50349106,   0.13775049]])"
      ]
     },
     "execution_count": 40,
     "metadata": {},
     "output_type": "execute_result"
    }
   ],
   "source": [
    "mangled_station_data[trains.index == 'Town Hall']"
   ]
  },
  {
   "cell_type": "code",
   "execution_count": 43,
   "metadata": {
    "collapsed": false
   },
   "outputs": [
    {
     "data": {
      "text/plain": [
       "array([  268.79276949,   170.52538641,  9718.67797976,  4260.36564932,\n",
       "        4477.12607503,  4723.39694641,  5353.09290799,  7794.13873323,\n",
       "        1604.2383566 ,  4463.71960403])"
      ]
     },
     "execution_count": 43,
     "metadata": {},
     "output_type": "execute_result"
    }
   ],
   "source": [
    "#fake bondi junction station\n",
    "pca.inverse_transform([-1.3, -5, 2, 0, 0, 6, 2, 0, 0, 0])"
   ]
  },
  {
   "cell_type": "code",
   "execution_count": 44,
   "metadata": {
    "collapsed": false
   },
   "outputs": [
    {
     "data": {
      "text/plain": [
       "array([   961.61493118,    916.26403361,  11318.20142194,  45280.68631509,\n",
       "        19001.13668724,  24730.66775277,  46073.28415773,  16703.63718178,\n",
       "        18233.24479258,   7959.73876086])"
      ]
     },
     "execution_count": 44,
     "metadata": {},
     "output_type": "execute_result"
    }
   ],
   "source": [
    "#fake bondi junction station\n",
    "pca.inverse_transform([-10, 0, 0, 0, 0, 0, 0, 0, 0, 0])"
   ]
  },
  {
   "cell_type": "code",
   "execution_count": 45,
   "metadata": {
    "collapsed": true
   },
   "outputs": [],
   "source": [
    "simplifier = sklearn.decomposition.PCA(whiten=True, n_components =2)"
   ]
  },
  {
   "cell_type": "code",
   "execution_count": 47,
   "metadata": {
    "collapsed": false
   },
   "outputs": [
    {
     "data": {
      "text/plain": [
       "array([[ -9.99249128e+00,  -8.64293060e-01],\n",
       "       [ -9.49158615e+00,   2.10975144e+00],\n",
       "       [ -7.04285247e+00,   5.71226833e+00],\n",
       "       [ -3.09312274e+00,  -2.56002800e+00],\n",
       "       [ -3.20762483e+00,   2.90955318e+00],\n",
       "       [ -2.39183662e+00,  -2.58609347e-01],\n",
       "       [ -1.83743736e+00,  -1.62604137e+00],\n",
       "       [ -1.32061629e+00,  -5.23695032e+00],\n",
       "       [ -1.25954002e+00,  -4.36105965e+00],\n",
       "       [ -1.88067667e+00,   3.45007538e-01],\n",
       "       [ -2.25922559e+00,   3.04325248e+00],\n",
       "       [ -9.59150871e-01,  -4.81643143e+00],\n",
       "       [ -1.57813698e+00,   1.55865986e-01],\n",
       "       [ -9.84131498e-01,  -3.56265955e+00],\n",
       "       [ -8.57598095e-01,  -2.73547475e+00],\n",
       "       [ -8.04225883e-01,  -1.43436013e+00],\n",
       "       [ -5.80001780e-01,  -2.87453133e+00],\n",
       "       [ -4.98311828e-01,  -2.54384632e+00],\n",
       "       [ -5.94508410e-01,  -1.71277446e+00],\n",
       "       [ -4.60240465e-01,  -2.39547651e+00],\n",
       "       [ -5.07409934e-01,  -2.09305422e+00],\n",
       "       [ -9.47336062e-01,   1.16755332e+00],\n",
       "       [ -3.92935910e-01,  -2.88065055e+00],\n",
       "       [ -6.91672238e-01,  -5.66502075e-02],\n",
       "       [ -8.50610077e-01,   1.18680728e+00],\n",
       "       [ -3.00798449e-01,  -2.55845298e+00],\n",
       "       [ -3.12212222e-01,  -2.02501468e+00],\n",
       "       [ -4.05062012e-01,  -1.30244303e+00],\n",
       "       [ -4.00247189e-01,  -9.32030544e-01],\n",
       "       [ -2.80035086e-01,  -1.99293603e+00],\n",
       "       [ -2.78740842e-01,  -1.67342247e+00],\n",
       "       [ -3.43092896e-01,  -9.08037334e-01],\n",
       "       [ -2.34844768e-01,  -1.47872252e+00],\n",
       "       [ -1.42565030e-01,  -2.15057242e+00],\n",
       "       [ -2.57129043e-01,  -1.07148921e+00],\n",
       "       [ -4.37139266e-01,   3.71177558e-01],\n",
       "       [ -1.69608112e-01,  -1.72516153e+00],\n",
       "       [ -2.87488443e-01,  -5.74005998e-01],\n",
       "       [ -2.09085758e-01,  -1.00097519e+00],\n",
       "       [ -1.48614919e-01,  -1.63925541e+00],\n",
       "       [ -1.34098691e-01,  -1.70999481e+00],\n",
       "       [ -2.92315126e-01,  -4.04236974e-01],\n",
       "       [ -2.02189217e-01,  -2.88715147e-01],\n",
       "       [ -1.31716200e-01,  -1.04553384e+00],\n",
       "       [ -1.10756119e-01,  -1.15989260e+00],\n",
       "       [ -8.30345058e-02,  -1.28162199e+00],\n",
       "       [ -2.85982766e-01,   2.50575472e-01],\n",
       "       [ -7.90741435e-02,  -1.12358986e+00],\n",
       "       [ -1.67210502e-01,  -3.86193916e-01],\n",
       "       [ -7.06511358e-02,  -9.16542809e-01],\n",
       "       [ -3.48676910e-02,  -1.14761041e+00],\n",
       "       [ -3.98520330e-02,  -8.03977894e-01],\n",
       "       [  2.59299775e-02,  -1.25002252e+00],\n",
       "       [  3.11175333e-02,  -1.15824729e+00],\n",
       "       [ -1.52418705e-02,  -7.62191055e-01],\n",
       "       [ -5.82926452e-03,  -8.33840029e-01],\n",
       "       [  4.28295732e-03,  -5.09793216e-01],\n",
       "       [  9.78813000e-02,  -1.09847058e+00],\n",
       "       [  6.51142798e-02,  -1.07307754e+00],\n",
       "       [  4.72969191e-02,  -1.00560336e+00],\n",
       "       [  6.83910058e-02,  -9.61733981e-01],\n",
       "       [ -1.82843543e-01,   9.01428781e-01],\n",
       "       [  4.64834499e-02,  -8.21336166e-01],\n",
       "       [  3.30305966e-02,  -6.17464347e-01],\n",
       "       [ -1.21751239e-01,   7.62278290e-01],\n",
       "       [ -2.89265431e-03,  -3.41390570e-01],\n",
       "       [  6.16673482e-02,  -5.59241282e-01],\n",
       "       [  1.53234324e-02,  -3.10068844e-01],\n",
       "       [  1.07414550e-01,  -8.66852542e-01],\n",
       "       [  3.56108948e-02,  -2.82443800e-01],\n",
       "       [  8.95776907e-02,  -7.03453030e-01],\n",
       "       [  9.99570256e-02,  -8.50489929e-01],\n",
       "       [  1.29810612e-01,  -9.73225374e-01],\n",
       "       [  5.95202135e-02,  -4.44622029e-01],\n",
       "       [  7.84567516e-02,  -4.86717756e-01],\n",
       "       [  6.98931523e-02,  -3.35838397e-01],\n",
       "       [  6.62757377e-02,  -3.81311270e-01],\n",
       "       [  1.42884473e-01,  -8.21570944e-01],\n",
       "       [  5.95896429e-02,  -1.18529782e-01],\n",
       "       [  1.19045311e-01,  -5.47922942e-01],\n",
       "       [  7.72334433e-02,  -2.23026886e-01],\n",
       "       [  1.10463210e-01,  -5.18722628e-01],\n",
       "       [  8.45432911e-02,  -2.50221959e-01],\n",
       "       [  8.77735220e-02,  -2.09816944e-01],\n",
       "       [  7.73474186e-02,  -9.48660815e-02],\n",
       "       [  1.44794897e-01,  -6.26974332e-01],\n",
       "       [  5.42517662e-02,   2.73414957e-01],\n",
       "       [  1.26834537e-01,  -4.17339161e-01],\n",
       "       [  1.34091000e-01,  -3.80771616e-01],\n",
       "       [  1.59075087e-01,  -5.97917630e-01],\n",
       "       [  1.23479442e-01,  -3.66435949e-01],\n",
       "       [  1.60716540e-01,  -5.55648688e-01],\n",
       "       [  1.52225729e-01,  -3.83555762e-01],\n",
       "       [  1.20915340e-01,  -1.35873843e-01],\n",
       "       [  1.38401809e-01,  -2.61102765e-01],\n",
       "       [  1.52111413e-01,  -3.96697889e-01],\n",
       "       [  1.38309402e-01,  -2.26816236e-01],\n",
       "       [  1.75116290e-01,  -4.77996911e-01],\n",
       "       [  1.75116290e-01,  -4.77996911e-01],\n",
       "       [  1.80171732e-01,  -4.57354995e-01],\n",
       "       [  1.40829220e-01,  -1.52135258e-01],\n",
       "       [  1.67758968e-01,  -3.31531896e-01],\n",
       "       [  1.69372692e-01,  -3.18166290e-01],\n",
       "       [  1.80122138e-01,  -3.95939866e-01],\n",
       "       [  1.24054206e-01,  -2.77436253e-02],\n",
       "       [  1.46936733e-01,  -1.55349616e-01],\n",
       "       [  1.51502556e-01,  -1.50461805e-01],\n",
       "       [  1.71660264e-01,  -3.08188848e-01],\n",
       "       [  1.25074585e-01,   1.72347767e-01],\n",
       "       [  1.85933295e-01,  -4.03471543e-01],\n",
       "       [  1.85427748e-01,  -3.65723843e-01],\n",
       "       [  1.77460973e-01,  -3.57684479e-01],\n",
       "       [  1.70827566e-01,  -2.45049910e-01],\n",
       "       [  1.53576168e-01,  -1.02307591e-01],\n",
       "       [  1.82007500e-01,  -3.02844261e-01],\n",
       "       [  1.96020275e-01,  -3.67157700e-01],\n",
       "       [  1.82771046e-01,  -2.43071015e-01],\n",
       "       [  1.53984755e-01,   5.00211185e-02],\n",
       "       [  1.64629085e-01,  -3.56196345e-02],\n",
       "       [  1.43854583e-01,   1.59727647e-01],\n",
       "       [  1.90440880e-01,  -1.87349516e-01],\n",
       "       [  1.79573557e-01,  -9.92572907e-02],\n",
       "       [  1.76555909e-01,  -1.15353862e-01],\n",
       "       [  2.03965604e-01,  -2.47234733e-01],\n",
       "       [  2.07513464e-01,  -1.81704064e-01],\n",
       "       [  1.50964555e-01,   3.80988073e-01],\n",
       "       [  2.22421232e-01,  -2.03421636e-01],\n",
       "       [  1.89070123e-01,   6.98161924e-02],\n",
       "       [  2.17802072e-01,  -5.28426159e-02],\n",
       "       [  2.04062754e-01,   4.56747613e-02],\n",
       "       [  2.17887343e-01,   6.54026313e-02],\n",
       "       [  1.80032033e-01,   3.02913669e-01],\n",
       "       [  1.24650240e-01,   6.63162650e-01],\n",
       "       [  1.87320221e-01,   2.07475925e-01],\n",
       "       [  2.05524650e-01,   1.03576236e-01],\n",
       "       [  1.65579235e-01,   3.58756717e-01],\n",
       "       [  2.23598820e-01,  -2.68541658e-02],\n",
       "       [  1.77143932e-01,   3.45233235e-01],\n",
       "       [  2.04579388e-01,   1.84571590e-01],\n",
       "       [  2.14670820e-01,   1.15042599e-01],\n",
       "       [  1.97913210e-01,   2.44587382e-01],\n",
       "       [  2.10642070e-01,   2.18883068e-01],\n",
       "       [  2.26025937e-01,   8.85737675e-02],\n",
       "       [  2.43073578e-01,  -3.17679894e-02],\n",
       "       [  2.41672378e-01,   4.30051272e-02],\n",
       "       [  2.33577480e-01,   1.36768858e-01],\n",
       "       [  2.17695916e-01,   2.22664808e-01],\n",
       "       [  2.38925582e-01,   8.15845660e-02],\n",
       "       [  2.39419543e-01,   1.04217485e-01],\n",
       "       [  2.16929417e-01,   3.48201737e-01],\n",
       "       [  2.24787642e-01,   2.90853799e-01],\n",
       "       [  2.32466927e-01,   2.79221837e-01],\n",
       "       [  2.29246708e-01,   3.04405336e-01],\n",
       "       [  2.08282603e-01,   5.35654719e-01],\n",
       "       [  2.60954822e-01,   1.21175093e-01],\n",
       "       [  2.56429909e-01,   1.61816639e-01],\n",
       "       [  2.56592886e-01,   1.96912596e-01],\n",
       "       [  2.45102875e-01,   3.15997214e-01],\n",
       "       [  2.57083613e-01,   2.59022419e-01],\n",
       "       [  2.36711240e-01,   4.44895307e-01],\n",
       "       [  2.10878350e-01,   6.18481643e-01],\n",
       "       [  2.68329269e-01,   1.90966369e-01],\n",
       "       [  2.54279676e-01,   3.53312433e-01],\n",
       "       [  2.60670415e-01,   3.33722466e-01],\n",
       "       [  2.60168901e-01,   3.34972422e-01],\n",
       "       [  2.49814130e-01,   4.39050285e-01],\n",
       "       [  2.72139280e-01,   2.40757011e-01],\n",
       "       [  2.59675433e-01,   3.40792744e-01],\n",
       "       [  2.78857363e-01,   1.89598197e-01],\n",
       "       [  2.61676323e-01,   3.41250860e-01],\n",
       "       [  2.79908447e-01,   2.09262937e-01],\n",
       "       [  2.50663875e-01,   4.83966202e-01],\n",
       "       [  2.50469239e-01,   4.54087399e-01],\n",
       "       [  2.61376586e-01,   4.11514575e-01],\n",
       "       [  2.79857763e-01,   3.03332330e-01],\n",
       "       [  2.85770488e-01,   2.70728726e-01],\n",
       "       [  2.75793325e-01,   3.79132596e-01],\n",
       "       [  2.51094868e-01,   5.54899267e-01],\n",
       "       [  2.77790433e-01,   3.74810812e-01],\n",
       "       [  2.66546355e-01,   4.55680968e-01],\n",
       "       [  2.76785409e-01,   4.05735294e-01],\n",
       "       [  2.83932633e-01,   4.23714571e-01],\n",
       "       [  2.72934351e-01,   4.82884900e-01],\n",
       "       [  2.90465088e-01,   3.58434003e-01],\n",
       "       [  2.89259504e-01,   3.50367269e-01],\n",
       "       [  2.84283559e-01,   4.47050321e-01],\n",
       "       [  2.93640918e-01,   3.49604552e-01],\n",
       "       [  2.88018266e-01,   4.32159216e-01],\n",
       "       [  2.92320750e-01,   3.93337347e-01],\n",
       "       [  2.78557861e-01,   5.27982285e-01],\n",
       "       [  2.94962015e-01,   4.12858093e-01],\n",
       "       [  2.87859912e-01,   4.77608050e-01],\n",
       "       [  2.88393841e-01,   4.84461529e-01],\n",
       "       [  2.95103026e-01,   4.54317998e-01],\n",
       "       [  2.98275418e-01,   4.52309105e-01],\n",
       "       [  2.94334006e-01,   4.87331081e-01],\n",
       "       [  2.91000831e-01,   4.99653454e-01],\n",
       "       [  2.94775770e-01,   4.74997355e-01],\n",
       "       [  2.94208531e-01,   4.79909047e-01],\n",
       "       [  2.92848854e-01,   5.03655950e-01],\n",
       "       [  3.02206162e-01,   4.45274555e-01],\n",
       "       [  2.91906973e-01,   5.24992352e-01],\n",
       "       [  3.01497648e-01,   4.61263888e-01],\n",
       "       [  2.95712233e-01,   5.13573414e-01],\n",
       "       [  3.01625581e-01,   4.65414427e-01],\n",
       "       [  3.00768713e-01,   4.80220844e-01],\n",
       "       [  2.96933722e-01,   4.98269713e-01],\n",
       "       [  2.84831128e-01,   6.05981602e-01],\n",
       "       [  2.98408296e-01,   5.01282951e-01],\n",
       "       [  3.02111627e-01,   4.65915614e-01],\n",
       "       [  2.93800667e-01,   5.40589741e-01],\n",
       "       [  2.98009790e-01,   5.18586497e-01],\n",
       "       [  2.98292886e-01,   5.09494068e-01],\n",
       "       [  3.00632099e-01,   5.11247582e-01],\n",
       "       [  2.99963546e-01,   5.14886896e-01],\n",
       "       [  3.00270398e-01,   5.32762996e-01],\n",
       "       [  3.04827955e-01,   5.06723406e-01],\n",
       "       [  2.96727375e-01,   5.52592305e-01],\n",
       "       [  3.02734332e-01,   5.28364287e-01],\n",
       "       [  3.04749731e-01,   5.11996141e-01],\n",
       "       [  2.92936525e-01,   5.99376360e-01],\n",
       "       [  3.03684372e-01,   5.40289623e-01],\n",
       "       [  3.01637410e-01,   5.31068197e-01],\n",
       "       [  3.04449920e-01,   5.21966700e-01],\n",
       "       [  3.04999732e-01,   5.33804101e-01],\n",
       "       [  3.08613335e-01,   5.10354334e-01],\n",
       "       [  3.10054154e-01,   5.12325514e-01],\n",
       "       [  3.08375417e-01,   5.31893621e-01],\n",
       "       [  3.09336215e-01,   5.01962487e-01],\n",
       "       [  3.09896308e-01,   5.15047834e-01],\n",
       "       [  3.06732356e-01,   5.39198301e-01],\n",
       "       [  3.07310886e-01,   5.41382245e-01],\n",
       "       [  3.10365140e-01,   5.18619610e-01],\n",
       "       [  3.06038621e-01,   5.71212701e-01],\n",
       "       [  3.12197661e-01,   5.17065734e-01],\n",
       "       [  3.12103910e-01,   5.25517560e-01],\n",
       "       [  3.12615728e-01,   5.18492216e-01],\n",
       "       [  3.12103910e-01,   5.25517560e-01],\n",
       "       [  3.08116183e-01,   5.64211281e-01],\n",
       "       [  3.10996197e-01,   5.54171352e-01],\n",
       "       [  3.11940999e-01,   5.54014704e-01],\n",
       "       [  3.13647205e-01,   5.60796306e-01],\n",
       "       [  3.13130117e-01,   5.67124768e-01],\n",
       "       [  3.07941055e-01,   5.89087959e-01],\n",
       "       [  3.12396112e-01,   5.47990391e-01],\n",
       "       [  3.07758576e-01,   5.87287520e-01],\n",
       "       [  3.15054786e-01,   5.46973739e-01],\n",
       "       [  3.12481645e-01,   5.68285075e-01],\n",
       "       [  3.07418434e-01,   6.07960518e-01],\n",
       "       [  3.12732507e-01,   5.64892264e-01],\n",
       "       [  3.14419504e-01,   5.77219536e-01],\n",
       "       [  3.14377392e-01,   5.61720271e-01],\n",
       "       [  3.18754939e-01,   5.88122457e-01],\n",
       "       [  3.12823959e-01,   5.83495873e-01],\n",
       "       [  3.15681333e-01,   5.63109768e-01],\n",
       "       [  3.15209611e-01,   5.68898010e-01],\n",
       "       [  3.11265288e-01,   6.10428937e-01],\n",
       "       [  3.15024223e-01,   5.74659629e-01],\n",
       "       [  3.15661345e-01,   5.75591995e-01],\n",
       "       [  3.16601236e-01,   5.71867356e-01],\n",
       "       [  3.15763354e-01,   5.83461272e-01],\n",
       "       [  3.13134506e-01,   6.00237888e-01],\n",
       "       [  3.17598608e-01,   5.80451038e-01],\n",
       "       [  3.16258706e-01,   5.87229472e-01],\n",
       "       [  3.15384912e-01,   5.94290022e-01],\n",
       "       [  3.16517857e-01,   5.85498253e-01],\n",
       "       [  3.17351994e-01,   5.85903667e-01],\n",
       "       [  3.16223265e-01,   5.82727416e-01],\n",
       "       [  3.18571391e-01,   5.85356740e-01],\n",
       "       [  3.16058487e-01,   5.88618807e-01],\n",
       "       [  3.18437400e-01,   5.84016053e-01],\n",
       "       [  3.19309724e-01,   5.90800631e-01],\n",
       "       [  3.17304454e-01,   5.92807822e-01],\n",
       "       [  3.18292722e-01,   5.86077851e-01],\n",
       "       [  3.18013942e-01,   5.83333878e-01],\n",
       "       [  3.19165047e-01,   5.92862429e-01],\n",
       "       [  3.16684237e-01,   6.01397084e-01],\n",
       "       [  3.18838002e-01,   5.96588872e-01],\n",
       "       [  3.18886378e-01,   5.93583540e-01],\n",
       "       [  3.17902909e-01,   6.00416418e-01],\n",
       "       [  3.19353332e-01,   5.97842803e-01],\n",
       "       [  3.19314635e-01,   5.94368622e-01],\n",
       "       [  3.20101232e-01,   6.01678191e-01],\n",
       "       [  3.19640882e-01,   5.95620521e-01],\n",
       "       [  3.20101232e-01,   6.01678191e-01],\n",
       "       [  3.20101232e-01,   6.01678191e-01],\n",
       "       [  3.19640882e-01,   5.95620521e-01],\n",
       "       [  3.19212625e-01,   5.94835439e-01],\n",
       "       [  3.19640882e-01,   5.95620521e-01],\n",
       "       [  3.19822451e-01,   5.98934218e-01],\n",
       "       [  3.19212625e-01,   5.94835439e-01],\n",
       "       [  3.19648395e-01,   6.00644950e-01],\n",
       "       [  3.19640882e-01,   5.95620521e-01],\n",
       "       [  3.19640882e-01,   5.95620521e-01],\n",
       "       [  3.19640882e-01,   5.95620521e-01],\n",
       "       [  3.19786356e-01,   5.96916475e-01],\n",
       "       [  3.20101232e-01,   6.01678191e-01],\n",
       "       [  3.20101232e-01,   6.01678191e-01],\n",
       "       [  3.20101232e-01,   6.01678191e-01],\n",
       "       [  3.20101232e-01,   6.01678191e-01],\n",
       "       [  3.20101232e-01,   6.01678191e-01],\n",
       "       [  3.20101232e-01,   6.01678191e-01],\n",
       "       [  3.20101232e-01,   6.01678191e-01],\n",
       "       [  3.20101232e-01,   6.01678191e-01],\n",
       "       [  3.20101232e-01,   6.01678191e-01],\n",
       "       [  3.20101232e-01,   6.01678191e-01],\n",
       "       [  3.20101232e-01,   6.01678191e-01],\n",
       "       [  3.20101232e-01,   6.01678191e-01]])"
      ]
     },
     "execution_count": 47,
     "metadata": {},
     "output_type": "execute_result"
    }
   ],
   "source": [
    "simplified_data = simplifier.fit_transform(trains[numeric_columns])\n",
    "simplified_data\n",
    "#first column is a measure of how rural it is"
   ]
  },
  {
   "cell_type": "code",
   "execution_count": 50,
   "metadata": {
    "collapsed": false
   },
   "outputs": [
    {
     "data": {
      "text/plain": [
       "[('IN_0200_0600', 30.614477050421012),\n",
       " ('OUT_0200_0600', 23.142704318733422),\n",
       " ('IN_0600_0930', -50.02729636122308),\n",
       " ('OUT_0600_0930', 1783.8689112078268),\n",
       " ('IN_0930_1500', 314.66670487106359),\n",
       " ('OUT_0930_1500', 519.01167837246544),\n",
       " ('IN_1500_1830', 1585.1741736313747),\n",
       " ('OUT_1500_1830', 116.32887548867541),\n",
       " ('IN_1830_0200', 538.69093487624491),\n",
       " ('OUT_1830_0200', -22.196630775093581)]"
      ]
     },
     "execution_count": 50,
     "metadata": {},
     "output_type": "execute_result"
    }
   ],
   "source": [
    "#what would a station look like that scored 1 in the second component?\n",
    "zip(numeric_columns, simplifier.inverse_transform([0,1]))\n",
    "#measure of party life..?"
   ]
  },
  {
   "cell_type": "code",
   "execution_count": 51,
   "metadata": {
    "collapsed": true
   },
   "outputs": [],
   "source": [
    "reconstituted = simplifier.inverse_transform(simplified_data)"
   ]
  },
  {
   "cell_type": "code",
   "execution_count": 53,
   "metadata": {
    "collapsed": false
   },
   "outputs": [
    {
     "data": {
      "text/plain": [
       "<matplotlib.collections.PathCollection at 0x119eb6b90>"
      ]
     },
     "execution_count": 53,
     "metadata": {},
     "output_type": "execute_result"
    },
    {
     "data": {
      "image/png": "[encoded data removed]",
      "text/plain": [
       "<matplotlib.figure.Figure at 0x11972e490>"
      ]
     },
     "metadata": {},
     "output_type": "display_data"
    }
   ],
   "source": [
    "matplotlib.pyplot.scatter(reconstituted[:,4], reconstituted[:,3], c = colour_chart)"
   ]
  },
  {
   "cell_type": "code",
   "execution_count": 54,
   "metadata": {
    "collapsed": false
   },
   "outputs": [
    {
     "data": {
      "text/plain": [
       "<matplotlib.collections.PathCollection at 0x1196141d0>"
      ]
     },
     "execution_count": 54,
     "metadata": {},
     "output_type": "execute_result"
    },
    {
     "data": {
      "image/png": "[encoded data removed]",
      "text/plain": [
       "<matplotlib.figure.Figure at 0x119b67750>"
      ]
     },
     "metadata": {},
     "output_type": "display_data"
    }
   ],
   "source": [
    "matplotlib.pyplot.scatter(trains.IN_0600_0930, trains.OUT_0600_0930, c = colour_chart)"
   ]
  },
  {
   "cell_type": "code",
   "execution_count": 55,
   "metadata": {
    "collapsed": false
   },
   "outputs": [
    {
     "data": {
      "text/plain": [
       "array([ 0.92525334,  0.06130058])"
      ]
     },
     "execution_count": 55,
     "metadata": {},
     "output_type": "execute_result"
    }
   ],
   "source": [
    "#this describes the percentage of data is encompassed\n",
    "simplifier.explained_variance_ratio_"
   ]
  },
  {
   "cell_type": "code",
   "execution_count": 56,
   "metadata": {
    "collapsed": false
   },
   "outputs": [
    {
     "data": {
      "text/plain": [
       "array([[-0.01216888, -0.01181708, -0.13570067, -0.59073739, -0.243829  ,\n",
       "        -0.32006833, -0.60005267, -0.20835379, -0.23880968, -0.09962957],\n",
       "       [-0.01119104, -0.00516797, -0.637461  ,  0.33967958, -0.24082972,\n",
       "        -0.15102742,  0.18628327, -0.52786231,  0.0797915 , -0.27855756]])"
      ]
     },
     "execution_count": 56,
     "metadata": {},
     "output_type": "execute_result"
    }
   ],
   "source": [
    "#this describes how important each column (of the original dataset) is to this new component\n",
    "simplifier.components_"
   ]
  },
  {
   "cell_type": "code",
   "execution_count": 62,
   "metadata": {
    "collapsed": true
   },
   "outputs": [],
   "source": [
    "#try sparse PCA (if close to 0, it will just count it as 0)\n",
    "sparse = sklearn.decomposition.SparsePCA(n_components=6)"
   ]
  },
  {
   "cell_type": "code",
   "execution_count": 63,
   "metadata": {
    "collapsed": true
   },
   "outputs": [],
   "source": [
    "sparse_data = sparse.fit_transform(trains[numeric_columns])"
   ]
  },
  {
   "cell_type": "code",
   "execution_count": 64,
   "metadata": {
    "collapsed": false
   },
   "outputs": [
    {
     "data": {
      "text/plain": [
       "array([[ -1.79368881e+03,  -1.64476930e+03,  -2.31054403e+04,\n",
       "         -8.02488504e+04,  -3.43536644e+04,  -4.41667041e+04,\n",
       "         -8.16586139e+04,  -3.16942983e+04,  -3.14615578e+04,\n",
       "         -1.46248319e+04],\n",
       "       [  5.09232864e+02,   1.61876235e+02,   2.59459201e+04,\n",
       "         -1.27290671e+04,   7.44349982e+03,   3.61661645e+03,\n",
       "         -8.26540892e+03,   2.05535960e+04,  -4.07056360e+03,\n",
       "          9.94289488e+03],\n",
       "       [  8.22324344e+01,  -6.68557959e+01,   4.46177729e+03,\n",
       "          5.84110325e+03,  -4.03577675e+03,  -9.72718100e+03,\n",
       "          7.25847429e+02,   8.78425517e+01,  -5.10029929e+03,\n",
       "          0.00000000e+00],\n",
       "       [  3.81734238e+01,   3.19421337e+01,  -4.29703698e+02,\n",
       "          2.10058879e+02,  -1.53479312e+03,  -1.35488947e+03,\n",
       "         -1.16752629e+03,   2.23454154e+03,   4.78580853e+03,\n",
       "          5.69056820e+02],\n",
       "       [  2.78413502e+01,   1.19389298e+01,   0.00000000e+00,\n",
       "          5.54510095e+02,  -7.80036919e+02,   1.10024872e+03,\n",
       "         -9.73196700e+02,   7.51825340e+02,   0.00000000e+00,\n",
       "         -4.14389400e+03],\n",
       "       [ -1.61423623e+01,  -7.95843252e+01,   1.32134327e+03,\n",
       "          0.00000000e+00,  -2.47525216e+03,   5.08294546e+02,\n",
       "          2.82895535e+02,  -1.27526350e+03,   4.87497450e+01,\n",
       "          0.00000000e+00]])"
      ]
     },
     "execution_count": 64,
     "metadata": {},
     "output_type": "execute_result"
    }
   ],
   "source": [
    "sparse.components_"
   ]
  },
  {
   "cell_type": "code",
   "execution_count": 65,
   "metadata": {
    "collapsed": false
   },
   "outputs": [
    {
     "data": {
      "text/plain": [
       "-0.28755231917234991"
      ]
     },
     "execution_count": 65,
     "metadata": {},
     "output_type": "execute_result"
    }
   ],
   "source": [
    "sparse_data[:, 1].min()"
   ]
  },
  {
   "cell_type": "code",
   "execution_count": 69,
   "metadata": {
    "collapsed": false
   },
   "outputs": [
    {
     "data": {
      "text/html": [
       "<div>\n",
       "<table border=\"1\" class=\"dataframe\">\n",
       "  <thead>\n",
       "    <tr style=\"text-align: right;\">\n",
       "      <th></th>\n",
       "      <th>LINE</th>\n",
       "      <th>YEAR</th>\n",
       "      <th>SURVEY_DATE_USED</th>\n",
       "      <th>WHETHER_SURVEYED</th>\n",
       "      <th>IN_0200_0600</th>\n",
       "      <th>OUT_0200_0600</th>\n",
       "      <th>IN_0600_0930</th>\n",
       "      <th>OUT_0600_0930</th>\n",
       "      <th>IN_0930_1500</th>\n",
       "      <th>OUT_0930_1500</th>\n",
       "      <th>IN_1500_1830</th>\n",
       "      <th>OUT_1500_1830</th>\n",
       "      <th>IN_1830_0200</th>\n",
       "      <th>OUT_1830_0200</th>\n",
       "      <th>IN_24_HOURS</th>\n",
       "      <th>OUT_24_HOURS</th>\n",
       "      <th>RANK</th>\n",
       "      <th>STATION_SORT_ID</th>\n",
       "    </tr>\n",
       "    <tr>\n",
       "      <th>STATION</th>\n",
       "      <th></th>\n",
       "      <th></th>\n",
       "      <th></th>\n",
       "      <th></th>\n",
       "      <th></th>\n",
       "      <th></th>\n",
       "      <th></th>\n",
       "      <th></th>\n",
       "      <th></th>\n",
       "      <th></th>\n",
       "      <th></th>\n",
       "      <th></th>\n",
       "      <th></th>\n",
       "      <th></th>\n",
       "      <th></th>\n",
       "      <th></th>\n",
       "      <th></th>\n",
       "      <th></th>\n",
       "    </tr>\n",
       "  </thead>\n",
       "  <tbody>\n",
       "    <tr>\n",
       "      <th>Wynyard</th>\n",
       "      <td>CBD</td>\n",
       "      <td>2014</td>\n",
       "      <td>20/05/2014</td>\n",
       "      <td>Yes</td>\n",
       "      <td>590</td>\n",
       "      <td>570</td>\n",
       "      <td>4710</td>\n",
       "      <td>39620</td>\n",
       "      <td>9200</td>\n",
       "      <td>11180</td>\n",
       "      <td>35010</td>\n",
       "      <td>6510</td>\n",
       "      <td>10690</td>\n",
       "      <td>2330</td>\n",
       "      <td>60200</td>\n",
       "      <td>60200</td>\n",
       "      <td>3</td>\n",
       "      <td>103</td>\n",
       "    </tr>\n",
       "  </tbody>\n",
       "</table>\n",
       "</div>"
      ],
      "text/plain": [
       "        LINE  YEAR SURVEY_DATE_USED WHETHER_SURVEYED  IN_0200_0600  \\\n",
       "STATION                                                              \n",
       "Wynyard  CBD  2014       20/05/2014              Yes           590   \n",
       "\n",
       "         OUT_0200_0600  IN_0600_0930  OUT_0600_0930  IN_0930_1500  \\\n",
       "STATION                                                             \n",
       "Wynyard            570          4710          39620          9200   \n",
       "\n",
       "         OUT_0930_1500  IN_1500_1830  OUT_1500_1830  IN_1830_0200  \\\n",
       "STATION                                                             \n",
       "Wynyard          11180         35010           6510         10690   \n",
       "\n",
       "         OUT_1830_0200  IN_24_HOURS  OUT_24_HOURS  RANK  STATION_SORT_ID  \n",
       "STATION                                                                   \n",
       "Wynyard           2330        60200         60200     3              103  "
      ]
     },
     "execution_count": 69,
     "metadata": {},
     "output_type": "execute_result"
    }
   ],
   "source": [
    "trains[sparse_data[:,1] < -0.28]"
   ]
  },
  {
   "cell_type": "code",
   "execution_count": 70,
   "metadata": {
    "collapsed": true
   },
   "outputs": [],
   "source": []
  },
  {
   "cell_type": "code",
   "execution_count": null,
   "metadata": {
    "collapsed": true
   },
   "outputs": [],
   "source": [
    "#manifold learning"
   ]
  },
  {
   "cell_type": "code",
   "execution_count": 71,
   "metadata": {
    "collapsed": true
   },
   "outputs": [],
   "source": [
    "import sklearn.manifold"
   ]
  },
  {
   "cell_type": "code",
   "execution_count": 78,
   "metadata": {
    "collapsed": false
   },
   "outputs": [],
   "source": [
    "lle = sklearn.manifold.LocallyLinearEmbedding(n_components=2, n_neighbors=20, method='modified')"
   ]
  },
  {
   "cell_type": "code",
   "execution_count": 79,
   "metadata": {
    "collapsed": false
   },
   "outputs": [],
   "source": [
    "lle_transformed = lle.fit_transform(trains[numeric_columns])"
   ]
  },
  {
   "cell_type": "code",
   "execution_count": 81,
   "metadata": {
    "collapsed": false
   },
   "outputs": [
    {
     "data": {
      "text/plain": [
       "<matplotlib.collections.PathCollection at 0x11a2fc7d0>"
      ]
     },
     "execution_count": 81,
     "metadata": {},
     "output_type": "execute_result"
    },
    {
     "data": {
      "image/png": "[encoded data removed]",
      "text/plain": [
       "<matplotlib.figure.Figure at 0x1197b1d90>"
      ]
     },
     "metadata": {},
     "output_type": "display_data"
    }
   ],
   "source": [
    "matplotlib.pyplot.scatter(lle_transformed[:,0], lle_transformed[:,1])"
   ]
  },
  {
   "cell_type": "code",
   "execution_count": null,
   "metadata": {
    "collapsed": true
   },
   "outputs": [],
   "source": []
  }
 ],
 "metadata": {
  "kernelspec": {
   "display_name": "Python 2",
   "language": "python",
   "name": "python2"
  },
  "language_info": {
   "codemirror_mode": {
    "name": "ipython",
    "version": 2
   },
   "file_extension": ".py",
   "mimetype": "text/x-python",
   "name": "python",
   "nbconvert_exporter": "python",
   "pygments_lexer": "ipython2",
   "version": "2.7.11"
  }
 },
 "nbformat": 4,
 "nbformat_minor": 0
}
