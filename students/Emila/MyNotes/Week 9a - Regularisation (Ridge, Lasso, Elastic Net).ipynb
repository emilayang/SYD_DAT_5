{
 "cells": [
  {
   "cell_type": "code",
   "execution_count": 1,
   "metadata": {
    "collapsed": true
   },
   "outputs": [],
   "source": [
    "import pandas"
   ]
  },
  {
   "cell_type": "code",
   "execution_count": 9,
   "metadata": {
    "collapsed": true
   },
   "outputs": [],
   "source": [
    "weather = pandas.read_csv('../../../data/sydney_climate.csv', parse_dates='Year_Month_Day', \n",
    "                          index_col = 'Year_Month_Day').interpolate()\n",
    "#can use interpolate(), or ffill(), or bfill() to fill in the NaN values"
   ]
  },
  {
   "cell_type": "code",
   "execution_count": 11,
   "metadata": {
    "collapsed": false
   },
   "outputs": [
    {
     "data": {
      "text/html": [
       "<div>\n",
       "<table border=\"1\" class=\"dataframe\">\n",
       "  <thead>\n",
       "    <tr style=\"text-align: right;\">\n",
       "      <th></th>\n",
       "      <th>MANGROVE_MOUNTAIN</th>\n",
       "      <th>GOSFORD</th>\n",
       "      <th>SPRINGWOOD</th>\n",
       "      <th>SYDNEY_AIRPORT</th>\n",
       "      <th>TERREY_HILLS</th>\n",
       "      <th>SYDNEY</th>\n",
       "      <th>PARRAMATTA_NORTH</th>\n",
       "      <th>BANKSTOWN_AIRPORT</th>\n",
       "      <th>HOLSWORTHY_AERODROME</th>\n",
       "      <th>CANTERBURY_RACECOURSE</th>\n",
       "      <th>SYDNEY_HARBOUR</th>\n",
       "      <th>PROSPECT_RESERVOIR</th>\n",
       "      <th>RICHMOND_RAAF</th>\n",
       "      <th>BADGERYS_CREEK</th>\n",
       "      <th>PENRITH_LAKES</th>\n",
       "      <th>HORSLEY_PARK_EQUESTRIAN_CENTRE</th>\n",
       "      <th>CAMDEN_AIRPORT</th>\n",
       "      <th>BELLAMBI</th>\n",
       "      <th>PORT_KEMBLA_NTC</th>\n",
       "      <th>CAMPBELLTOWN</th>\n",
       "    </tr>\n",
       "    <tr>\n",
       "      <th>Year_Month_Day</th>\n",
       "      <th></th>\n",
       "      <th></th>\n",
       "      <th></th>\n",
       "      <th></th>\n",
       "      <th></th>\n",
       "      <th></th>\n",
       "      <th></th>\n",
       "      <th></th>\n",
       "      <th></th>\n",
       "      <th></th>\n",
       "      <th></th>\n",
       "      <th></th>\n",
       "      <th></th>\n",
       "      <th></th>\n",
       "      <th></th>\n",
       "      <th></th>\n",
       "      <th></th>\n",
       "      <th></th>\n",
       "      <th></th>\n",
       "      <th></th>\n",
       "    </tr>\n",
       "  </thead>\n",
       "  <tbody>\n",
       "    <tr>\n",
       "      <th>2016-01-02</th>\n",
       "      <td>24.5</td>\n",
       "      <td>24.8</td>\n",
       "      <td>25.2</td>\n",
       "      <td>25.3</td>\n",
       "      <td>23.30</td>\n",
       "      <td>25.4</td>\n",
       "      <td>24.9</td>\n",
       "      <td>26.1</td>\n",
       "      <td>26.2</td>\n",
       "      <td>24.8</td>\n",
       "      <td>22.6</td>\n",
       "      <td>26.1</td>\n",
       "      <td>26.6</td>\n",
       "      <td>28.8</td>\n",
       "      <td>28.2</td>\n",
       "      <td>26.7</td>\n",
       "      <td>27.5</td>\n",
       "      <td>22.9</td>\n",
       "      <td>22.0</td>\n",
       "      <td>27.6</td>\n",
       "    </tr>\n",
       "    <tr>\n",
       "      <th>2016-01-03</th>\n",
       "      <td>21.2</td>\n",
       "      <td>23.4</td>\n",
       "      <td>21.0</td>\n",
       "      <td>24.3</td>\n",
       "      <td>22.96</td>\n",
       "      <td>24.6</td>\n",
       "      <td>25.0</td>\n",
       "      <td>25.6</td>\n",
       "      <td>24.1</td>\n",
       "      <td>23.6</td>\n",
       "      <td>22.7</td>\n",
       "      <td>24.0</td>\n",
       "      <td>24.3</td>\n",
       "      <td>24.6</td>\n",
       "      <td>23.6</td>\n",
       "      <td>23.3</td>\n",
       "      <td>24.6</td>\n",
       "      <td>22.9</td>\n",
       "      <td>22.9</td>\n",
       "      <td>24.6</td>\n",
       "    </tr>\n",
       "    <tr>\n",
       "      <th>2016-01-04</th>\n",
       "      <td>22.2</td>\n",
       "      <td>24.4</td>\n",
       "      <td>20.1</td>\n",
       "      <td>25.4</td>\n",
       "      <td>22.62</td>\n",
       "      <td>23.6</td>\n",
       "      <td>21.8</td>\n",
       "      <td>23.6</td>\n",
       "      <td>23.5</td>\n",
       "      <td>23.4</td>\n",
       "      <td>23.1</td>\n",
       "      <td>23.0</td>\n",
       "      <td>22.3</td>\n",
       "      <td>22.1</td>\n",
       "      <td>21.1</td>\n",
       "      <td>22.8</td>\n",
       "      <td>23.0</td>\n",
       "      <td>22.4</td>\n",
       "      <td>21.8</td>\n",
       "      <td>23.1</td>\n",
       "    </tr>\n",
       "    <tr>\n",
       "      <th>2016-01-05</th>\n",
       "      <td>18.6</td>\n",
       "      <td>20.6</td>\n",
       "      <td>16.2</td>\n",
       "      <td>21.0</td>\n",
       "      <td>22.28</td>\n",
       "      <td>20.3</td>\n",
       "      <td>19.8</td>\n",
       "      <td>20.5</td>\n",
       "      <td>19.9</td>\n",
       "      <td>19.7</td>\n",
       "      <td>20.7</td>\n",
       "      <td>19.2</td>\n",
       "      <td>19.8</td>\n",
       "      <td>19.3</td>\n",
       "      <td>18.8</td>\n",
       "      <td>18.9</td>\n",
       "      <td>19.8</td>\n",
       "      <td>21.0</td>\n",
       "      <td>21.3</td>\n",
       "      <td>20.4</td>\n",
       "    </tr>\n",
       "    <tr>\n",
       "      <th>2016-01-06</th>\n",
       "      <td>16.4</td>\n",
       "      <td>19.0</td>\n",
       "      <td>18.4</td>\n",
       "      <td>19.2</td>\n",
       "      <td>21.94</td>\n",
       "      <td>18.6</td>\n",
       "      <td>19.0</td>\n",
       "      <td>20.0</td>\n",
       "      <td>20.5</td>\n",
       "      <td>19.2</td>\n",
       "      <td>19.9</td>\n",
       "      <td>19.7</td>\n",
       "      <td>21.2</td>\n",
       "      <td>21.2</td>\n",
       "      <td>21.4</td>\n",
       "      <td>20.3</td>\n",
       "      <td>21.4</td>\n",
       "      <td>19.6</td>\n",
       "      <td>19.8</td>\n",
       "      <td>20.8</td>\n",
       "    </tr>\n",
       "  </tbody>\n",
       "</table>\n",
       "</div>"
      ],
      "text/plain": [
       "                MANGROVE_MOUNTAIN  GOSFORD  SPRINGWOOD  SYDNEY_AIRPORT  \\\n",
       "Year_Month_Day                                                           \n",
       "2016-01-02                   24.5     24.8        25.2            25.3   \n",
       "2016-01-03                   21.2     23.4        21.0            24.3   \n",
       "2016-01-04                   22.2     24.4        20.1            25.4   \n",
       "2016-01-05                   18.6     20.6        16.2            21.0   \n",
       "2016-01-06                   16.4     19.0        18.4            19.2   \n",
       "\n",
       "                TERREY_HILLS  SYDNEY  PARRAMATTA_NORTH  BANKSTOWN_AIRPORT  \\\n",
       "Year_Month_Day                                                              \n",
       "2016-01-02             23.30    25.4              24.9               26.1   \n",
       "2016-01-03             22.96    24.6              25.0               25.6   \n",
       "2016-01-04             22.62    23.6              21.8               23.6   \n",
       "2016-01-05             22.28    20.3              19.8               20.5   \n",
       "2016-01-06             21.94    18.6              19.0               20.0   \n",
       "\n",
       "                HOLSWORTHY_AERODROME  CANTERBURY_RACECOURSE  SYDNEY_HARBOUR  \\\n",
       "Year_Month_Day                                                                \n",
       "2016-01-02                      26.2                   24.8            22.6   \n",
       "2016-01-03                      24.1                   23.6            22.7   \n",
       "2016-01-04                      23.5                   23.4            23.1   \n",
       "2016-01-05                      19.9                   19.7            20.7   \n",
       "2016-01-06                      20.5                   19.2            19.9   \n",
       "\n",
       "                PROSPECT_RESERVOIR  RICHMOND_RAAF  BADGERYS_CREEK  \\\n",
       "Year_Month_Day                                                      \n",
       "2016-01-02                    26.1           26.6            28.8   \n",
       "2016-01-03                    24.0           24.3            24.6   \n",
       "2016-01-04                    23.0           22.3            22.1   \n",
       "2016-01-05                    19.2           19.8            19.3   \n",
       "2016-01-06                    19.7           21.2            21.2   \n",
       "\n",
       "                PENRITH_LAKES  HORSLEY_PARK_EQUESTRIAN_CENTRE  CAMDEN_AIRPORT  \\\n",
       "Year_Month_Day                                                                  \n",
       "2016-01-02               28.2                            26.7            27.5   \n",
       "2016-01-03               23.6                            23.3            24.6   \n",
       "2016-01-04               21.1                            22.8            23.0   \n",
       "2016-01-05               18.8                            18.9            19.8   \n",
       "2016-01-06               21.4                            20.3            21.4   \n",
       "\n",
       "                BELLAMBI  PORT_KEMBLA_NTC  CAMPBELLTOWN  \n",
       "Year_Month_Day                                           \n",
       "2016-01-02          22.9             22.0          27.6  \n",
       "2016-01-03          22.9             22.9          24.6  \n",
       "2016-01-04          22.4             21.8          23.1  \n",
       "2016-01-05          21.0             21.3          20.4  \n",
       "2016-01-06          19.6             19.8          20.8  "
      ]
     },
     "execution_count": 11,
     "metadata": {},
     "output_type": "execute_result"
    }
   ],
   "source": [
    "#looks like time series! go back & parse dates\n",
    "weather.head()"
   ]
  },
  {
   "cell_type": "code",
   "execution_count": 12,
   "metadata": {
    "collapsed": true
   },
   "outputs": [],
   "source": [
    "#we'd like to measure Sydney weather using all the areas around it (so we don't actually have to have Sydney observatory)"
   ]
  },
  {
   "cell_type": "code",
   "execution_count": 13,
   "metadata": {
    "collapsed": true
   },
   "outputs": [],
   "source": [
    "#get all columns that is not Sydney\n",
    "not_sydney = [x for x in weather.columns if x!='SYDNEY']"
   ]
  },
  {
   "cell_type": "code",
   "execution_count": 14,
   "metadata": {
    "collapsed": true
   },
   "outputs": [],
   "source": [
    "#lets do an ordinary least square linear regression\n",
    "import sklearn.linear_model"
   ]
  },
  {
   "cell_type": "code",
   "execution_count": 15,
   "metadata": {
    "collapsed": true
   },
   "outputs": [],
   "source": [
    "ols = sklearn.linear_model.LinearRegression()"
   ]
  },
  {
   "cell_type": "code",
   "execution_count": 16,
   "metadata": {
    "collapsed": false
   },
   "outputs": [
    {
     "data": {
      "text/plain": [
       "LinearRegression(copy_X=True, fit_intercept=True, n_jobs=1, normalize=False)"
      ]
     },
     "execution_count": 16,
     "metadata": {},
     "output_type": "execute_result"
    }
   ],
   "source": [
    "ols.fit(weather[not_sydney], weather.SYDNEY)"
   ]
  },
  {
   "cell_type": "code",
   "execution_count": 17,
   "metadata": {
    "collapsed": false,
    "scrolled": true
   },
   "outputs": [
    {
     "data": {
      "text/plain": [
       "array([-0.12879948,  0.24415385,  0.10288149, -0.11926217,  0.06435938,\n",
       "        0.34594062,  0.07798567,  0.00341155,  0.0956447 ,  0.45071336,\n",
       "       -0.10983429,  0.03937857,  0.0910428 ,  0.0398326 , -0.34210625,\n",
       "       -0.0593403 ,  0.10911456,  0.00949892,  0.16309842])"
      ]
     },
     "execution_count": 17,
     "metadata": {},
     "output_type": "execute_result"
    }
   ],
   "source": [
    "ols.coef_"
   ]
  },
  {
   "cell_type": "code",
   "execution_count": 39,
   "metadata": {
    "collapsed": false
   },
   "outputs": [
    {
     "data": {
      "text/plain": [
       "-0.94990756379143448"
      ]
     },
     "execution_count": 39,
     "metadata": {},
     "output_type": "execute_result"
    }
   ],
   "source": [
    "ols.intercept_"
   ]
  },
  {
   "cell_type": "code",
   "execution_count": 18,
   "metadata": {
    "collapsed": false
   },
   "outputs": [
    {
     "data": {
      "text/plain": [
       "[('MANGROVE_MOUNTAIN', -0.12879947883257473),\n",
       " ('GOSFORD', 0.24415385185495514),\n",
       " ('SPRINGWOOD', 0.10288149024740097),\n",
       " ('SYDNEY_AIRPORT', -0.11926216821991457),\n",
       " ('TERREY_HILLS', 0.064359379919626689),\n",
       " ('PARRAMATTA_NORTH', 0.3459406153572801),\n",
       " ('BANKSTOWN_AIRPORT', 0.077985674795939181),\n",
       " ('HOLSWORTHY_AERODROME', 0.0034115498757775059),\n",
       " ('CANTERBURY_RACECOURSE', 0.095644702288823574),\n",
       " ('SYDNEY_HARBOUR', 0.45071336484252011),\n",
       " ('PROSPECT_RESERVOIR', -0.1098342910953059),\n",
       " ('RICHMOND_RAAF', 0.039378572206224399),\n",
       " ('BADGERYS_CREEK', 0.091042803248839219),\n",
       " ('PENRITH_LAKES', 0.039832599818054093),\n",
       " ('HORSLEY_PARK_EQUESTRIAN_CENTRE', -0.34210625108738735),\n",
       " ('CAMDEN_AIRPORT', -0.059340296153594416),\n",
       " ('BELLAMBI', 0.10911455589786036),\n",
       " ('PORT_KEMBLA_NTC', 0.0094989179943241742),\n",
       " ('CAMPBELLTOWN', 0.16309841960849264)]"
      ]
     },
     "execution_count": 18,
     "metadata": {},
     "output_type": "execute_result"
    }
   ],
   "source": [
    "zip(not_sydney, ols.coef_)\n",
    "#what is this saying?\n",
    "#method for calculating temp in Sydney based on temp everywhere else\n",
    "#Biggest numbers: Sydney harbour + Parramatta = best predictors\n",
    "#Negative means it's more extreme"
   ]
  },
  {
   "cell_type": "code",
   "execution_count": 24,
   "metadata": {
    "collapsed": false
   },
   "outputs": [],
   "source": [
    "#let's do a lasso of this\n",
    "#lamda/alpha - how much will I punish an coefficient?\n",
    "#I know mean square error will be significant\n",
    "#let's try alpha of 0.5, we'll try a couple of these\n",
    "lasso = sklearn.linear_model.Lasso(alpha=0.5)"
   ]
  },
  {
   "cell_type": "code",
   "execution_count": 25,
   "metadata": {
    "collapsed": false
   },
   "outputs": [
    {
     "data": {
      "text/plain": [
       "Lasso(alpha=0.5, copy_X=True, fit_intercept=True, max_iter=1000,\n",
       "   normalize=False, positive=False, precompute=False, random_state=None,\n",
       "   selection='cyclic', tol=0.0001, warm_start=False)"
      ]
     },
     "execution_count": 25,
     "metadata": {},
     "output_type": "execute_result"
    }
   ],
   "source": [
    "lasso.fit(weather[not_sydney], weather.SYDNEY)"
   ]
  },
  {
   "cell_type": "code",
   "execution_count": 26,
   "metadata": {
    "collapsed": false
   },
   "outputs": [
    {
     "data": {
      "text/plain": [
       "[('MANGROVE_MOUNTAIN', 0.0),\n",
       " ('GOSFORD', 0.098998458154712837),\n",
       " ('SPRINGWOOD', 0.095033333829785502),\n",
       " ('SYDNEY_AIRPORT', 0.0),\n",
       " ('TERREY_HILLS', 0.11491999188069502),\n",
       " ('PARRAMATTA_NORTH', 0.081232348373841287),\n",
       " ('BANKSTOWN_AIRPORT', 0.12172997722295573),\n",
       " ('HOLSWORTHY_AERODROME', 0.0),\n",
       " ('CANTERBURY_RACECOURSE', 0.021909137742034054),\n",
       " ('SYDNEY_HARBOUR', 0.36391928370945181),\n",
       " ('PROSPECT_RESERVOIR', 0.0),\n",
       " ('RICHMOND_RAAF', 0.0),\n",
       " ('BADGERYS_CREEK', 0.025431054981576887),\n",
       " ('PENRITH_LAKES', 0.0059692647104808679),\n",
       " ('HORSLEY_PARK_EQUESTRIAN_CENTRE', 0.0),\n",
       " ('CAMDEN_AIRPORT', 0.0),\n",
       " ('BELLAMBI', 0.0),\n",
       " ('PORT_KEMBLA_NTC', 0.062156209006844119),\n",
       " ('CAMPBELLTOWN', 0.0)]"
      ]
     },
     "execution_count": 26,
     "metadata": {},
     "output_type": "execute_result"
    }
   ],
   "source": [
    "zip(not_sydney, lasso.coef_)"
   ]
  },
  {
   "cell_type": "code",
   "execution_count": 28,
   "metadata": {
    "collapsed": false
   },
   "outputs": [
    {
     "data": {
      "text/plain": [
       "0.99129905961237819"
      ]
     },
     "execution_count": 28,
     "metadata": {},
     "output_type": "execute_result"
    }
   ],
   "source": [
    "#coefficients should add up close to 1\n",
    "lasso.coef_.sum()"
   ]
  },
  {
   "cell_type": "code",
   "execution_count": 33,
   "metadata": {
    "collapsed": true
   },
   "outputs": [],
   "source": [
    "#what happens if alpha is higher?\n",
    "lasso = sklearn.linear_model.Lasso(alpha=10)"
   ]
  },
  {
   "cell_type": "code",
   "execution_count": 34,
   "metadata": {
    "collapsed": false
   },
   "outputs": [
    {
     "data": {
      "text/plain": [
       "Lasso(alpha=10, copy_X=True, fit_intercept=True, max_iter=1000,\n",
       "   normalize=False, positive=False, precompute=False, random_state=None,\n",
       "   selection='cyclic', tol=0.0001, warm_start=False)"
      ]
     },
     "execution_count": 34,
     "metadata": {},
     "output_type": "execute_result"
    }
   ],
   "source": [
    "lasso.fit(weather[not_sydney], weather.SYDNEY)"
   ]
  },
  {
   "cell_type": "code",
   "execution_count": 35,
   "metadata": {
    "collapsed": false
   },
   "outputs": [
    {
     "data": {
      "text/plain": [
       "[('MANGROVE_MOUNTAIN', 0.0),\n",
       " ('GOSFORD', 0.0),\n",
       " ('SPRINGWOOD', 0.0),\n",
       " ('SYDNEY_AIRPORT', 0.0),\n",
       " ('TERREY_HILLS', 0.0),\n",
       " ('PARRAMATTA_NORTH', 0.0),\n",
       " ('BANKSTOWN_AIRPORT', 0.0),\n",
       " ('HOLSWORTHY_AERODROME', 0.0),\n",
       " ('CANTERBURY_RACECOURSE', 0.0),\n",
       " ('SYDNEY_HARBOUR', 0.0),\n",
       " ('PROSPECT_RESERVOIR', 0.1890520246490088),\n",
       " ('RICHMOND_RAAF', 0.0),\n",
       " ('BADGERYS_CREEK', 0.0),\n",
       " ('PENRITH_LAKES', 0.27590119267898588),\n",
       " ('HORSLEY_PARK_EQUESTRIAN_CENTRE', 0.0),\n",
       " ('CAMDEN_AIRPORT', 0.0),\n",
       " ('BELLAMBI', 0.0),\n",
       " ('PORT_KEMBLA_NTC', 0.0),\n",
       " ('CAMPBELLTOWN', 0.0)]"
      ]
     },
     "execution_count": 35,
     "metadata": {},
     "output_type": "execute_result"
    }
   ],
   "source": [
    "zip(not_sydney, lasso.coef_)"
   ]
  },
  {
   "cell_type": "code",
   "execution_count": 36,
   "metadata": {
    "collapsed": false
   },
   "outputs": [
    {
     "data": {
      "text/plain": [
       "0.46495321732799466"
      ]
     },
     "execution_count": 36,
     "metadata": {},
     "output_type": "execute_result"
    }
   ],
   "source": [
    "lasso.coef_.sum()"
   ]
  },
  {
   "cell_type": "code",
   "execution_count": 37,
   "metadata": {
    "collapsed": false
   },
   "outputs": [
    {
     "data": {
      "text/plain": [
       "12.336907102485419"
      ]
     },
     "execution_count": 37,
     "metadata": {},
     "output_type": "execute_result"
    }
   ],
   "source": [
    "lasso.intercept_"
   ]
  },
  {
   "cell_type": "code",
   "execution_count": 40,
   "metadata": {
    "collapsed": true
   },
   "outputs": [],
   "source": [
    "predictions = lasso.predict(weather[not_sydney])"
   ]
  },
  {
   "cell_type": "code",
   "execution_count": 42,
   "metadata": {
    "collapsed": true
   },
   "outputs": [],
   "source": [
    "%matplotlib inline\n",
    "import matplotlib.pyplot as plt"
   ]
  },
  {
   "cell_type": "code",
   "execution_count": 44,
   "metadata": {
    "collapsed": false
   },
   "outputs": [
    {
     "data": {
      "text/plain": [
       "<matplotlib.collections.PathCollection at 0x1176b0590>"
      ]
     },
     "execution_count": 44,
     "metadata": {},
     "output_type": "execute_result"
    },
    {
     "data": {
      "image/png": "[encoded data removed]",
      "text/plain": [
       "<matplotlib.figure.Figure at 0x117647b10>"
      ]
     },
     "metadata": {},
     "output_type": "display_data"
    }
   ],
   "source": [
    "plt.scatter(weather.SYDNEY, predictions)\n",
    "#didn't do a great job, just got the 20s - 25s right, but 40 degree was predicted as 32 degrees, and 15 was predicted as 18"
   ]
  },
  {
   "cell_type": "code",
   "execution_count": 45,
   "metadata": {
    "collapsed": true
   },
   "outputs": [],
   "source": [
    "#let's compare that with our first ols model"
   ]
  },
  {
   "cell_type": "code",
   "execution_count": 46,
   "metadata": {
    "collapsed": true
   },
   "outputs": [],
   "source": [
    "ols_predictions = ols.predict(weather[not_sydney])"
   ]
  },
  {
   "cell_type": "code",
   "execution_count": 47,
   "metadata": {
    "collapsed": false
   },
   "outputs": [
    {
     "data": {
      "text/plain": [
       "<matplotlib.collections.PathCollection at 0x11784c390>"
      ]
     },
     "execution_count": 47,
     "metadata": {},
     "output_type": "execute_result"
    },
    {
     "data": {
      "image/png": "[encoded data removed]",
      "text/plain": [
       "<matplotlib.figure.Figure at 0x1177a1690>"
      ]
     },
     "metadata": {},
     "output_type": "display_data"
    }
   ],
   "source": [
    "plt.scatter(weather.SYDNEY, ols_predictions)"
   ]
  },
  {
   "cell_type": "code",
   "execution_count": 48,
   "metadata": {
    "collapsed": true
   },
   "outputs": [],
   "source": [
    "#that looks pretty good, can predict Sydney weather by just looking at all the other columns"
   ]
  },
  {
   "cell_type": "code",
   "execution_count": 52,
   "metadata": {
    "collapsed": false
   },
   "outputs": [
    {
     "data": {
      "text/plain": [
       "0.97608697239742448"
      ]
     },
     "execution_count": 52,
     "metadata": {},
     "output_type": "execute_result"
    }
   ],
   "source": [
    "ols.score(weather[not_sydney], weather.SYDNEY)"
   ]
  },
  {
   "cell_type": "code",
   "execution_count": 53,
   "metadata": {
    "collapsed": false
   },
   "outputs": [
    {
     "data": {
      "text/plain": [
       "0.78909985440835895"
      ]
     },
     "execution_count": 53,
     "metadata": {},
     "output_type": "execute_result"
    }
   ],
   "source": [
    "#making the model simpler but worse... but we can reduce the alpha and it does pretty well (i.e. lower it back to 0.5)\n",
    "lasso.score(weather[not_sydney], weather.SYDNEY)"
   ]
  },
  {
   "cell_type": "code",
   "execution_count": 54,
   "metadata": {
    "collapsed": true
   },
   "outputs": [],
   "source": [
    "#let's have a look at ridge regression"
   ]
  },
  {
   "cell_type": "code",
   "execution_count": 57,
   "metadata": {
    "collapsed": false
   },
   "outputs": [
    {
     "name": "stdout",
     "output_type": "stream",
     "text": [
      "0.976086196863\n"
     ]
    },
    {
     "data": {
      "text/plain": [
       "[('MANGROVE_MOUNTAIN', -0.12736638418923249),\n",
       " ('GOSFORD', 0.24253643607592043),\n",
       " ('SPRINGWOOD', 0.10253285333480786),\n",
       " ('SYDNEY_AIRPORT', -0.11803830871423134),\n",
       " ('TERREY_HILLS', 0.065103371573054597),\n",
       " ('PARRAMATTA_NORTH', 0.33998607599617814),\n",
       " ('BANKSTOWN_AIRPORT', 0.077980234959811212),\n",
       " ('HOLSWORTHY_AERODROME', 0.0035005185914806689),\n",
       " ('CANTERBURY_RACECOURSE', 0.096789477876794275),\n",
       " ('SYDNEY_HARBOUR', 0.44901363963036045),\n",
       " ('PROSPECT_RESERVOIR', -0.11005187956775996),\n",
       " ('RICHMOND_RAAF', 0.039583510123115097),\n",
       " ('BADGERYS_CREEK', 0.088861129144831935),\n",
       " ('PENRITH_LAKES', 0.039420267901274571),\n",
       " ('HORSLEY_PARK_EQUESTRIAN_CENTRE', -0.33400640372566304),\n",
       " ('CAMDEN_AIRPORT', -0.05737982875598889),\n",
       " ('BELLAMBI', 0.10737761376869658),\n",
       " ('PORT_KEMBLA_NTC', 0.012070731842536351),\n",
       " ('CAMPBELLTOWN', 0.15950069093315725)]"
      ]
     },
     "execution_count": 57,
     "metadata": {},
     "output_type": "execute_result"
    }
   ],
   "source": [
    "ridge = sklearn.linear_model.Ridge(alpha=0.5)\n",
    "ridge.fit(weather[not_sydney], weather.SYDNEY)\n",
    "print ridge.score(weather[not_sydney], weather.SYDNEY)\n",
    "zip(not_sydney, ridge.coef_)\n",
    "#the alpha is too small.. not really affecting anything"
   ]
  },
  {
   "cell_type": "code",
   "execution_count": 65,
   "metadata": {
    "collapsed": false
   },
   "outputs": [
    {
     "name": "stdout",
     "output_type": "stream",
     "text": [
      "0.946459554872\n"
     ]
    },
    {
     "data": {
      "text/plain": [
       "[('MANGROVE_MOUNTAIN', 0.042918908739554125),\n",
       " ('GOSFORD', 0.044656145062386444),\n",
       " ('SPRINGWOOD', 0.043373747470282699),\n",
       " ('SYDNEY_AIRPORT', 0.042324193090935547),\n",
       " ('TERREY_HILLS', 0.044942776436765156),\n",
       " ('PARRAMATTA_NORTH', 0.042065061227700831),\n",
       " ('BANKSTOWN_AIRPORT', 0.043549411089491931),\n",
       " ('HOLSWORTHY_AERODROME', 0.042536755555108927),\n",
       " ('CANTERBURY_RACECOURSE', 0.042350076596856891),\n",
       " ('SYDNEY_HARBOUR', 0.043743561905719618),\n",
       " ('PROSPECT_RESERVOIR', 0.041508929992956099),\n",
       " ('RICHMOND_RAAF', 0.04219849946877987),\n",
       " ('BADGERYS_CREEK', 0.041684031796891868),\n",
       " ('PENRITH_LAKES', 0.042142549273784448),\n",
       " ('HORSLEY_PARK_EQUESTRIAN_CENTRE', 0.039675320000894042),\n",
       " ('CAMDEN_AIRPORT', 0.040804323775976696),\n",
       " ('BELLAMBI', 0.038406232571144248),\n",
       " ('PORT_KEMBLA_NTC', 0.039886633784927496),\n",
       " ('CAMPBELLTOWN', 0.039939964249879251)]"
      ]
     },
     "execution_count": 65,
     "metadata": {},
     "output_type": "execute_result"
    }
   ],
   "source": [
    "ridge = sklearn.linear_model.Ridge(alpha=10000)\n",
    "ridge.fit(weather[not_sydney], weather.SYDNEY)\n",
    "print ridge.score(weather[not_sydney], weather.SYDNEY)\n",
    "zip(not_sydney, ridge.coef_)"
   ]
  },
  {
   "cell_type": "code",
   "execution_count": 66,
   "metadata": {
    "collapsed": false
   },
   "outputs": [
    {
     "data": {
      "text/plain": [
       "4.835665017671527"
      ]
     },
     "execution_count": 66,
     "metadata": {},
     "output_type": "execute_result"
    }
   ],
   "source": [
    "ridge.intercept_"
   ]
  },
  {
   "cell_type": "code",
   "execution_count": 67,
   "metadata": {
    "collapsed": true
   },
   "outputs": [],
   "source": [
    "#what this means: take 5degrees, and add average of all the other temperatures and the data for Sydney will be 95% right\n",
    "#Less complex, bias goes down, variance goes up"
   ]
  },
  {
   "cell_type": "code",
   "execution_count": 70,
   "metadata": {
    "collapsed": false
   },
   "outputs": [
    {
     "name": "stdout",
     "output_type": "stream",
     "text": [
      "0.972895916819\n"
     ]
    },
    {
     "data": {
      "text/plain": [
       "[('MANGROVE_MOUNTAIN', 0.0),\n",
       " ('GOSFORD', 0.12524722231564625),\n",
       " ('SPRINGWOOD', 0.057364179400611483),\n",
       " ('SYDNEY_AIRPORT', 0.0),\n",
       " ('TERREY_HILLS', 0.090276867978467637),\n",
       " ('PARRAMATTA_NORTH', 0.064431183727590297),\n",
       " ('BANKSTOWN_AIRPORT', 0.050789042717539389),\n",
       " ('HOLSWORTHY_AERODROME', 0.0),\n",
       " ('CANTERBURY_RACECOURSE', 0.078565684069770547),\n",
       " ('SYDNEY_HARBOUR', 0.31325190149040921),\n",
       " ('PROSPECT_RESERVOIR', 0.0),\n",
       " ('RICHMOND_RAAF', 0.018401622023655799),\n",
       " ('BADGERYS_CREEK', 0.018951401730826562),\n",
       " ('PENRITH_LAKES', 0.014672688159807433),\n",
       " ('HORSLEY_PARK_EQUESTRIAN_CENTRE', 0.0),\n",
       " ('CAMDEN_AIRPORT', 0.0),\n",
       " ('BELLAMBI', 0.047765361669624744),\n",
       " ('PORT_KEMBLA_NTC', 0.12557390611537902),\n",
       " ('CAMPBELLTOWN', 0.025878169677887357)]"
      ]
     },
     "execution_count": 70,
     "metadata": {},
     "output_type": "execute_result"
    }
   ],
   "source": [
    "#elastic net is a combination of ridge & lasso. Does both and is better\n",
    "#l1_ratio is equivalent of setting ratio\n",
    "elastic_net = sklearn.linear_model.ElasticNetCV(l1_ratio = 0.1)\n",
    "elastic_net.fit(weather[not_sydney], weather.SYDNEY)\n",
    "print elastic_net.score(weather[not_sydney], weather.SYDNEY)\n",
    "zip(not_sydney, elastic_net.coef_)"
   ]
  },
  {
   "cell_type": "code",
   "execution_count": 71,
   "metadata": {
    "collapsed": false
   },
   "outputs": [
    {
     "data": {
      "text/plain": [
       "0.054104282867298958"
      ]
     },
     "execution_count": 71,
     "metadata": {},
     "output_type": "execute_result"
    }
   ],
   "source": [
    "elastic_net.alpha_ * elastic_net.l1_ratio_"
   ]
  },
  {
   "cell_type": "code",
   "execution_count": 72,
   "metadata": {
    "collapsed": false
   },
   "outputs": [
    {
     "data": {
      "text/plain": [
       "0.54104282867298958"
      ]
     },
     "execution_count": 72,
     "metadata": {},
     "output_type": "execute_result"
    }
   ],
   "source": [
    "elastic_net.alpha_"
   ]
  },
  {
   "cell_type": "code",
   "execution_count": null,
   "metadata": {
    "collapsed": true
   },
   "outputs": [],
   "source": []
  }
 ],
 "metadata": {
  "kernelspec": {
   "display_name": "Python 2",
   "language": "python",
   "name": "python2"
  },
  "language_info": {
   "codemirror_mode": {
    "name": "ipython",
    "version": 2
   },
   "file_extension": ".py",
   "mimetype": "text/x-python",
   "name": "python",
   "nbconvert_exporter": "python",
   "pygments_lexer": "ipython2",
   "version": "2.7.11"
  }
 },
 "nbformat": 4,
 "nbformat_minor": 0
}
