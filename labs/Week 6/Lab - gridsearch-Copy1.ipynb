{
 "cells": [
  {
   "cell_type": "markdown",
   "metadata": {},
   "source": [
    "# GridSearch\n",
    "\n",
    "In this lab we will try to find the visualise the effect of increasing\n",
    "depth in a decision tree, and then try to create the best possible decision tree.\n"
   ]
  },
  {
   "cell_type": "code",
   "execution_count": 1,
   "metadata": {
    "collapsed": false
   },
   "outputs": [],
   "source": [
    "# Do the usual tasks to load the Titanic data\n",
    "import pandas\n",
    "titanic = pandas.read_csv('../../data/titanic.csv', index_col='PassengerId')\n",
    "titanic['Gender'] = [0 if x == 'male' else 1 for x in titanic.Sex]\n",
    "feature_cols = ['Pclass', 'Parch', 'Age', 'Gender']\n",
    "good_data = titanic[titanic.Age.notnull()]\n",
    "X = good_data[feature_cols]\n",
    "y = good_data.Survived"
   ]
  },
  {
   "cell_type": "code",
   "execution_count": 2,
   "metadata": {
    "collapsed": true
   },
   "outputs": [],
   "source": [
    "# Import the sklearn libraries for grid_search and tree\n",
    "import sklearn.tree\n",
    "import sklearn.grid_search"
   ]
  },
  {
   "cell_type": "code",
   "execution_count": 3,
   "metadata": {
    "collapsed": true
   },
   "outputs": [],
   "source": [
    "# Create a decision tree classifier\n",
    "c = sklearn.tree.DecisionTreeClassifier()"
   ]
  },
  {
   "cell_type": "code",
   "execution_count": 5,
   "metadata": {
    "collapsed": false
   },
   "outputs": [],
   "source": [
    "# Initially, we will just explore the effect of increasing\n",
    "# the max_depth parameter.\n",
    "# Create a dictionary which has a key of 'max_depth' and\n",
    "# a value of the numbers between 1 and 20\n",
    "params = {'max_depth': range(1,20)}"
   ]
  },
  {
   "cell_type": "code",
   "execution_count": 6,
   "metadata": {
    "collapsed": true
   },
   "outputs": [],
   "source": [
    "# Create a GridSearchCV object. It will need two parameters:\n",
    "# - the decision tree classifier (from two cells back)\n",
    "# - the parameters dictionary (from the previous cell)\n",
    "# There is an optional \"cv\" parameter which you might want\n",
    "# to explore later.\n",
    "brute_force = sklearn.grid_search.GridSearchCV(c, params)"
   ]
  },
  {
   "cell_type": "code",
   "execution_count": 7,
   "metadata": {
    "collapsed": false
   },
   "outputs": [
    {
     "data": {
      "text/plain": [
       "GridSearchCV(cv=None, error_score='raise',\n",
       "       estimator=DecisionTreeClassifier(class_weight=None, criterion='gini', max_depth=None,\n",
       "            max_features=None, max_leaf_nodes=None, min_samples_leaf=1,\n",
       "            min_samples_split=2, min_weight_fraction_leaf=0.0,\n",
       "            presort=False, random_state=None, splitter='best'),\n",
       "       fit_params={}, iid=True, n_jobs=1,\n",
       "       param_grid={'max_depth': [1, 2, 3, 4, 5, 6, 7, 8, 9, 10, 11, 12, 13, 14, 15, 16, 17, 18, 19]},\n",
       "       pre_dispatch='2*n_jobs', refit=True, scoring=None, verbose=0)"
      ]
     },
     "execution_count": 7,
     "metadata": {},
     "output_type": "execute_result"
    }
   ],
   "source": [
    "# Use the GridSearchCV to fit the X and y data\n",
    "brute_force.fit(X, y)"
   ]
  },
  {
   "cell_type": "code",
   "execution_count": 8,
   "metadata": {
    "collapsed": false
   },
   "outputs": [
    {
     "data": {
      "text/plain": [
       "{'max_depth': 2}"
      ]
     },
     "execution_count": 8,
     "metadata": {},
     "output_type": "execute_result"
    }
   ],
   "source": [
    "# What does the best_params_ attribute say?\n",
    "brute_force.best_params_"
   ]
  },
  {
   "cell_type": "code",
   "execution_count": 9,
   "metadata": {
    "collapsed": false
   },
   "outputs": [
    {
     "data": {
      "text/plain": [
       "0.79411764705882348"
      ]
     },
     "execution_count": 9,
     "metadata": {},
     "output_type": "execute_result"
    }
   ],
   "source": [
    "# What about the best_score_ attribute?\n",
    "brute_force.best_score_"
   ]
  },
  {
   "cell_type": "code",
   "execution_count": 10,
   "metadata": {
    "collapsed": false
   },
   "outputs": [
    {
     "data": {
      "text/plain": [
       "[mean: 0.78011, std: 0.01121, params: {'max_depth': 1},\n",
       " mean: 0.79412, std: 0.01436, params: {'max_depth': 2},\n",
       " mean: 0.77171, std: 0.02918, params: {'max_depth': 3},\n",
       " mean: 0.77451, std: 0.03016, params: {'max_depth': 4},\n",
       " mean: 0.78151, std: 0.02200, params: {'max_depth': 5},\n",
       " mean: 0.79132, std: 0.01000, params: {'max_depth': 6},\n",
       " mean: 0.77731, std: 0.01496, params: {'max_depth': 7},\n",
       " mean: 0.78431, std: 0.02158, params: {'max_depth': 8},\n",
       " mean: 0.78151, std: 0.01838, params: {'max_depth': 9},\n",
       " mean: 0.79412, std: 0.01988, params: {'max_depth': 10},\n",
       " mean: 0.78711, std: 0.01653, params: {'max_depth': 11},\n",
       " mean: 0.78151, std: 0.02015, params: {'max_depth': 12},\n",
       " mean: 0.79132, std: 0.00645, params: {'max_depth': 13},\n",
       " mean: 0.78571, std: 0.01426, params: {'max_depth': 14},\n",
       " mean: 0.78711, std: 0.01229, params: {'max_depth': 15},\n",
       " mean: 0.78571, std: 0.01716, params: {'max_depth': 16},\n",
       " mean: 0.78711, std: 0.01518, params: {'max_depth': 17},\n",
       " mean: 0.78711, std: 0.01518, params: {'max_depth': 18},\n",
       " mean: 0.79272, std: 0.00730, params: {'max_depth': 19}]"
      ]
     },
     "execution_count": 10,
     "metadata": {},
     "output_type": "execute_result"
    }
   ],
   "source": [
    "# We can see how this compares with other values.\n",
    "# The grid_scores_ attribute of the GridSearchCV object\n",
    "# is now a list. Print it out\n",
    "brute_force.grid_scores_"
   ]
  },
  {
   "cell_type": "code",
   "execution_count": 32,
   "metadata": {
    "collapsed": false
   },
   "outputs": [
    {
     "data": {
      "text/plain": [
       "[0.78011204481792717,\n",
       " 0.79411764705882348,\n",
       " 0.77170868347338939,\n",
       " 0.77450980392156865,\n",
       " 0.78151260504201681,\n",
       " 0.79131652661064422,\n",
       " 0.77731092436974791,\n",
       " 0.78431372549019607,\n",
       " 0.78151260504201681,\n",
       " 0.79411764705882348,\n",
       " 0.78711484593837533,\n",
       " 0.78151260504201681,\n",
       " 0.79131652661064422,\n",
       " 0.7857142857142857,\n",
       " 0.78711484593837533,\n",
       " 0.7857142857142857,\n",
       " 0.78711484593837533,\n",
       " 0.78711484593837533,\n",
       " 0.79271708683473385]"
      ]
     },
     "execution_count": 32,
     "metadata": {},
     "output_type": "execute_result"
    }
   ],
   "source": [
    "# Each element of this list is a 3-tuple. The middle element\n",
    "# is the score. You can use\n",
    "#  [x[1] for result in YOUR_GRID_VARIABLE.grid_scores_]\n",
    "# to display it\n",
    "x = brute_force.grid_scores_\n",
    "li = []\n",
    "for i in range(0, len(x)):\n",
    "    li.append(x[i][1])\n",
    "li"
   ]
  },
  {
   "cell_type": "code",
   "execution_count": 14,
   "metadata": {
    "collapsed": true
   },
   "outputs": [],
   "source": [
    "# Import matplotlib.pyplot; remember to do %matplotlib inline first\n",
    "%matplotlib inline\n",
    "import matplotlib.pyplot"
   ]
  },
  {
   "cell_type": "code",
   "execution_count": 16,
   "metadata": {
    "collapsed": false
   },
   "outputs": [
    {
     "ename": "AttributeError",
     "evalue": "'list' object has no attribute 'plot'",
     "output_type": "error",
     "traceback": [
      "\u001b[0;31m---------------------------------------------------------------------------\u001b[0m",
      "\u001b[0;31mAttributeError\u001b[0m                            Traceback (most recent call last)",
      "\u001b[0;32m<ipython-input-16-9cd29d75db3a>\u001b[0m in \u001b[0;36m<module>\u001b[0;34m()\u001b[0m\n\u001b[1;32m      3\u001b[0m \u001b[0;31m# a marker on the best_score (pass 'ro' as the third argument\u001b[0m\u001b[0;34m\u001b[0m\u001b[0;34m\u001b[0m\u001b[0m\n\u001b[1;32m      4\u001b[0m \u001b[0;31m# to get a red circle on it)\u001b[0m\u001b[0;34m\u001b[0m\u001b[0;34m\u001b[0m\u001b[0m\n\u001b[0;32m----> 5\u001b[0;31m \u001b[0mbrute_force\u001b[0m\u001b[0;34m.\u001b[0m\u001b[0mgrid_scores_\u001b[0m\u001b[0;34m.\u001b[0m\u001b[0mplot\u001b[0m\u001b[0;34m.\u001b[0m\u001b[0mscatter\u001b[0m\u001b[0;34m(\u001b[0m\u001b[0;34m)\u001b[0m\u001b[0;34m\u001b[0m\u001b[0m\n\u001b[0m",
      "\u001b[0;31mAttributeError\u001b[0m: 'list' object has no attribute 'plot'"
     ]
    }
   ],
   "source": [
    "# Use matplotlib.pyplot.plot to plot these grid_scores_\n",
    "# Once you have that working, use pyplot.plot to also add\n",
    "# a marker on the best_score (pass 'ro' as the third argument\n",
    "# to get a red circle on it)\n",
    "brute_force.grid_scores_.plot.scatter(x)"
   ]
  },
  {
   "cell_type": "code",
   "execution_count": null,
   "metadata": {
    "collapsed": true
   },
   "outputs": [],
   "source": [
    "# If you have Graphviz and pydot installed and working,\n",
    "# display the resulting decision tree"
   ]
  },
  {
   "cell_type": "markdown",
   "metadata": {},
   "source": [
    "## Brute-force every option (optional)"
   ]
  },
  {
   "cell_type": "code",
   "execution_count": null,
   "metadata": {
    "collapsed": true
   },
   "outputs": [],
   "source": [
    "# Create a new GridSearchCV object and a new parameters\n",
    "# dictionary. This time, try all combinations of parameters\n",
    "# max_features (from 1 to 4 inclusive), max_depth (from 1 to 20)\n",
    "# criterion ('gini' or 'entropy').\n",
    "# What is the best decision tree you can make?"
   ]
  }
 ],
 "metadata": {
  "kernelspec": {
   "display_name": "Python 2",
   "language": "python",
   "name": "python2"
  },
  "language_info": {
   "codemirror_mode": {
    "name": "ipython",
    "version": 2
   },
   "file_extension": ".py",
   "mimetype": "text/x-python",
   "name": "python",
   "nbconvert_exporter": "python",
   "pygments_lexer": "ipython2",
   "version": "2.7.11"
  }
 },
 "nbformat": 4,
 "nbformat_minor": 0
}
